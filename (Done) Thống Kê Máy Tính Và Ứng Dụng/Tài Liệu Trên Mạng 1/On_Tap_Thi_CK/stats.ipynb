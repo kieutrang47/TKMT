{
 "cells": [
  {
   "cell_type": "code",
   "execution_count": 5,
   "metadata": {},
   "outputs": [],
   "source": [
    "import numpy as np\n",
    "import scipy.stats as st\n"
   ]
  },
  {
   "cell_type": "code",
   "execution_count": 10,
   "metadata": {},
   "outputs": [
    {
     "data": {
      "text/plain": [
       "1.959963984540054"
      ]
     },
     "execution_count": 10,
     "metadata": {},
     "output_type": "execute_result"
    }
   ],
   "source": [
    "st.norm.ppf(0.975, 0, 1)"
   ]
  },
  {
   "cell_type": "code",
   "execution_count": 13,
   "metadata": {},
   "outputs": [
    {
     "data": {
      "text/plain": [
       "1.6448536269514722"
      ]
     },
     "execution_count": 13,
     "metadata": {},
     "output_type": "execute_result"
    }
   ],
   "source": [
    "Z = st.norm.ppf(1-(1-0.9)/2)\n",
    "Z"
   ]
  },
  {
   "cell_type": "code",
   "execution_count": 20,
   "metadata": {},
   "outputs": [
    {
     "data": {
      "text/plain": [
       "(0.22154131098514196, 0.5784586890148581)"
      ]
     },
     "execution_count": 20,
     "metadata": {},
     "output_type": "execute_result"
    }
   ],
   "source": [
    "#https://blog.vietnamlab.vn/toan-thong-ke-2/\n",
    "from scipy import stats\n",
    "from math import sqrt\n",
    "import matplotlib.pyplot as plt\n",
    "import numpy as np\n",
    "\n",
    "# Số dữ liệu trong mẫu\n",
    "sample_size = 50\n",
    "# Tính Tỷ lệ mẫu\n",
    "sample_proportion = 20/sample_size\n",
    "# Mức tin cậy\n",
    "confidence_level = 0.99\n",
    "\n",
    "# Tính độ lệch chuẩn cho tỷ lệ mẫu\n",
    "std_dev = sqrt((sample_proportion * (1 - sample_proportion))/50)\n",
    "std_dev # 0.06928203230275509\n",
    "\n",
    "upper_probability = (1 - confidence_level)/2\n",
    "upper_probability # 0.0050000000000000044\n",
    "\n",
    "# Tính z score bằng diện tích dưới đường cong (xác xuất dữ liệu nằm trong khoảng giá trị trong phân phối chuẩn)\n",
    "# ppf là hàm ngược của norm cdf (dùng để tính diện tích dưới đường cong từ z-score). Một cách nữa là sử dụng z-table để lấy z-score từ diện tích dưới đường cong (không đề cập trong bài viết này)\n",
    "z_star =  stats.norm.ppf(1 - upper_probability)\n",
    "z_star # 2.5758293035489004\n",
    "\n",
    "\n",
    "# Tính giới hạn lỗi \n",
    "margin_of_error = z_star * std_dev\n",
    "margin_of_error # 0.17845868901485806\n",
    "\n",
    "# Tính khoảng cách tin cậy\n",
    "confidence_interval = (sample_proportion - margin_of_error, sample_proportion + margin_of_error)\n",
    "confidence_interval # (0.22154131098514196, 0.5784586890148581)\n",
    "\n"
   ]
  },
  {
   "cell_type": "code",
   "execution_count": 15,
   "metadata": {},
   "outputs": [
    {
     "data": {
      "text/plain": [
       "0.4"
      ]
     },
     "execution_count": 15,
     "metadata": {},
     "output_type": "execute_result"
    }
   ],
   "source": [
    "sample_proportion"
   ]
  },
  {
   "cell_type": "code",
   "execution_count": null,
   "metadata": {},
   "outputs": [],
   "source": []
  },
  {
   "cell_type": "code",
   "execution_count": null,
   "metadata": {},
   "outputs": [],
   "source": []
  },
  {
   "cell_type": "code",
   "execution_count": null,
   "metadata": {},
   "outputs": [],
   "source": []
  }
 ],
 "metadata": {
  "kernelspec": {
   "display_name": "Python 3",
   "language": "python",
   "name": "python3"
  },
  "language_info": {
   "codemirror_mode": {
    "name": "ipython",
    "version": 3
   },
   "file_extension": ".py",
   "mimetype": "text/x-python",
   "name": "python",
   "nbconvert_exporter": "python",
   "pygments_lexer": "ipython3",
   "version": "3.8.5"
  }
 },
 "nbformat": 4,
 "nbformat_minor": 4
}
