{
 "cells": [
  {
   "cell_type": "code",
   "execution_count": 5,
   "metadata": {},
   "outputs": [
    {
     "name": "stdout",
     "output_type": "stream",
     "text": [
      "a =[[ 23 402]\n",
      " [ 69 221]\n",
      " [ 11 235]]\n"
     ]
    }
   ],
   "source": [
    "import numpy as np\n",
    "a = np.array([[23, 402],[69, 221], [11, 235]])\n",
    "print(\"a ={}\".format(a))"
   ]
  },
  {
   "cell_type": "code",
   "execution_count": 11,
   "metadata": {},
   "outputs": [
    {
     "name": "stdout",
     "output_type": "stream",
     "text": [
      " e i g e n v a l u e s :[1. 2. 3.]\n",
      " e i g e n v e c t o r s :[[1. 0. 0.]\n",
      " [0. 1. 0.]\n",
      " [0. 0. 1.]] \n"
     ]
    }
   ],
   "source": [
    "import numpy as np\n",
    "m1 = np.diag ( ( ( 1 , 2 , 3 ) ) )\n",
    "w, v = np.linalg.eig (m1)\n",
    "print( \" e i g e n v a l u e s :{}\". format (w)) \n",
    "print ( \" e i g e n v e c t o r s :{} \" . format ( v ) )"
   ]
  }
 ],
 "metadata": {
  "kernelspec": {
   "display_name": "Python 3",
   "language": "python",
   "name": "python3"
  },
  "language_info": {
   "codemirror_mode": {
    "name": "ipython",
    "version": 3
   },
   "file_extension": ".py",
   "mimetype": "text/x-python",
   "name": "python",
   "nbconvert_exporter": "python",
   "pygments_lexer": "ipython3",
   "version": "3.7.6"
  }
 },
 "nbformat": 4,
 "nbformat_minor": 4
}
