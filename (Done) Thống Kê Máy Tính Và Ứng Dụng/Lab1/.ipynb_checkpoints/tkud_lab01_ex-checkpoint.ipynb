{
 "cells": [
  {
   "cell_type": "markdown",
   "metadata": {
    "id": "Cj3g7_Xjv0cQ"
   },
   "source": [
    "# Lab 01 - Bài tập"
   ]
  },
  {
   "cell_type": "markdown",
   "metadata": {
    "id": "uHya_O8Nv9Bg"
   },
   "source": [
    "## PYTHON\n"
   ]
  },
  {
   "cell_type": "markdown",
   "metadata": {},
   "source": [
    "1. Viết chương trình nhập vào số nguyên n (n>0). In ra các số nguyên tố từ 1..n\n"
   ]
  },
  {
   "cell_type": "code",
   "execution_count": 16,
   "metadata": {
    "id": "AnQZ06Hxxwlo"
   },
   "outputs": [
    {
     "name": "stdin",
     "output_type": "stream",
     "text": [
      "Nhập số nguyên dương n: 12\n"
     ]
    },
    {
     "name": "stdout",
     "output_type": "stream",
     "text": [
      "Danh sách các số nguyên tố <= n: 2 3 5 7 11 "
     ]
    }
   ],
   "source": [
    "def isPrime(n):\n",
    "    for i in range(2, int(n**0.5) + 1):\n",
    "        if n % i == 0:\n",
    "            return False\n",
    "    return True\n",
    "\n",
    "def show_prime(n):\n",
    "    if not n.isdigit() or int(n) <= 0:\n",
    "        print('Lỗi: n là số nguyên dương')\n",
    "        return\n",
    "    \n",
    "    print('Danh sách các số nguyên tố <= n: ', end='')\n",
    "    for i in range(2, int(n) + 1):\n",
    "        if isPrime(i):\n",
    "            print(i, end=' ')\n",
    "\n",
    "n = input('Nhập số nguyên dương n:')\n",
    "show_prime(n)"
   ]
  },
  {
   "cell_type": "markdown",
   "metadata": {
    "id": "XpmGHRLRxx34"
   },
   "source": [
    "2. Viết chương trình nhập vào số nguyên n có 3 chữ số. Tính tổng các chữ số của n"
   ]
  },
  {
   "cell_type": "code",
   "execution_count": 63,
   "metadata": {
    "id": "AXOFJ9Iwvtvh"
   },
   "outputs": [
    {
     "name": "stdin",
     "output_type": "stream",
     "text": [
      "Nhập số nguyên n có 3 chữ số: 123\n"
     ]
    },
    {
     "data": {
      "text/plain": [
       "6"
      ]
     },
     "execution_count": 63,
     "metadata": {},
     "output_type": "execute_result"
    }
   ],
   "source": [
    "def sumOfDigit(n):\n",
    "    if not n.isdigit():\n",
    "        print('Lỗi: n là số nguyên')\n",
    "        return\n",
    "\n",
    "    n = int(n)\n",
    "    \n",
    "    if n < 100 or n > 999:\n",
    "        print('n là số nguyên có 3 chữ số')\n",
    "        return\n",
    "\n",
    "    sum = 0\n",
    "    while n > 0:\n",
    "        sum += n % 10\n",
    "        n //= 10\n",
    "\n",
    "    return sum\n",
    "\n",
    "n = input('Nhập số nguyên n có 3 chữ số:')\n",
    "sumOfDigit(n)"
   ]
  },
  {
   "cell_type": "markdown",
   "metadata": {
    "id": "oba6gvmwyFrZ"
   },
   "source": [
    "3. Viết chương trình nhập vào một dãy các số nguyên được cách nhau bởi khoảng trắng (VD: 32 8 4 6 9...) lưu vào python ở dạng mảng. Thực hiện\n",
    "\n",
    "- Xuất mảng\n",
    "- Tính tổng các phần tử của mảng\n",
    "- Tìm số lớn nhất\n",
    "- Tìm số bé nhất\n",
    "- Sắp xếp mảng theo thứ tự giảm dần\n",
    "- In ra các số chẵn trong mảng"
   ]
  },
  {
   "cell_type": "code",
   "execution_count": 62,
   "metadata": {
    "id": "9XBwANmGyFyY"
   },
   "outputs": [
    {
     "name": "stdin",
     "output_type": "stream",
     "text": [
      "Nhập dãy số nguyên cách nhau bởi khoảng trắng: 32 8 4 6 9\n"
     ]
    },
    {
     "name": "stdout",
     "output_type": "stream",
     "text": [
      "Mảng vừa nhập array: [32, 8, 4, 6, 9]\n",
      "Tổng các giá trị của array: 59\n",
      "Số lớn nhất của array: 32\n",
      "Số nhỏ nhất của array: 4\n",
      "Mảng sắp xếp giảm dần: [32, 9, 8, 6, 4]\n",
      "Danh sách các số chẵn trong mảng: [32, 8, 6, 4]\n"
     ]
    }
   ],
   "source": [
    "try:\n",
    "    array = list(map(int, input('Nhập dãy số nguyên cách nhau bởi khoảng trắng:').split()))\n",
    "    print('Mảng vừa nhập array:', array)\n",
    "    print('Tổng các giá trị của array:', sum(array))\n",
    "    print('Số lớn nhất của array:', max(array))\n",
    "    print('Số nhỏ nhất của array:', min(array))\n",
    "    array.sort(reverse=True)\n",
    "    print('Mảng sắp xếp giảm dần:', array)\n",
    "    print('Danh sách các số chẵn trong mảng:', [x for x in array if x % 2 == 0])\n",
    "except Exception as e:\n",
    "    print(e)"
   ]
  },
  {
   "cell_type": "markdown",
   "metadata": {
    "id": "hgGOt_Cxyulx"
   },
   "source": [
    "4. Viết chương trình yêu cầu người dùng nhập họ tên. Hiển thị tên người dùng sau khi đã chuẩn hóa. Biết rằng tên đã chuẩn hóa là:\n",
    "- Ký tự đầu viết hoa\n",
    "- Không có khoảng trắng thừa\n",
    "- Không có ký tự đặc biệt"
   ]
  },
  {
   "cell_type": "code",
   "execution_count": 75,
   "metadata": {
    "id": "duR4BF8Dyu_w"
   },
   "outputs": [
    {
     "name": "stdin",
     "output_type": "stream",
     "text": [
      "Nhập Họ và Tên:          trịnh       nguyễn     hoàng @@@ vũ         ......\n"
     ]
    },
    {
     "name": "stdout",
     "output_type": "stream",
     "text": [
      "Họ và Tên: Trịnh Nguyễn Hoàng Vũ\n"
     ]
    }
   ],
   "source": [
    "import re\n",
    "\n",
    "def cleanName(s):\n",
    "    s = re.sub('[^\\w\\s]', ' ', s)\n",
    "    s = ' '.join(s.split())\n",
    "    s = s.title()\n",
    "    return s\n",
    "\n",
    "fullname = input('Nhập Họ và Tên:')\n",
    "print('Họ và Tên:', cleanName(fullname))"
   ]
  },
  {
   "cell_type": "markdown",
   "metadata": {
    "id": "W5KucasA0NSA"
   },
   "source": [
    "5. Viết chương trình nhập vào một số nguyên dương (n>0). Cho biết n có phải là số đối xứng hay không? Biết số đối xứng là số viết xuôi hay viết ngược đều như nhau"
   ]
  },
  {
   "cell_type": "code",
   "execution_count": 82,
   "metadata": {
    "id": "FTH5V3je0YPg"
   },
   "outputs": [
    {
     "name": "stdin",
     "output_type": "stream",
     "text": [
      "Nhập số nguyên dương n: 12321\n"
     ]
    },
    {
     "name": "stdout",
     "output_type": "stream",
     "text": [
      "12321 là số đối xứng\n"
     ]
    }
   ],
   "source": [
    "def palindrome(n):\n",
    "    if not n.isdigit() or int(n) <= 0:\n",
    "        print('Lỗi: n là số nguyên dương')\n",
    "        return\n",
    "\n",
    "    print(n, 'là số đối xứng' if n == n[::-1] else 'không là số đối xứng')\n",
    "\n",
    "n = input('Nhập số nguyên dương n:')\n",
    "palindrome(n)"
   ]
  },
  {
   "cell_type": "markdown",
   "metadata": {},
   "source": [
    "6. Với số nguyên n nhất định, hãy viết chương trình hiển thị dictionary chứa các cặp (i, i*i) ; biết i có giá trị từ 1..n\n"
   ]
  },
  {
   "cell_type": "code",
   "execution_count": 84,
   "metadata": {},
   "outputs": [
    {
     "name": "stdin",
     "output_type": "stream",
     "text": [
      "Nhập số nguyên dương n: 5\n"
     ]
    },
    {
     "name": "stdout",
     "output_type": "stream",
     "text": [
      "Dictionary: {1: 1, 2: 4, 3: 9, 4: 16, 5: 25}\n"
     ]
    }
   ],
   "source": [
    "def squareNumber(n):\n",
    "    if not n.isdigit() or int(n) <= 0:\n",
    "        print('n là số nguyên dương')\n",
    "        return\n",
    "\n",
    "    dictionary = dict()\n",
    "    for i in range(1, int(n) + 1):\n",
    "        dictionary[i] = i * i\n",
    "\n",
    "    return dictionary\n",
    "\n",
    "n = input('Nhập số nguyên dương n:')\n",
    "print('Dictionary:', squareNumber(n))"
   ]
  },
  {
   "cell_type": "markdown",
   "metadata": {},
   "source": [
    "7. Viết chương trình tìm tất cả các số chia hết cho 7 nhưng không phải bội số của 5, nằm trong đoạn 2000 và 3200 (tính cả 2000 và 3200). Các số thu được sẽ được in thành chuỗi trên một dòng, cách nhau bằng dấu phẩy"
   ]
  },
  {
   "cell_type": "code",
   "execution_count": 88,
   "metadata": {},
   "outputs": [
    {
     "name": "stdout",
     "output_type": "stream",
     "text": [
      "Các số chia hết cho 7 nhưng không chia hết cho 5: 2002, 2009, 2016, 2023, 2037, 2044, 2051, 2058, 2072, 2079, 2086, 2093, 2107, 2114, 2121, 2128, 2142, 2149, 2156, 2163, 2177, 2184, 2191, 2198, 2212, 2219, 2226, 2233, 2247, 2254, 2261, 2268, 2282, 2289, 2296, 2303, 2317, 2324, 2331, 2338, 2352, 2359, 2366, 2373, 2387, 2394, 2401, 2408, 2422, 2429, 2436, 2443, 2457, 2464, 2471, 2478, 2492, 2499, 2506, 2513, 2527, 2534, 2541, 2548, 2562, 2569, 2576, 2583, 2597, 2604, 2611, 2618, 2632, 2639, 2646, 2653, 2667, 2674, 2681, 2688, 2702, 2709, 2716, 2723, 2737, 2744, 2751, 2758, 2772, 2779, 2786, 2793, 2807, 2814, 2821, 2828, 2842, 2849, 2856, 2863, 2877, 2884, 2891, 2898, 2912, 2919, 2926, 2933, 2947, 2954, 2961, 2968, 2982, 2989, 2996, 3003, 3017, 3024, 3031, 3038, 3052, 3059, 3066, 3073, 3087, 3094, 3101, 3108, 3122, 3129, 3136, 3143, 3157, 3164, 3171, 3178, 3192, 3199\n"
     ]
    }
   ],
   "source": [
    "lst = []\n",
    "for i in range(2000, 3201):\n",
    "    if i % 7 == 0 and i % 5 != 0:\n",
    "        lst.append(i)\n",
    "\n",
    "print('Các số chia hết cho 7 nhưng không chia hết cho 5: ', end='')\n",
    "print(*lst, sep=', ')"
   ]
  },
  {
   "cell_type": "markdown",
   "metadata": {},
   "source": [
    "8. Viết chương trình chấp nhận một chuỗi số, phân tách bằng dấu phẩy từ giao diện điều khiển, tạo ra một List và một tuple chứa mọi số.\n",
    "\n",
    "    Ví dụ:\n",
    "\n",
    "    ```\n",
    "    Đầu vào được cung cấp là '34,67,55,33,12,98' thì đầu ra là:\n",
    "\n",
    "    [34, 67, 55, 33, 12, 98]\n",
    "    (34, 67, 55, 33, 12, 98)\n",
    "    ```\n"
   ]
  },
  {
   "cell_type": "code",
   "execution_count": 94,
   "metadata": {},
   "outputs": [
    {
     "name": "stdin",
     "output_type": "stream",
     "text": [
      "Nhập chuỗi số nguyên, phân tách bằng dấu phẩy: 34,67,55,33,12,98\n"
     ]
    },
    {
     "name": "stdout",
     "output_type": "stream",
     "text": [
      "array: [34, 67, 55, 33, 12, 98]\n"
     ]
    }
   ],
   "source": [
    "try:\n",
    "    array = list(map(int, input('Nhập chuỗi số nguyên, phân tách bằng dấu phẩy:').split(',')))\n",
    "    print('array:', array)\n",
    "except Exception as e:\n",
    "    print(e)"
   ]
  },
  {
   "cell_type": "markdown",
   "metadata": {},
   "source": [
    "9. Viết hàm nhận vào một danh sách các số nguyên. Hãy viết hàm trả về một danh sách gồm các số không trùng nhau trong danh sách ban đầu"
   ]
  },
  {
   "cell_type": "code",
   "execution_count": 96,
   "metadata": {},
   "outputs": [
    {
     "name": "stdin",
     "output_type": "stream",
     "text": [
      "Nhập chuỗi số nguyên, phân tách bằng dấu phẩy: 2, 23, 34, 2, 4, 5, 4, 5, 6, 6\n"
     ]
    },
    {
     "name": "stdout",
     "output_type": "stream",
     "text": [
      "Danh sách số nguyên phân biệt của array: [2, 23, 34, 4, 5, 6]\n"
     ]
    }
   ],
   "source": [
    "def unique(lst):\n",
    "    exist = []\n",
    "    for x in lst:\n",
    "        if x not in exist:\n",
    "            exist.append(x)\n",
    "    return exist\n",
    "\n",
    "try:\n",
    "    array = list(map(int, input('Nhập chuỗi số nguyên, phân tách bằng dấu phẩy:').split(',')))\n",
    "    print('Danh sách số nguyên phân biệt của array:', unique(array))\n",
    "except Exception as e:\n",
    "    print(e)"
   ]
  },
  {
   "cell_type": "markdown",
   "metadata": {},
   "source": [
    "10. Viết hàm có tham số đầu vào là một list L có các phần tử là chuỗi. Hãy tạo ra một dictionary D mã hóa, với mỗi một phần tử trong L được mã hóa thành một con số (theo thứ tự từ 0 tăng dần lên 1 đơn vị). Sau đó trả về list đã được mã hóa\n",
    "\n",
    "    Ví dụ:\n",
    "\n",
    "    ```\n",
    "    Cho L = [\"đen\",\"vàng\",\"xanh\",\"vàng\",\"xanh\",\"đỏ\",\"hồng\"]\n",
    "\n",
    "    Xây dựng dictionary mã hóa:\n",
    "    D = {'đen':0,'vàng':1,'xanh':2,'đỏ':3,'hồng':4}\n",
    "\n",
    "    Trả về List mã hóa:\n",
    "    L_mahoa = [0, 1, 2, 1, 2, 3, 4]\n",
    "    ```"
   ]
  },
  {
   "cell_type": "code",
   "execution_count": 97,
   "metadata": {},
   "outputs": [
    {
     "name": "stdout",
     "output_type": "stream",
     "text": [
      "Danh sách sau khi mã hóa: [0, 1, 2, 1, 2, 3, 4]\n"
     ]
    }
   ],
   "source": [
    "def map(array):\n",
    "    mapping = {'đen': 0, 'vàng': 1, 'xanh': 2, 'đỏ': 3, 'hồng':4}\n",
    "\n",
    "    try:\n",
    "        array_maped = [mapping[x] for x in array]\n",
    "        return array_maped\n",
    "    except Exception as e:\n",
    "        print(e)\n",
    "\n",
    "lst = ['đen', 'vàng', 'xanh', 'vàng', 'xanh', 'đỏ', 'hồng']\n",
    "print('Danh sách sau khi mã hóa:', map(lst))"
   ]
  },
  {
   "cell_type": "markdown",
   "metadata": {},
   "source": [
    "---"
   ]
  }
 ],
 "metadata": {
  "colab": {
   "authorship_tag": "ABX9TyOelhBBO7DINQ7b3uUiVhbi",
   "provenance": []
  },
  "kernelspec": {
   "display_name": "Python 3 (ipykernel)",
   "language": "python",
   "name": "python3"
  },
  "language_info": {
   "codemirror_mode": {
    "name": "ipython",
    "version": 3
   },
   "file_extension": ".py",
   "mimetype": "text/x-python",
   "name": "python",
   "nbconvert_exporter": "python",
   "pygments_lexer": "ipython3",
   "version": "3.11.9"
  }
 },
 "nbformat": 4,
 "nbformat_minor": 4
}
