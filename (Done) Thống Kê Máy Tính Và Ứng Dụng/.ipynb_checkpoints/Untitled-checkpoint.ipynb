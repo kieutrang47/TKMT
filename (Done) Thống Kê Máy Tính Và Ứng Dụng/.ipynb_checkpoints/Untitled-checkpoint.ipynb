{
 "cells": [
  {
   "cell_type": "code",
   "execution_count": 2,
   "id": "18e5c8fc-de65-4e7b-b7e2-7d161b9dbbcc",
   "metadata": {},
   "outputs": [],
   "source": [
    "import numpy as np\n",
    "from scipy.stats import norm, t\n",
    "import matplotlib.pyplot as plt"
   ]
  },
  {
   "cell_type": "markdown",
   "id": "f5f96049-92c6-4f89-bee9-41dff76776e6",
   "metadata": {},
   "source": [
    "<img src=\"./Lectures/ex1.jpg\"> </img>"
   ]
  },
  {
   "cell_type": "markdown",
   "id": "46898dcc-bc9e-4328-aa27-3226855efe4f",
   "metadata": {},
   "source": [
    "**Bước 1**\n",
    "- $H_0: \\mu \\ge 500$\n",
    "- $H_1: \\mu < 500$\n",
    "\n",
    "**Bước 2**\n",
    "- Mức ý nghĩa alpha = 0.05\n",
    "\n",
    "**Bước 3** (Tính trị kiểm định)\n",
    "- Tùy bài toán mà lựa chọn pp T hay pp N (Trong ví dụ hiện tại không có nói về sigma, chỉ có s nên lựa chọn pp T)\n",
    "- $t = \\dfrac{\\bar{x} - \\mu}{s / \\sqrt{n}} = -2.739$\n",
    "\n",
    "**Bước 4**\n",
    "Cách 1: (Xác định miền bác bỏ)\n",
    "- ${t: t < -t^{29}_{0.05}} \\leftrightarrow {t: t < -1.699}$\n",
    "\n",
    "Cách 2: (Tính p_value)\n",
    "- p_value = $\\Phi(-2.739) \\approx 0.0052$\n",
    "\n",
    "**Bước 5**: (Bác bỏ H_0)\n",
    "- Kết luận: ý kiến trên đúng"
   ]
  },
  {
   "cell_type": "code",
   "execution_count": 16,
   "id": "fa0e82bb-294e-4ca8-a28e-f958fd335cfc",
   "metadata": {},
   "outputs": [],
   "source": [
    "n = 30\n",
    "x_bar = 495\n",
    "s = 10\n",
    "muy = 500\n",
    "alpha = 0.05"
   ]
  },
  {
   "cell_type": "markdown",
   "id": "3ce9e971-df0e-4d72-9ad2-1dc9a1747540",
   "metadata": {},
   "source": [
    "---"
   ]
  },
  {
   "cell_type": "markdown",
   "id": "d18cd3e7-b7d1-46ff-8e61-4ab60fe366cc",
   "metadata": {},
   "source": [
    "<img src=\"./Lectures/ex2.jpg\"> </img>"
   ]
  },
  {
   "cell_type": "markdown",
   "id": "d52d5963-8036-4c9d-96fc-5df40d2e980e",
   "metadata": {},
   "source": [
    "**Bước 1**\n",
    "\n",
    "- $H_0: p = 0.35$\n",
    "- $H_1: p \\ne 0.35$\n",
    "\n",
    "**Bước 2**\n",
    "\n",
    "- Mức ý nghĩa $\\alpha = 0.05$\n",
    "\n",
    "**Bước 3** (Tính trị kiểm định)\n",
    "\n",
    "- $z = \\dfrac{\\bar{p} - p_0}{\\sqrt{\\dfrac{p_0\\cdot(1-p_0)}{n}}} = $"
   ]
  },
  {
   "cell_type": "code",
   "execution_count": null,
   "id": "8913a6fb-ff10-45e8-81cd-57dffcfd5760",
   "metadata": {},
   "outputs": [],
   "source": []
  }
 ],
 "metadata": {
  "kernelspec": {
   "display_name": "Python 3 (ipykernel)",
   "language": "python",
   "name": "python3"
  },
  "language_info": {
   "codemirror_mode": {
    "name": "ipython",
    "version": 3
   },
   "file_extension": ".py",
   "mimetype": "text/x-python",
   "name": "python",
   "nbconvert_exporter": "python",
   "pygments_lexer": "ipython3",
   "version": "3.11.9"
  }
 },
 "nbformat": 4,
 "nbformat_minor": 5
}
