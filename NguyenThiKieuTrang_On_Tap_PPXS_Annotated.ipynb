{
 "cells": [
  {
   "cell_type": "markdown",
   "id": "719928b4",
   "metadata": {},
   "source": [
    "# Bản CHÚ THÍCH code – Phân phối xác suất & ước lượng\n",
    "Notebook này chèn **chú thích** (markdown) ngay trước *mỗi cell code* để bạn hiểu rõ:\n",
    "- Sinh dữ liệu kiểu gì (rvs/randint/rand/uniform/choice),\n",
    "- Dùng phân phối nào (binom/poisson/norm/t/chi2),\n",
    "- Ý nghĩa pmf/pdf/cdf/ppf.\n",
    "\n",
    "**Ghi nhớ nhanh:** `rvs`=sinh mẫu; `pmf`=P(X=k); `pdf`=mật độ; `cdf`=P(X≤x); `ppf`=phân vị.\n",
    "---"
   ]
  },
  {
   "cell_type": "markdown",
   "id": "923bc7a0",
   "metadata": {},
   "source": [
    "### 📌 Chú thích cho **Code Cell 0**\n",
    "- Phân phối dùng: **binom**, **poisson**, **norm**, **t**."
   ]
  },
  {
   "cell_type": "code",
   "execution_count": 1,
   "id": "82ec7047",
   "metadata": {
    "id": "c4DYczUxqpji"
   },
   "outputs": [],
   "source": [
    "# Import các thư viện thông dụng\n",
    "import numpy as np\n",
    "import pandas as pd\n",
    "import matplotlib.pyplot as plt\n",
    "\n",
    "# Import các distribution packages từ thư viện scipy\n",
    "from scipy.stats import binom\n",
    "from scipy.stats import poisson\n",
    "from scipy.stats import norm\n",
    "from scipy.stats import t"
   ]
  },
  {
   "cell_type": "markdown",
   "id": "96e8f71a",
   "metadata": {},
   "source": [
    "Nguyễn Thị Kiều Trang \n",
    "22642451"
   ]
  },
  {
   "cell_type": "markdown",
   "id": "cff2b08c",
   "metadata": {
    "id": "AG5V3Bkz_pAI"
   },
   "source": [
    "# Phân phối Nhị thức"
   ]
  },
  {
   "cell_type": "markdown",
   "id": "032cc6dc",
   "metadata": {
    "id": "imGCYSE9-LOc"
   },
   "source": [
    "**Bài tập 1:** Tỷ lệ người dân tham gia trên mạng lưới giao dịch có sự hiểu biết về luật giao dịch là 90%. Tại một nút giao diện có 5 người giao diện trong phạm vi luật. Gọi X là một số người am hiểu luật nhưng cố gắng tình luật trong 5 người đó.\n",
    "\n",
    "a) Lập bảng phân phối của X."
   ]
  },
  {
   "cell_type": "markdown",
   "id": "a760b307",
   "metadata": {},
   "source": [
    "### 📌 Chú thích cho **Code Cell 4**\n",
    "- **`np.arange(start, stop, step)`**: dãy rời rạc để quét **giá trị k** (PMF).\n",
    "- Phân phối dùng: **binom**.\n",
    "- Hàm xác suất:\n",
    "  - `pmf(k,...)` = P(X=k) (rời rạc)"
   ]
  },
  {
   "cell_type": "code",
   "execution_count": 3,
   "id": "eb96476f",
   "metadata": {},
   "outputs": [
    {
     "name": "stdout",
     "output_type": "stream",
     "text": [
      "P(X=0) = 0.00001\n",
      "P(X=1) = 0.00045\n",
      "P(X=2) = 0.00810\n",
      "P(X=3) = 0.07290\n",
      "P(X=4) = 0.32805\n",
      "P(X=5) = 0.59049\n"
     ]
    }
   ],
   "source": [
    "#1\n",
    "import numpy as np\n",
    "import matplotlib.pyplot as plt\n",
    "from scipy.stats import binom\n",
    "\n",
    "#2\n",
    "n = 5 #số người thử là 5 \n",
    "p = 0.9 #xác suất hiểu luật\n",
    "# 𝑞 = 1 −𝑝 = 0.1\n",
    "\n",
    "#B3: Tạo dãy giá trị k (số người am hiểu luật)\n",
    "x = np.arange(0, n+1)   # tạo mảng [0,1,2,3,4,5]\n",
    "\n",
    "#b4: tính xác suất\n",
    "pmf = binom.pmf(x, n, p)\n",
    "\n",
    "#b5: in kq\n",
    "for k, prob in zip(x, pmf):\n",
    "    print(f\"P(X={k}) = {prob:.5f}\")\n",
    "\n",
    "\n",
    "\n"
   ]
  },
  {
   "cell_type": "markdown",
   "id": "4b2acd7c",
   "metadata": {},
   "source": [
    "### 📌 Chú thích cho **Code Cell 5**\n",
    "- Hàm xác suất:\n",
    "  - `pmf(k,...)` = P(X=k) (rời rạc)"
   ]
  },
  {
   "cell_type": "code",
   "execution_count": 5,
   "id": "c799f8dd",
   "metadata": {},
   "outputs": [
    {
     "data": {
      "image/png": "[encoded data removed]",
      "text/plain": [
       "<Figure size 640x480 with 1 Axes>"
      ]
     },
     "metadata": {},
     "output_type": "display_data"
    }
   ],
   "source": [
    "# # Bước 6: Vẽ biểu đồ phân phối\n",
    "plt.bar(x, pmf, color='skyblue', edgecolor='black')\n",
    "plt.title(\"Phân phối nhị thức: n=5, p=0.9\")\n",
    "plt.xlabel(\"Số người am hiểu luật (X)\")\n",
    "plt.ylabel(\"Xác suất P(X=k)\")\n",
    "plt.grid(axis='y', alpha=0.3)\n",
    "plt.show()\n"
   ]
  },
  {
   "cell_type": "markdown",
   "id": "873426fd",
   "metadata": {},
   "source": [
    "### 📌 Chú thích cho **Code Cell 6**\n",
    "- Phân phối dùng: **binom**."
   ]
  },
  {
   "cell_type": "code",
   "execution_count": 3,
   "id": "5a88fc41",
   "metadata": {},
   "outputs": [
    {
     "name": "stdout",
     "output_type": "stream",
     "text": [
      "Trung bình: 4.5\n",
      "Phương sai: 0.4499999999999993\n"
     ]
    }
   ],
   "source": [
    "mean, var = binom.stats(n, p)\n",
    "print(\"Trung bình:\", mean)\n",
    "print(\"Phương sai:\", var)\n"
   ]
  },
  {
   "cell_type": "markdown",
   "id": "0e8b2877",
   "metadata": {
    "id": "6kTo0_rgB3bt"
   },
   "source": [
    "b) Tính E (3- 5X) và V (3X-2).\n",
    "\n",
    "Để tính giá trị kỳ vọng (expectation) và phương sai (variance) của các biến ngẫu nhiên, bạn cần biết phân phối xác suất của biến đó. Trong trường hợp này, X là biến ngẫu nhiên biểu diễn số người am hiểu luật trong 5 người giao diện, và chúng ta đã sử dụng phân phối nhị thức.\n",
    "\n",
    "1. Giá trị kỳ vọng của 3 - 5X:\n",
    "   E(3 - 5X) = 3 - 5 * E(X)\n",
    "\n",
    "   Ta đã tính E(X) trong ví dụ trước:\n",
    "   E(X) = n * p = 5 * 0.9 = 4.5\n",
    "\n",
    "   Vậy:\n",
    "   E(3 - 5X) = 3 - 5 * 4.5 = 3 - 22.5 = -19.5\n",
    "\n",
    "2. Phương sai của 3X - 2:\n",
    "   V(3X - 2) = 3^2 * V(X)\n",
    "\n",
    "   Để tính phương sai V(X), chúng ta sử dụng công thức:\n",
    "   V(X) = n * p * (1 - p)\n",
    "\n",
    "   Trong trường hợp này:\n",
    "   V(X) = 5 * 0.9 * (1 - 0.9) = 5 * 0.9 * 0.1 = 0.45\n",
    "\n",
    "   Vậy:\n",
    "   V(3X - 2) = 3^2 * 0.45 = 9 * 0.45 = 4.05\n",
    "\n",
    "Vậy, giá trị kỳ vọng E(3 - 5X) là -19.5 và phương sai V(3X - 2) là 4.05."
   ]
  },
  {
   "cell_type": "markdown",
   "id": "0d6a1538",
   "metadata": {},
   "source": [
    "### 📌 Chú thích cho **Code Cell 8**\n",
    "- Phân phối dùng: **binom**."
   ]
  },
  {
   "cell_type": "code",
   "execution_count": 10,
   "id": "3ccb6b16",
   "metadata": {},
   "outputs": [
    {
     "name": "stdout",
     "output_type": "stream",
     "text": [
      "E(X) = 4.5\n",
      "V(X) = 0.4499999999999993\n",
      "E(3 - 5X) = -19.5\n",
      "V(3X - 2) = 4.049999999999994\n"
     ]
    }
   ],
   "source": [
    "from scipy.stats import binom\n",
    "\n",
    "# Tham số phân phối\n",
    "n, p = 5, 0.9\n",
    "\n",
    "# Kỳ vọng và phương sai của X\n",
    "EX, VX = binom.stats(n, p)\n",
    "print(\"E(X) =\", EX)\n",
    "print(\"V(X) =\", VX)\n",
    "\n",
    "# Tính E(3 - 5X)\n",
    "E_expr = 3 - 5 * EX\n",
    "\n",
    "# Tính V(3X - 2)\n",
    "V_expr = (3**2) * VX\n",
    "\n",
    "print(\"E(3 - 5X) =\", E_expr)\n",
    "print(\"V(3X - 2) =\", V_expr)\n"
   ]
  },
  {
   "cell_type": "markdown",
   "id": "36f8716c",
   "metadata": {},
   "source": [
    "\n",
    "## **Bài tập 2:** Một lô hàng có 8 sản phẩm loai I và 2 sản phẩm loại II. Lấy ngẫu nhiên lần lượt ra 5 sản phẩm theo phương thức hoàn lại. Gọi X là số sản phẩm loại II trong 5 sản phẩm lấy ra.\n",
    "\n",
    "a) X có phân phối gì?\n",
    "\n",
    "b) Tính kỳ vọng và phương sai của X.\n",
    "\n",
    "c) Tính tính khả năng để xảy ra số sản phẩm loại II trung bình trong số sản phẩm lấy ra."
   ]
  },
  {
   "cell_type": "markdown",
   "id": "1ce76799",
   "metadata": {},
   "source": [
    "### 📌 Chú thích cho **Code Cell 10**\n",
    "- **`np.arange(start, stop, step)`**: dãy rời rạc để quét **giá trị k** (PMF).\n",
    "- Phân phối dùng: **binom**.\n",
    "- Hàm xác suất:\n",
    "  - `pmf(k,...)` = P(X=k) (rời rạc)"
   ]
  },
  {
   "cell_type": "code",
   "execution_count": 8,
   "id": "8e65d453",
   "metadata": {},
   "outputs": [
    {
     "name": "stdout",
     "output_type": "stream",
     "text": [
      "a) X ~ Binomial(n=5, p=0.2)\n",
      "b) E(X) = 1.0\n",
      "   Var(X) = 0.7999999999999999\n",
      "c) P(X=1) = 0.4096\n"
     ]
    }
   ],
   "source": [
    "from scipy.stats import binom\n",
    "\n",
    "# Thông tin bài toán\n",
    "n = 5       # số phép thử\n",
    "p = 0.2     # xác suất chọn sản phẩm loại II\n",
    "\n",
    "# a) Phân phối\n",
    "print(\"a) X ~ Binomial(n=5, p=0.2)\")\n",
    "#Vẽ: \n",
    "# # Tạo trục giá trị X (chỉ lấy khoảng quanh trung bình để dễ nhìn)\n",
    "# x = np.arange(740, 860)\n",
    "# y = binom.pmf(x, n, p)   # pmf = Probability Mass Function = P(X=k)\n",
    "\n",
    "# plt.plot(x, y, marker='o', color='skyblue')\n",
    "# plt.title(\"Phân phối nhị thức: n=1000, p=0.8\")\n",
    "# plt.xlabel(\"Số cây sống (X)\")\n",
    "# plt.ylabel(\"Xác suất P(X=k)\")\n",
    "# plt.grid(alpha=0.3)\n",
    "# plt.show()\n",
    "\n",
    "# b) Kỳ vọng và phương sai\n",
    "EX, VX = binom.stats(n, p)\n",
    "print(f\"b) E(X) = {EX}\")\n",
    "print(f\"   Var(X) = {VX}\")\n",
    "\n",
    "# c) Xác suất X = 1\n",
    "prob = binom.pmf(1, n, p)\n",
    "print(f\"c) P(X=1) = {prob:.4f}\")\n",
    "\n"
   ]
  },
  {
   "cell_type": "markdown",
   "id": "0db6f038",
   "metadata": {},
   "source": [
    "### 📌 Chú thích cho **Code Cell 11**\n",
    "- **`np.arange(start, stop, step)`**: dãy rời rạc để quét **giá trị k** (PMF).\n",
    "- Phân phối dùng: **binom**.\n",
    "- Hàm xác suất:\n",
    "  - `pmf(k,...)` = P(X=k) (rời rạc)"
   ]
  },
  {
   "cell_type": "code",
   "execution_count": 5,
   "id": "675068f1",
   "metadata": {},
   "outputs": [
    {
     "data": {
      "image/png": "[encoded data removed]",
      "text/plain": [
       "<Figure size 640x480 with 1 Axes>"
      ]
     },
     "metadata": {},
     "output_type": "display_data"
    }
   ],
   "source": [
    "# vẽ thử sơ đồ minh họa \n",
    "import matplotlib.pyplot as plt\n",
    "import numpy as np\n",
    "\n",
    "x = np.arange(0, n+1)\n",
    "y = binom.pmf(x, n, p)\n",
    "\n",
    "plt.bar(x, y, color='lightblue', edgecolor='black')\n",
    "plt.title(\"Phân phối nhị thức: n=5, p=0.2\")\n",
    "plt.xlabel(\"Số sản phẩm loại II (X)\")\n",
    "plt.ylabel(\"Xác suất P(X=k)\")\n",
    "\n",
    "# Ghi chú lên cột X=1\n",
    "plt.text(1, y[1]+0.02, f\"P(X=1)={y[1]:.4f}\", ha='center', color='red', fontsize=10)\n",
    "\n",
    "plt.show()\n"
   ]
  },
  {
   "cell_type": "markdown",
   "id": "4a7be15c",
   "metadata": {
    "id": "k1k1zl9bNFNv"
   },
   "source": [
    "### Bài tập 3: Xác suất để một cây sống sau một thời gian trồng là 0,8. Trồng 1000 cây. Gọi X là số cây sống sau một thời gian trồng.\n",
    "\n",
    "a) Tìm luật phân phối xác suất của X.\n",
    "\n",
    "b) Tính xác suất có 750 cây sống sau một thời gian trồng.\n",
    "\n",
    "c) Tính E(X), var(X) và cho biết số cây sống sau một thời gian trồng có khả năng cao nhất là bao nhiêu ?"
   ]
  },
  {
   "cell_type": "markdown",
   "id": "0bd7804f",
   "metadata": {},
   "source": [
    "### 📌 Chú thích cho **Code Cell 13**\n",
    "- **`np.arange(start, stop, step)`**: dãy rời rạc để quét **giá trị k** (PMF).\n",
    "- Phân phối dùng: **binom**.\n",
    "- Hàm xác suất:\n",
    "  - `pmf(k,...)` = P(X=k) (rời rạc)"
   ]
  },
  {
   "cell_type": "code",
   "execution_count": 95,
   "id": "a51cfd23",
   "metadata": {},
   "outputs": [
    {
     "name": "stdout",
     "output_type": "stream",
     "text": [
      "a) X ~ Binomial ( n = 1000, p = 0.8)\n"
     ]
    }
   ],
   "source": [
    "# \n",
    "n = 1000\n",
    "p = 0.8 \n",
    "print(\"a) X ~ Binomial ( n = 1000, p = 0.8)\")\n",
    "\n",
    "#Vẽ: \n",
    "# Tạo trục giá trị X (chỉ lấy khoảng quanh trung bình để dễ nhìn)\n",
    "# x = np.arange(740, 860)\n",
    "# y = binom.pmf(x, n, p)   # pmf = Probability Mass Function = P(X=k)\n",
    "\n",
    "# plt.plot(x, y, marker='o', color='skyblue')\n",
    "# plt.title(\"Phân phối nhị thức: n=1000, p=0.8\")\n",
    "# plt.xlabel(\"Số cây sống (X)\")\n",
    "# plt.ylabel(\"Xác suất P(X=k)\")\n",
    "# plt.grid(alpha=0.3)\n",
    "# plt.show()\n"
   ]
  },
  {
   "cell_type": "markdown",
   "id": "fbe14cf6",
   "metadata": {},
   "source": [
    "### 📌 Chú thích cho **Code Cell 14**\n",
    "- Phân phối dùng: **binom**.\n",
    "- Hàm xác suất:\n",
    "  - `pmf(k,...)` = P(X=k) (rời rạc)"
   ]
  },
  {
   "cell_type": "code",
   "execution_count": 36,
   "id": "590d7005",
   "metadata": {},
   "outputs": [
    {
     "name": "stdout",
     "output_type": "stream",
     "text": [
      "b) Xác suất có đúng 750 cây sống là: P(X=750) = 0.000018\n"
     ]
    }
   ],
   "source": [
    "# b \n",
    "# from scipy.stats import binom -> thư viện dùng để \n",
    "\n",
    "n = 1000\n",
    "p = 0.8\n",
    "k = 750 #cây\n",
    "prob_750 = binom.pmf(k, n, p)\n",
    "print(f\"b) Xác suất có đúng {k} cây sống là: P(X={k}) = {prob_750:.6f}\")"
   ]
  },
  {
   "cell_type": "markdown",
   "id": "71c0328e",
   "metadata": {},
   "source": [
    "### 📌 Chú thích cho **Code Cell 15**\n",
    "- **`np.arange(start, stop, step)`**: dãy rời rạc để quét **giá trị k** (PMF).\n",
    "- Phân phối dùng: **binom**.\n",
    "- Hàm xác suất:\n",
    "  - `pmf(k,...)` = P(X=k) (rời rạc)"
   ]
  },
  {
   "cell_type": "code",
   "execution_count": 96,
   "id": "2b593e95",
   "metadata": {},
   "outputs": [],
   "source": [
    "# Biểu đồ phân phối rời rạc để thấy vị trí X=750\n",
    "# x = np.arange(740, 860)\n",
    "# y = binom.pmf(x, n, p)\n",
    "\n",
    "# plt.bar(x, y, color='lightblue', edgecolor='black')\n",
    "# plt.axvline(k, color='red', linestyle='--', label=f'X={k}')\n",
    "# plt.text(k+1, prob_750, f\"P(X={k})={prob_750:.10f}\", color='blue')\n",
    "# plt.title(\"Phân phối nhị thức (n=1000, p=0.8)\")\n",
    "# plt.xlabel(\"Số cây sống (X)\")\n",
    "# plt.ylabel(\"Xác suất P(X=k)\")\n",
    "# plt.legend()\n",
    "# plt.show()\n",
    "\n"
   ]
  },
  {
   "cell_type": "markdown",
   "id": "55d78d5b",
   "metadata": {
    "id": "un_VDHgmNWUR"
   },
   "source": [
    "## Bài tập 4: Một lô hàng chứa rất nhiều sản phẩm, trong đó tỉ lệ sản phẩm đạt chuẩn là 70%. Chọn ngẫu nhiên từ lô hàng ra 5 sản phẩm. Gọi X là số  sản phẩm  đạt chuẩn  có trong 5  sản  phẩm chọn  ra. Hãy  lập  bảng phân phối xác suất cho X, và tính EX, varX."
   ]
  },
  {
   "cell_type": "markdown",
   "id": "f7af7c82",
   "metadata": {},
   "source": [
    "### 📌 Chú thích cho **Code Cell 17**\n",
    "- **`np.arange(start, stop, step)`**: dãy rời rạc để quét **giá trị k** (PMF).\n",
    "- Phân phối dùng: **binom**.\n",
    "- Hàm xác suất:\n",
    "  - `pmf(k,...)` = P(X=k) (rời rạc)"
   ]
  },
  {
   "cell_type": "code",
   "execution_count": 97,
   "id": "f5af8040",
   "metadata": {},
   "outputs": [
    {
     "name": "stdout",
     "output_type": "stream",
     "text": [
      "Bảng phân phối xác suất của X (số sản phẩm đạt chuẩn):\n",
      "P(X = 0) = 0.00243\n",
      "P(X = 1) = 0.02835\n",
      "P(X = 2) = 0.13230\n",
      "P(X = 3) = 0.30870\n",
      "P(X = 4) = 0.36015\n",
      "P(X = 5) = 0.16807\n"
     ]
    }
   ],
   "source": [
    "# a, lập bảng phân phối xác suất   \n",
    "n = 5       # số lần thử (sản phẩm chọn ra)\n",
    "p = 0.7     # xác suất sản phẩm đạt chuẩn\n",
    "\n",
    "# Tạo dãy giá trị có thể của X (từ 0 đến 5)\n",
    "x = np.arange(0, n+1)   # tạo mảng [0,1,2,3,4,5]\n",
    "\n",
    "# tính xác suất\n",
    "pmf = binom.pmf(x, n, p)\n",
    "\n",
    "print(\"Bảng phân phối xác suất của X (số sản phẩm đạt chuẩn):\")\n",
    "for k, prob in zip(x, pmf):\n",
    "    print(f\"P(X = {k}) = {prob:.5f}\")\n",
    "\n",
    "# Vẽ biểu đồ phân phối\n",
    "# plt.bar(x, pmf, color='lightgreen', edgecolor='black')\n",
    "# plt.title(\"Phân phối nhị thức: n=5, p=0.7\")\n",
    "# plt.xlabel(\"Số sản phẩm đạt chuẩn (X)\")\n",
    "# plt.ylabel(\"Xác suất P(X=k)\")\n",
    "# plt.grid(axis='y', alpha=0.3)\n",
    "# plt.show()\n"
   ]
  },
  {
   "cell_type": "markdown",
   "id": "4c34a019",
   "metadata": {},
   "source": [
    "### 📌 Chú thích cho **Code Cell 18**\n",
    "- Phân phối dùng: **binom**."
   ]
  },
  {
   "cell_type": "code",
   "execution_count": 42,
   "id": "597b55ca",
   "metadata": {},
   "outputs": [
    {
     "name": "stdout",
     "output_type": "stream",
     "text": [
      "\n",
      "Các giá trị đặc trưng:\n",
      "E(X) = 3.50\n",
      "Var(X) = 1.05\n",
      "σ (độ lệch chuẩn) = 1.025\n"
     ]
    }
   ],
   "source": [
    "# Tính các giá trị đặc trưng\n",
    "EX, VX = binom.stats(n, p)  \n",
    "sigma = np.sqrt(VX)          # Độ lệch chuẩn σ = √Var(X)\n",
    "\n",
    "print(\"\\nCác giá trị đặc trưng:\")\n",
    "print(f\"E(X) = {EX:.2f}\")\n",
    "print(f\"Var(X) = {VX:.2f}\")\n",
    "print(f\"σ (độ lệch chuẩn) = {sigma:.3f}\")\n"
   ]
  },
  {
   "cell_type": "markdown",
   "id": "0793b579",
   "metadata": {
    "id": "NshVskQQNil-"
   },
   "source": [
    "## Bài tập 5: Xác suất để 1 bệnh nhân được chữa khỏi khi điều trị một bệnh hiếm gặp về máu là 0,4. Nếu 15 người đồng ý chữa trị thì xác suất:\n",
    "\n",
    "a) Có ít nhất 10 người khỏi\n",
    "\n",
    "b) Có từ 3 đến 8 người khỏi\n",
    "\n",
    "c) Có đúng 5 người khỏi\n",
    "\n",
    "Là bao nhiêu?"
   ]
  },
  {
   "cell_type": "markdown",
   "id": "1d8acb02",
   "metadata": {},
   "source": [
    "### 📌 Chú thích cho **Code Cell 20**\n",
    "- Phân phối dùng: **binom**.\n",
    "- Hàm xác suất:\n",
    "  - `cdf(x,...)` = P(X≤x)"
   ]
  },
  {
   "cell_type": "code",
   "execution_count": 48,
   "id": "1f4727af",
   "metadata": {},
   "outputs": [
    {
     "name": "stdout",
     "output_type": "stream",
     "text": [
      "a) P(X >= 10) = 0.033833\n",
      "b) P( 3<= X <= 8) = 0.095047\n",
      "c) P(X = 5) = 0.596784\n"
     ]
    }
   ],
   "source": [
    "# a) Xác suất có ÍT NHẤT 10 người khỏi: P(X >= 10)\n",
    "p , n = 0.4 , 15 \n",
    "P_a = 1 - binom.cdf(9, n, p)\n",
    "print(f\"a) P(X >= 10) = {P_a:.6f}\")\n",
    "\n",
    "# b)  Xác suất có từ 3 đến 8 người khỏi\n",
    "P_b = 1 - binom.cdf(8, n , p) \n",
    "print (f\"b) P( 3<= X <= 8) = {P_b:.6f}\")\n",
    "\n",
    "# c) Xác suất có đúng 5 người khỏi\n",
    "P_c = 1 - binom.cdf(5, n, p)\n",
    "print(f\"c) P(X = 5) = {P_c:.6f}\")\n"
   ]
  },
  {
   "cell_type": "markdown",
   "id": "8a6a15cf",
   "metadata": {},
   "source": [
    "### 📌 Chú thích cho **Code Cell 21**\n",
    "- Phân phối dùng: **binom**."
   ]
  },
  {
   "cell_type": "code",
   "execution_count": 49,
   "id": "7320d6e1",
   "metadata": {},
   "outputs": [
    {
     "name": "stdout",
     "output_type": "stream",
     "text": [
      "\n",
      "E(X) = 6.00\n",
      "Var(X) = 3.60\n",
      "σ (độ lệch chuẩn) = 1.897\n"
     ]
    }
   ],
   "source": [
    "EX, VX = binom.stats(n, p)\n",
    "sigma = VX ** 0.5\n",
    "print(f\"\\nE(X) = {EX:.2f}\")\n",
    "print(f\"Var(X) = {VX:.2f}\")\n",
    "print(f\"σ (độ lệch chuẩn) = {sigma:.3f}\")\n"
   ]
  },
  {
   "cell_type": "markdown",
   "id": "66a0183f",
   "metadata": {},
   "source": [
    "## nhận xét\n",
    "- Trung bình có 6 người khỏi trong 15 người.\n",
    "- Độ lệch chuẩn ≈ 1.9 → kết quả thường dao động quanh 4–8 người.\n",
    "- Xác suất có ≥10 người khỏi là rất thấp, vì 10 cao hơn trung bình khá nhiều.\n",
    "- P(X=5) là giá trị đơn lẻ cao nhất → là mode xấp xỉ."
   ]
  },
  {
   "cell_type": "markdown",
   "id": "1c171d83",
   "metadata": {
    "id": "wbgHP2KSPeqL"
   },
   "source": [
    "## Bài tập 6: Một chuỗi cửa hàng bán lẻ lớn mua một loại thiết\n",
    "bị điện tử về để bán. Nhà sản xuất cho biết tỷ lệ bị\n",
    "hư hỏng của loại thiết bị này là 3%.\n",
    "\n",
    "a) Bộ phận kiểm tra lấy ngẫu nhiên 20 thiết bị từ lô\n",
    "hàng được giao. Xác suất có ít nhất 1 thiết bị\n",
    "hỏng là bao nhiêu?\n",
    "\n",
    "b) Giả sử cửa hàng nhập 10 lô hàng 1 tháng và với\n",
    "mỗi lô hàng đều được kiểm tra ngẫu nhiên 20\n",
    "thiết bị. Xác suất có đúng 3 lô hàng có chứa ít\n",
    "nhất 1 thiết bị hỏng trong số 20 thiết bị được\n",
    "kiểm tra?"
   ]
  },
  {
   "cell_type": "markdown",
   "id": "ba0d5cd7",
   "metadata": {},
   "source": [
    "### 📌 Chú thích cho **Code Cell 24**\n",
    "- Phân phối dùng: **binom**.\n",
    "- Hàm xác suất:\n",
    "  - `pmf(k,...)` = P(X=k) (rời rạc)"
   ]
  },
  {
   "cell_type": "code",
   "execution_count": 60,
   "id": "23b22cb0",
   "metadata": {},
   "outputs": [
    {
     "name": "stdout",
     "output_type": "stream",
     "text": [
      "a)\n",
      "P(X=0) = 0.543794\n",
      "P(X>=1)= 0.456206\n",
      "------\n",
      "b)\n",
      "P(3 lô hàng có lỗi) = 0.07936\n"
     ]
    }
   ],
   "source": [
    "# a) Xác suất có ít nhất 1 thiết bị hỏng là bao nhiêu?\n",
    "n = 20\n",
    "p = 0.03\n",
    "\n",
    "P_a = binom.pmf(0, n, p)       # Xác suất không hỏng\n",
    "P_at_least_1 = 1 - P_0         # Xác suất ít nhất 1 hỏng\n",
    "print(f\"a)\")\n",
    "print(f\"P(X=0) = {P_a:.6f}\")\n",
    "print(f\"P(X>=1)= {P_at_least_1:.6f}\")\n",
    "\n",
    "print(\"------\")\n",
    "print(f\"b)\")\n",
    "N = 10\n",
    "q = P_a\n",
    "P_b = binom.pmf(3, N, q)\n",
    "print(f\"P(3 lô hàng có lỗi) = {P_b:.5f}\")\n",
    "\n"
   ]
  },
  {
   "cell_type": "markdown",
   "id": "22ba7566",
   "metadata": {
    "id": "Pm-JlXBwPotA"
   },
   "source": [
    "## Bài tập 7: Có giả thiết cho rằng 30% các giếng nước trong 500 giếng ở vùng\n",
    "nông thôn có tạp chất. Để có thể tìm hiểu kỹ hơn\n",
    "người ta đi xét nghiệm một số giếng (vì không đủ\n",
    "tiền xét nghiệm hết).\n",
    "\n",
    "a) Giả sử giả thiết trên đúng, tính xác suất có đúng\n",
    "3 giếng có tạp chất.\n",
    "\n",
    "b) Xác suất có nhiều hơn 3 giếng có tạp chất?\n",
    "\n",
    "c) Giả sử trong 10 giếng đã kiểm tra thì có 6 giếng\n",
    "có tạp chất. Có thể kết luận gì về giả thiết trên?"
   ]
  },
  {
   "cell_type": "markdown",
   "id": "229e0b58",
   "metadata": {},
   "source": [
    "### 📌 Chú thích cho **Code Cell 26**\n",
    "- **`np.arange(start, stop, step)`**: dãy rời rạc để quét **giá trị k** (PMF).\n",
    "- Phân phối dùng: **binom**.\n",
    "- Hàm xác suất:\n",
    "  - `pmf(k,...)` = P(X=k) (rời rạc)\n",
    "  - `cdf(x,...)` = P(X≤x)"
   ]
  },
  {
   "cell_type": "code",
   "execution_count": 92,
   "id": "cbbfc2e9",
   "metadata": {},
   "outputs": [
    {
     "name": "stdout",
     "output_type": "stream",
     "text": [
      "a) P(X = 3) = 0.26683\n",
      "b) P(X > 3) = 0.35039\n",
      "c) P(X ≥ 6 | p=0.3) = 0.04735\n",
      "\n",
      "Các đại lượng đặc trưng của X:\n",
      "E(X) = 3.00\n",
      "Var(X) = 2.100\n",
      "σ (độ lệch chuẩn) = 1.449\n"
     ]
    }
   ],
   "source": [
    "# 1. Import các thư viện cần thiết\n",
    "from scipy.stats import binom       # Thư viện tính toán phân phối nhị thức\n",
    "import matplotlib.pyplot as plt     # Dùng để vẽ biểu đồ\n",
    "import numpy as np                  # Dùng để tạo mảng dữ liệu\n",
    "\n",
    "# 2. Khai báo tham số của bài toán\n",
    "n = 10      # số giếng được kiểm tra trong 500 giếng\n",
    "p = 0.3     # xác suất 1 giếng có tạp chất\n",
    "X_obs = 6   # số giếng thực tế có tạp chất quan sát được\n",
    "\n",
    "# a) P(X = 3)\n",
    "\n",
    "# Dùng hàm binom.pmf(k, n, p) => Tính xác suất X nhận đúng giá trị k\n",
    "P_a = binom.pmf(3, n, p)\n",
    "print(f\"a) P(X = 3) = {P_a:.5f}\")\n",
    "\n",
    "# b) P(X > 3)\n",
    "# Dùng hàm binom.cdf(k, n, p)  => P(X ≤ k). Vậy P(X > 3) = 1 - P(X ≤ 3)\n",
    "P_b = 1 - binom.cdf(3, n, p)\n",
    "print(f\"b) P(X > 3) = {P_b:.5f}\")\n",
    "\n",
    "# c) Quan sát thực tế X_obs = 6\n",
    "# Dưới giả thiết p=0.3, tính xác suất để thấy X ≥ 6. Nếu xác suất này < 0.05, có thể bác bỏ giả thiết\n",
    "P_c = 1 - binom.cdf(X_obs - 1, n, p)\n",
    "print(f\"c) P(X ≥ 6 | p=0.3) = {P_c:.5f}\")\n",
    "\n",
    "# # d) Vẽ biểu đồ phân phối xác suất\n",
    "# x = np.arange(0, n + 1)        # Các giá trị có thể của X: 0, 1, ..., 10\n",
    "# y = binom.pmf(x, n, p)         # Tính P(X=k) cho từng giá trị\n",
    "\n",
    "# plt.figure(figsize=(8, 5))\n",
    "# plt.bar(x, y, color='lightblue', edgecolor='black', label=\"P(X=k)\")\n",
    "\n",
    "# # Tô màu vùng X ≥ 6 (vùng hiếm gặp)\n",
    "# plt.bar(x[x >= 6], y[x >= 6], color='red', label=\"Vùng X ≥ 6 (ít xảy ra)\")\n",
    "\n",
    "# # Trang trí biểu đồ\n",
    "# plt.title(\"Phân phối X ~ Binomial(10, 0.3) - Giếng có tạp chất\")\n",
    "# plt.xlabel(\"Số giếng có tạp chất (X)\")\n",
    "# plt.ylabel(\"Xác suất P(X=k)\")\n",
    "# plt.legend()\n",
    "# plt.grid(axis='y', linestyle='--', alpha=0.7)\n",
    "# plt.show()\n",
    "\n",
    "# e) Tính thêm kỳ vọng và phương sai của X\n",
    "E_X = n * p\n",
    "Var_X = n * p * (1 - p)\n",
    "sigma = Var_X ** 0.5\n",
    "\n",
    "print(\"\\nCác đại lượng đặc trưng của X:\")\n",
    "print(f\"E(X) = {E_X:.2f}\")\n",
    "print(f\"Var(X) = {Var_X:.3f}\")\n",
    "print(f\"σ (độ lệch chuẩn) = {sigma:.3f}\")\n",
    "\n"
   ]
  },
  {
   "cell_type": "markdown",
   "id": "bca8e138",
   "metadata": {
    "id": "0CNsFdIXIJfD"
   },
   "source": [
    "# Phân phối Poisson"
   ]
  },
  {
   "cell_type": "markdown",
   "id": "b6d50ea0",
   "metadata": {
    "id": "DL2K6ZEUq0L1"
   },
   "source": [
    "**Bài tập 1:** Một mạng lưới máy tính khi bị nghẽn thì một gói dữ liệu có xác suất bị mất là 1% và các gói dữ liệu bị mất là độc lập với nhau. Các gói dữ liệu bị mất này cần phải gửi lại. Một thư điện tử có 100 gói dữ liệu.\n",
    "\n",
    "1.   Sử dụng phân phối Nhị thức và phân phối Poisson, tính trung bình và độ lệch chuẩn của các gói dữ liệu cần phải gửi lại ứng với từng phân phối.\n",
    "2.   Tính xác suất để có hai hay nhiều hơn gói dữ liệu cần gửi lại.\n"
   ]
  },
  {
   "cell_type": "markdown",
   "id": "44d7346b",
   "metadata": {
    "id": "oSjA8He_sRIq"
   },
   "source": [
    "### Sử dụng Phân phối Nhị thức\n",
    "\n"
   ]
  },
  {
   "cell_type": "markdown",
   "id": "2f05a11a",
   "metadata": {
    "id": "52LAcO9OsXfr"
   },
   "source": [
    "1.  **Sử dụng phân phối Nhị thức và phân phối Poisson, tính trung bình và độ lệch chuẩn của các gói dữ liệu cần phải gửi lại ứng với từng phân phối.**"
   ]
  },
  {
   "cell_type": "markdown",
   "id": "629524e0",
   "metadata": {
    "id": "rIvTtLwTrnuA"
   },
   "source": [
    "2.  **Tính xác suất để có hai hay nhiều hơn gói dữ liệu cần gửi lại.**\n",
    "\n",
    "Để tính xác suất để có hai hoặc nhiều hơn gói dữ liệu cần gửi lại, bạn cần tính tổng xác suất của các trường hợp có k gói dữ liệu cần gửi lại, với k từ 2 đến 100. Công thức này sẽ giúp bạn tính xác suất $P(X \\geq 2)$:\n",
    "\n",
    "$$P(X \\geq 2) = 1 - P(X = 0) - P(X = 1)$$"
   ]
  },
  {
   "cell_type": "markdown",
   "id": "75e1f065",
   "metadata": {
    "id": "5aAS8BwJtSm0"
   },
   "source": [
    "### Sử dụng Phân phối Poisson\n",
    "\n"
   ]
  },
  {
   "cell_type": "markdown",
   "id": "3fa7e798",
   "metadata": {
    "id": "c_vQBG6W2rGe"
   },
   "source": [
    "Để sử dụng phân phối Poisson trong bài toán này, trước hết chúng ta cần xác định các tham số của phân phối Poisson. Trong trường hợp này, ta sẽ xem xác suất mất một gói dữ liệu là một sự kiện hiếm hoi (xác suất rất nhỏ), nên ta có thể xấp xỉ nó bằng một phân phối Poisson với trung bình (lambda) là 1% của tổng số gói dữ liệu (100 gói).\n",
    "\n",
    "Trong phân phối Poisson, trung bình và phương sai là giống nhau và bằng lambda. Vì vậy, lambda trong trường hợp này sẽ là 1% của 100, tức là lambda = 1.\n",
    "\n",
    "Bây giờ, để tính xác suất cho từng giá trị k từ 0 đến 100 (số gói dữ liệu cần gửi lại), chúng ta sử dụng phân phối Poisson với lambda = 1. Sử dụng thư viện `scipy.stats`, bạn có thể tính xác suất như sau:\n",
    "\n",
    "Kết quả này sẽ cho biết phân phối xác suất của số gói dữ liệu cần gửi lại (từ 0 đến 100) khi xem xác suất mất một gói dữ liệu là một sự kiện theo phân phối Poisson với lambda = 1.\n",
    "\n",
    "Sử dụng `poisson_dist.mean()` và `poisson_dist.std()`."
   ]
  },
  {
   "cell_type": "markdown",
   "id": "536a7dc3",
   "metadata": {
    "id": "DzW3aGQ05OAg"
   },
   "source": [
    "1.  Sử dụng phân phối Nhị thức và phân phối Poisson, tính trung bình và độ lệch chuẩn của các gói dữ liệu cần phải gửi lại ứng với từng phân phối."
   ]
  },
  {
   "cell_type": "markdown",
   "id": "6268d75e",
   "metadata": {},
   "source": [
    "### 📌 Chú thích cho **Code Cell 35**\n",
    "- Phân phối dùng: **binom**, **poisson**."
   ]
  },
  {
   "cell_type": "code",
   "execution_count": 62,
   "id": "6811a8e4",
   "metadata": {},
   "outputs": [
    {
     "name": "stdout",
     "output_type": "stream",
     "text": [
      "1) TRUNG BÌNH & ĐỘ LỆCH CHUẨN\n",
      "Nhị thức: E(X)=1.00, Var=0.99, σ=0.995\n",
      "Poisson:  E(X)=1.00, Var=1.00, σ=1.000\n"
     ]
    }
   ],
   "source": [
    "# from scipy.stats import binom, poisson\n",
    "# import numpy as np\n",
    "n = 100\n",
    "p = 0.01\n",
    "lam = n * p  # lambda cho Poisson\n",
    "\n",
    "# --- 1. Trung bình và độ lệch chuẩn ---\n",
    "E_binom = n * p\n",
    "Var_binom = n * p * (1 - p)\n",
    "sigma_binom = np.sqrt(Var_binom)\n",
    "\n",
    "E_pois = lam\n",
    "Var_pois = lam\n",
    "sigma_pois = np.sqrt(Var_pois)\n",
    "\n",
    "print(\"1) TRUNG BÌNH & ĐỘ LỆCH CHUẨN\")\n",
    "print(f\"Nhị thức: E(X)={E_binom:.2f}, Var={Var_binom:.2f}, σ={sigma_binom:.3f}\")\n",
    "print(f\"Poisson:  E(X)={E_pois:.2f}, Var={Var_pois:.2f}, σ={sigma_pois:.3f}\")\n"
   ]
  },
  {
   "cell_type": "markdown",
   "id": "72492c26",
   "metadata": {
    "id": "062IwgBi4sdd"
   },
   "source": [
    "2.  Tính xác suất để có hai hay nhiều hơn gói dữ liệu cần gửi lại.\n",
    "\n",
    "Trước tiên, tính xác suất mất một gói dữ liệu trong một thư điện tử bằng phân phối Poisson với lambda = 1 (như đã giải quyết trong câu a). Sau đó, sử dụng phương pháp đối ngẫu để tính xác suất ít nhất hai gói dữ liệu cần gửi lại:\n",
    "\n",
    "$$P(X \\geq 2) = 1 - P(X = 0) - P(X = 1)$$"
   ]
  },
  {
   "cell_type": "markdown",
   "id": "5e6cf89b",
   "metadata": {},
   "source": [
    "### 📌 Chú thích cho **Code Cell 37**\n",
    "- Phân phối dùng: **binom**, **poisson**.\n",
    "- Hàm xác suất:\n",
    "  - `cdf(x,...)` = P(X≤x)"
   ]
  },
  {
   "cell_type": "code",
   "execution_count": 63,
   "id": "c654ac32",
   "metadata": {},
   "outputs": [
    {
     "name": "stdout",
     "output_type": "stream",
     "text": [
      "\n",
      "2) XÁC SUẤT CÓ ≥ 2 GÓI PHẢI GỬI LẠI\n",
      "Nhị thức: P(X≥2) = 0.26424\n",
      "Poisson:  P(X≥2) = 0.26424\n"
     ]
    }
   ],
   "source": [
    "# --- 2. Xác suất X ≥ 2 ---\n",
    "P_binom = 1 - binom.cdf(1, n, p)\n",
    "P_pois = 1 - poisson.cdf(1, lam)\n",
    "\n",
    "print(\"\\n2) XÁC SUẤT CÓ ≥ 2 GÓI PHẢI GỬI LẠI\")\n",
    "print(f\"Nhị thức: P(X≥2) = {P_binom:.5f}\")\n",
    "print(f\"Poisson:  P(X≥2) = {P_pois:.5f}\")\n"
   ]
  },
  {
   "cell_type": "markdown",
   "id": "bc98ea97",
   "metadata": {
    "id": "aLofG2Ok8ItO"
   },
   "source": [
    "## Bài tập 2: Xác suất để đoàn tàu khởi hành đúng giờ là 98,2%. Tính xác suất để 1000 chuyến tàu có 995 chuyến tàu khởi hành đúng thời gian."
   ]
  },
  {
   "cell_type": "markdown",
   "id": "e8de3d21",
   "metadata": {},
   "source": [
    "### 📌 Chú thích cho **Code Cell 39**\n",
    "- Phân phối dùng: **binom**.\n",
    "- Hàm xác suất:\n",
    "  - `pmf(k,...)` = P(X=k) (rời rạc)"
   ]
  },
  {
   "cell_type": "code",
   "execution_count": 66,
   "id": "e9aaa85a",
   "metadata": {},
   "outputs": [
    {
     "name": "stdout",
     "output_type": "stream",
     "text": [
      "cách 1\n",
      "P(X = 995) theo nhị thức = 0.0002206796\n"
     ]
    }
   ],
   "source": [
    "n = 1000\n",
    "p = 0.982\n",
    "k = 995\n",
    "\n",
    "print(f\"cách 1\")\n",
    "P_binom = binom.pmf(k, n, p)\n",
    "print(f\"P(X = 995) theo nhị thức = {P_binom:.10f}\")\n"
   ]
  },
  {
   "cell_type": "markdown",
   "id": "1b5eea34",
   "metadata": {},
   "source": [
    "### 📌 Chú thích cho **Code Cell 40**\n",
    "- Phân phối dùng: **poisson**.\n",
    "- Hàm xác suất:\n",
    "  - `pmf(k,...)` = P(X=k) (rời rạc)"
   ]
  },
  {
   "cell_type": "code",
   "execution_count": 69,
   "id": "b7e4b024",
   "metadata": {},
   "outputs": [
    {
     "name": "stdout",
     "output_type": "stream",
     "text": [
      "cách 2\n",
      "Xác suất có đúng 995 chuyến tàu đúng giờ (Poisson):\n",
      "P(Y = 5) = 0.000240\n"
     ]
    }
   ],
   "source": [
    "print(f\"cách 2\")\n",
    "\n",
    "from math import exp, factorial\n",
    "from scipy.stats import poisson\n",
    "\n",
    "lam = n * (1 - p)   # λ = n * q = 1000 * 0.018 = 18\n",
    "k = 5               # 5 chuyến trễ => 995 chuyến đúng giờ\n",
    "\n",
    "# --- Cách 1: Tính theo công thức Poisson ---\n",
    "# P_manual = exp(-lam) * lam**k / factorial(k)\n",
    "\n",
    "# --- Cách 2: Dùng hàm poisson.pmf ---\n",
    "P_lib = poisson.pmf(k, lam)\n",
    "\n",
    "print(\"Xác suất có đúng 995 chuyến tàu đúng giờ (Poisson):\")\n",
    "# print(f\"λ = {lam}\")\n",
    "print(f\"P(Y = 5) = {P_lib:.6f}\")\n",
    "# print(f\"Kiểm tra bằng công thức = {P_manual:.6f}\")\n"
   ]
  },
  {
   "cell_type": "markdown",
   "id": "5aebe095",
   "metadata": {
    "id": "iS2naUU9MV1S"
   },
   "source": [
    "## Bài tập 3: Lưu lượng giao thông theo cách truyền thống được coi là có phân phối Poisson. Một trạm kiểm soát điều khiển lưu lượng giao thông ở một nút giao thông với trung bình 6 xe một phút. Để thiết lập thời gian cho đèn tín hiệu thì các xác suất sau đây được sử dụng:"
   ]
  },
  {
   "cell_type": "markdown",
   "id": "dc8219fe",
   "metadata": {},
   "source": [
    "### 📌 Chú thích cho **Code Cell 42**\n",
    "- Phân phối dùng: **poisson**.\n",
    "- Hàm xác suất:\n",
    "  - `pmf(k,...)` = P(X=k) (rời rạc)\n",
    "  - `cdf(x,...)` = P(X≤x)"
   ]
  },
  {
   "cell_type": "code",
   "execution_count": 88,
   "id": "0465f94c",
   "metadata": {},
   "outputs": [
    {
     "name": "stdout",
     "output_type": "stream",
     "text": [
      "a) P(X=0) = 0.002479\n",
      "b) P(X=3) = 0.089235\n",
      "c) P(X>3) = 0.848796\n",
      "d) P(X<=2) = 0.061969\n"
     ]
    }
   ],
   "source": [
    "lam = 6  # trung bình 6 xe/phút\n",
    "\n",
    "# --- Tính các xác suất ---\n",
    "# a) Không có xe (X = 0) => giá trị cụ thể dùng pmf\n",
    "P0 = poisson.pmf(0, lam)\n",
    "print(f\"a) P(X=0) = {P0:.6f}\")\n",
    "\n",
    "# b) Đúng 3 xe (X = 3)\n",
    "P3 = poisson.pmf(3, lam)\n",
    "print(f\"b) P(X=3) = {P3:.6f}\")\n",
    "\n",
    "# c) Nhiều hơn 3 xe (X > 3) => giá trị khong cụ thể dùng hàm tích lũy (cdf) -> P(X>3) = 1 - P(X<=3)\n",
    "P_more3 = 1 - poisson.cdf(3, lam)\n",
    "print(f\"c) P(X>3) = {P_more3:.6f}\")\n",
    "\n",
    "# d) Ít hơn hoặc bằng 2 xe\n",
    "P_le2 = poisson.cdf(2, lam)\n",
    "print(f\"d) P(X<=2) = {P_le2:.6f}\")\n"
   ]
  },
  {
   "cell_type": "markdown",
   "id": "993971eb",
   "metadata": {
    "id": "6dntY31PMZ7l"
   },
   "source": [
    "## Bài tập 4: Số cuộc gọi điện thoại đến trung tâm tổng đài thường được mô tả là một biến ngẫu nhiên Poisson. Biết rẳng trung bình có 10 cuộc điện thoại gọi tới trong 1 giờ.\n",
    "\n",
    "a) Xác suất có đúng 5 cuộc điện thoại gọi tới trong 1 giờ là bao nhiêu?\n",
    "\n",
    "b) Xác suất có 3 hoặc ít hơn 3 cuộc điện thoại gọi tới trong 1 giờ là bao nhiêu?\n",
    "\n",
    "c) Xác suất có đúng 15 cuộc điện thoại gọi tới trong 2 giờ là bao nhiêu?\n",
    "\n",
    "d) Xác suất có đúng 5 cuộc điện thoại gọi tới trong 30 phút là bao nhiêu?\n",
    "\n"
   ]
  },
  {
   "cell_type": "markdown",
   "id": "84c11f25",
   "metadata": {},
   "source": [
    "### 📌 Chú thích cho **Code Cell 44**\n",
    "- Phân phối dùng: **poisson**.\n",
    "- Hàm xác suất:\n",
    "  - `pmf(k,...)` = P(X=k) (rời rạc)\n",
    "  - `cdf(x,...)` = P(X≤x)"
   ]
  },
  {
   "cell_type": "code",
   "execution_count": 80,
   "id": "e5e86e6a",
   "metadata": {},
   "outputs": [
    {
     "name": "stdout",
     "output_type": "stream",
     "text": [
      "a) P(X=5) = 0.037833\n",
      "b) \n",
      " P(X=3) = 0.007567\n",
      " P(X<3) = 0.989664\n",
      "c) P(X=15 trong 2 giờ) = 0.051649\n",
      "d) P(X=5 trong 30 phút) = 0.175467\n"
     ]
    }
   ],
   "source": [
    "lam = 10 # trung bình 10 cuộc gọi/ giờ\n",
    "# --- Tính các xác suất ---\n",
    "# a) có đúng 5 cuộc gọi (X = 5) => giá trị cụ thể dùng pmf\n",
    "P5 = poisson.pmf(5, lam)\n",
    "print(f\"a) P(X=5) = {P5:.6f}\")\n",
    "\n",
    "# b )Xác suất có 3 hoặc ít hơn 3 cuộc điện thoại gọi tới trong 1 giờ là bao nhiêu?\n",
    "P3 = poisson.pmf(3, lam)\n",
    "print(f\"b) \" )\n",
    "print(f\" P(X=3) = {P3:.6f}\")\n",
    "P_le3 = 1 - poisson.cdf(3, lam)\n",
    "print(f\" P(X<3) = {P_le3:.6f}\")\n",
    "\n",
    "# c) Xác suất có đúng 15 cuộc điện thoại gọi tới trong 2 giờ là bao nhiêu?\n",
    "lam_2h = 20\n",
    "P_c = poisson.pmf(15, lam_2h)\n",
    "print(f\"c) P(X=15 trong 2 giờ) = {P_c:.6f}\")\n",
    "\n",
    "\n",
    "# Xác suất có đúng 5 cuộc điện thoại gọi tới trong 30 phút là bao nhiêu?\n",
    "# 30 phút = 0.5 giờ → 10×0.5=5\n",
    "lam_30min = 5\n",
    "P_d = poisson.pmf(5, lam_30min)\n",
    "print(f\"d) P(X=5 trong 30 phút) = {P_d:.6f}\")"
   ]
  },
  {
   "cell_type": "markdown",
   "id": "286c99f5",
   "metadata": {
    "id": "-Rx1YpJTNtke"
   },
   "source": [
    "## Bài tập 5: Một máy dệt có 5000 ống sợi, xác suất để trong 1 phút mỗi ống sợi bị ngưng hoạt động (do sợi bị đứt, bị rối,..) là 0,0004. Gọi X là số ống sợi bị ngưng hoạt động trong 1 phút.\n",
    "\n",
    "a) Tìm luật phân phối xác suất của X.\n",
    "\n",
    "b) Tính xác suất để trong 1 phút có hơn 2 ống sợi bị ngưng hoạt động."
   ]
  },
  {
   "cell_type": "markdown",
   "id": "d866b2af",
   "metadata": {},
   "source": [
    "### 📌 Chú thích cho **Code Cell 46**\n",
    "- Phân phối dùng: **poisson**.\n",
    "- Hàm xác suất:\n",
    "  - `cdf(x,...)` = P(X≤x)"
   ]
  },
  {
   "cell_type": "code",
   "execution_count": 89,
   "id": "9096f251",
   "metadata": {},
   "outputs": [
    {
     "name": "stdout",
     "output_type": "stream",
     "text": [
      "a) X ~ Binomial ( n = 5000, p = 0.0004)\n",
      "b) P(X=5) = 0.323324\n"
     ]
    }
   ],
   "source": [
    "# a, Tìm luật phân phối xác suất của X\n",
    "# λ=n×p=5000×0.0004=2\n",
    "n = 5000\n",
    "p = 0.0004\n",
    "print(\"a) X ~ Binomial ( n = 5000, p = 0.0004)\")\n",
    "\n",
    "#b) xác suất để trong 1 phút có hơn 2 ống sợi bị ngưng hoạt động.\n",
    "lam = 2\n",
    "#\n",
    "P_b = 1- poisson.cdf(2 , lam)\n",
    "print(f\"b) P(X=5) = {P_b:.6f}\")"
   ]
  },
  {
   "cell_type": "markdown",
   "id": "8d50df65",
   "metadata": {
    "id": "6oVD4DZ7Nx8O"
   },
   "source": [
    "## Bài tập 6: Ở trạm xăng H, bình quân mỗi 10 phút có 15 xe máy đến đổ xăng. Biết rằng số xe máy đến đổ xăng ở trạm xăng này trong khoảng thời gian t phút là biến ngẫu nhiên có phân phối Poisson.\n",
    "\n",
    "a) Tìm xác suất để trong khoảng thời gian 10 phút có ít nhất 4 xe máy đến đổ xăng tại trạm xăng này.\n",
    "\n",
    "b) Tìm xác suất để trong khoảng thời gian 15 phút có từ 20 đến 24 xe máy đến đổ xăng tại trạm xăng H."
   ]
  },
  {
   "cell_type": "markdown",
   "id": "4f422294",
   "metadata": {},
   "source": [
    "### 📌 Chú thích cho **Code Cell 48**\n",
    "- Phân phối dùng: **poisson**.\n",
    "- Hàm xác suất:\n",
    "  - `cdf(x,...)` = P(X≤x)"
   ]
  },
  {
   "cell_type": "code",
   "execution_count": 90,
   "id": "40b6738a",
   "metadata": {},
   "outputs": [
    {
     "name": "stdout",
     "output_type": "stream",
     "text": [
      "Bài 6a: P(X>= 4 trong 10 phút) = 0.999789\n",
      "Bài 6b: P(20 <= X <= 24 trong 15 phút) = 0.403249\n"
     ]
    }
   ],
   "source": [
    "# Trung bình 10 phút có 15 xe → λ10 = 15 \n",
    "lam_10 = 15\n",
    "# a) Trong 10 phút, có ít nhất 4 xe => λ10 = 15\n",
    "P_a = 1 - poisson.cdf(3, lam_10)\n",
    "print(f\"Bài 6a: P(X>= 4 trong 10 phút) = {P_a:.6f}\")\n",
    "\n",
    "# b) Trong 15 phút có từ 20 đến 24 xe => Thời gian tăng 1.5 lần → λ15 = 15×10/15 =22.5\n",
    "lam_15 = 22.5\n",
    "P_b = poisson.cdf(24, lam_15) - poisson.cdf(19, lam_15)\n",
    "print(f\"Bài 6b: P(20 <= X <= 24 trong 15 phút) = {P_b:.6f}\")"
   ]
  },
  {
   "cell_type": "markdown",
   "id": "096e5907",
   "metadata": {
    "id": "0yy4j1cIQm_7"
   },
   "source": [
    "## Bài tập 7: Một nhà sản xuất ghim nhận ra rằng thường thì 5% số hàng sẽ bị lỗi. Ông đưa ra 100 mẫu và bảo đảm rằng sẽ có không quá 4 ghim bị lỗi. Xác suất nhóm hàng trên đạt được như ông chủ muốn là bao nhiêu?"
   ]
  },
  {
   "cell_type": "markdown",
   "id": "94564979",
   "metadata": {},
   "source": [
    "### 📌 Chú thích cho **Code Cell 50**\n",
    "- Phân phối dùng: **poisson**.\n",
    "- Hàm xác suất:\n",
    "  - `cdf(x,...)` = P(X≤x)"
   ]
  },
  {
   "cell_type": "code",
   "execution_count": 91,
   "id": "769ca062",
   "metadata": {
    "id": "YpJ4qh7TN-H7"
   },
   "outputs": [
    {
     "name": "stdout",
     "output_type": "stream",
     "text": [
      "Bài 7: P(X <= 4) = 0.440493\n"
     ]
    }
   ],
   "source": [
    "# xác suất ghim bị lỗi là 0.05 , n = 100 , <= 4 ghim bị lỗi\n",
    "lam = 5\n",
    "P_7 = poisson.cdf(4, lam)\n",
    "print(f\"Bài 7: P(X <= 4) = {P_7:.6f}\")\n"
   ]
  },
  {
   "cell_type": "markdown",
   "id": "77b9e41d",
   "metadata": {},
   "source": [
    "### 📌 Chú thích cho **Code Cell 51**\n",
    "- Cell này không chứa thao tác sinh/ước lượng xác suất nổi bật; xem code bên dưới."
   ]
  },
  {
   "cell_type": "code",
   "execution_count": null,
   "id": "70a9e6ed",
   "metadata": {},
   "outputs": [],
   "source": []
  },
  {
   "cell_type": "markdown",
   "id": "3df17ba5",
   "metadata": {},
   "source": [
    "### 📌 Chú thích cho **Code Cell 52**\n",
    "- Cell này không chứa thao tác sinh/ước lượng xác suất nổi bật; xem code bên dưới."
   ]
  },
  {
   "cell_type": "code",
   "execution_count": null,
   "id": "5b0d4100",
   "metadata": {},
   "outputs": [],
   "source": []
  }
 ],
 "metadata": {
  "colab": {
   "provenance": []
  },
  "kernelspec": {
   "display_name": "Python [conda env:base] *",
   "language": "python",
   "name": "conda-base-py"
  },
  "language_info": {
   "codemirror_mode": {
    "name": "ipython",
    "version": 3
   },
   "file_extension": ".py",
   "mimetype": "text/x-python",
   "name": "python",
   "nbconvert_exporter": "python",
   "pygments_lexer": "ipython3",
   "version": "3.13.5"
  }
 },
 "nbformat": 4,
 "nbformat_minor": 5
}
