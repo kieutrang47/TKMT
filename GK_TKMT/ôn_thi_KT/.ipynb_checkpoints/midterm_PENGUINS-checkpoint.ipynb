{
 "cells": [
  {
   "cell_type": "markdown",
   "id": "308dbf4c",
   "metadata": {},
   "source": [
    "# 🗂️ Đề luyện giữa kỳ — PENGUINS\n",
    "\n",
    "**Chủ đề:** *Kích thước chim cánh cụt*\n",
    "\n",
    "**Phần A:** Đọc dữ liệu, đặc trưng, trực quan hóa (matplotlib).\n",
    "\n",
    "**Phần B:** Xác suất & phân vị (Nhị thức, Poisson, Chuẩn) + **khoảng tin cậy 90% cho tỷ lệ**.\n"
   ]
  },
  {
   "cell_type": "code",
   "execution_count": null,
   "id": "d64382a1",
   "metadata": {},
   "outputs": [],
   "source": [
    "# Thiết lập thư viện\n",
    "import os, math\n",
    "import numpy as np\n",
    "import pandas as pd\n",
    "import matplotlib.pyplot as plt\n",
    "from scipy.stats import binom, poisson, norm\n",
    "print('Ready')\n"
   ]
  },
  {
   "cell_type": "markdown",
   "id": "232fe5c5",
   "metadata": {},
   "source": [
    "## A1) Đọc dữ liệu & khám phá\n",
    "**Yêu cầu:** in `head(5)`, `shape`, `dtypes`, số NA mỗi cột."
   ]
  },
  {
   "cell_type": "code",
   "execution_count": null,
   "id": "9b42904e",
   "metadata": {},
   "outputs": [],
   "source": [
    "DATA_PATH = r\"/mnt/data/penguins-data.csv\"\n",
    "ext = os.path.splitext(DATA_PATH)[1].lower()\n",
    "if ext in [\".xls\", \".xlsx\"]:\n",
    "    try:\n",
    "        df = pd.read_excel(DATA_PATH)\n",
    "    except Exception:\n",
    "        try:\n",
    "            df = pd.read_excel(DATA_PATH, engine=\"xlrd\")\n",
    "        except Exception:\n",
    "            df = pd.read_excel(DATA_PATH, engine=\"openpyxl\")\n",
    "else:\n",
    "    df = pd.read_csv(DATA_PATH)\n",
    "print('Shape:', df.shape)\n",
    "display(df.head())\n",
    "print('\\nDtypes:'); print(df.dtypes)\n",
    "print('\\nMissing per column:'); print(df.isna().sum())\n"
   ]
  },
  {
   "cell_type": "markdown",
   "id": "7097f119",
   "metadata": {},
   "source": [
    "**Gợi ý lời giải:**\n",
    "- `pd.read_excel` cho `.xls/.xlsx`; `.read_csv` cho `.csv`.\n",
    "- Dùng `df.isna().sum()` để thống kê NA.\n"
   ]
  },
  {
   "cell_type": "markdown",
   "id": "c96e7960",
   "metadata": {},
   "source": [
    "## A2) Làm sạch nhanh\n",
    "- Chuẩn hóa `SEX/GENDER` (nếu có) → thêm cột `*_num` (M/Nam=1, F/Nữ=0)\n",
    "- Chuyển cột object có dạng số (\"1,200\", \"45%\") sang số `_num`."
   ]
  },
  {
   "cell_type": "code",
   "execution_count": null,
   "id": "b5235014",
   "metadata": {},
   "outputs": [],
   "source": [
    "df = df.copy()\n",
    "for col in df.columns:\n",
    "    if str(col).strip().lower() in ('sex','gender'):\n",
    "        df[col] = df[col].astype(str).str.strip().str.upper()\n",
    "        mapping = {'M':1,'MALE':1,'NAM':1,'F':0,'FEMALE':0,'NU':0,'NỮ':0}\n",
    "        df[col+'_num'] = df[col].map(mapping)\n",
    "\n",
    "def to_num(s: pd.Series) -> pd.Series:\n",
    "    return (s.astype(str)\n",
    "              .str.replace(',','', regex=False)\n",
    "              .str.replace('%','', regex=False)\n",
    "              .str.replace(r'[^\\d\\.-+eE]','', regex=True)\n",
    "              .str.strip()\n",
    "              .pipe(pd.to_numeric, errors='coerce'))\n",
    "\n",
    "df_num = df.select_dtypes(include='number').copy()\n",
    "for c in df.select_dtypes(include='object').columns:\n",
    "    cand = to_num(df[c])\n",
    "    if cand.notna().sum() >= max(3, int(0.5*len(df))):\n",
    "        df_num[c+'_num'] = cand\n",
    "print('Numeric cols:', df_num.columns.tolist()[:10], '...')\n"
   ]
  },
  {
   "cell_type": "markdown",
   "id": "44c94989",
   "metadata": {},
   "source": [
    "**Gợi ý lời giải:**\n",
    "- Dùng `select_dtypes(include='number')` để tránh lỗi tính mean trên cột chữ.\n",
    "- Quy tắc nhận diện cột object có thể chuyển số: ≥ 50% phần tử chuyển được."
   ]
  },
  {
   "cell_type": "markdown",
   "id": "0b5f4ad4",
   "metadata": {},
   "source": [
    "## A3) Đặc trưng thống kê\n",
    "Tính: mean/median/std/min/max/count và `describe()` cho `df_num`."
   ]
  },
  {
   "cell_type": "code",
   "execution_count": null,
   "id": "fb8876c3",
   "metadata": {},
   "outputs": [],
   "source": [
    "stats_df = pd.DataFrame({\n",
    "    'mean': df_num.mean(numeric_only=True),\n",
    "    'median': df_num.median(numeric_only=True),\n",
    "    'std': df_num.std(numeric_only=True),\n",
    "    'min': df_num.min(numeric_only=True),\n",
    "    'max': df_num.max(numeric_only=True),\n",
    "    'count': df_num.count()\n",
    "})\n",
    "display(stats_df)\n",
    "display(df_num.describe())\n"
   ]
  },
  {
   "cell_type": "markdown",
   "id": "1d013b8a",
   "metadata": {},
   "source": [
    "**Gợi ý lời giải:**\n",
    "- Nếu mean khác median nhiều → phân bố lệch, có thể có outlier.\n",
    "- `std` lớn → dữ liệu phân tán mạnh."
   ]
  },
  {
   "cell_type": "markdown",
   "id": "52fbb96f",
   "metadata": {},
   "source": [
    "## A4) Trực quan hóa (matplotlib)\n",
    "- 1 histogram (cột số đầu tiên)\n",
    "- 1 boxplot (≤10 cột số đầu)\n",
    "- 1 scatter (2 cột số đầu)\n",
    "- 1 heatmap tương quan"
   ]
  },
  {
   "cell_type": "code",
   "execution_count": null,
   "id": "3bebfbe0",
   "metadata": {},
   "outputs": [],
   "source": [
    "num_cols = df_num.columns.tolist()\n",
    "# Histogram\n",
    "if num_cols:\n",
    "    c = num_cols[0]\n",
    "    plt.figure(); plt.hist(df_num[c].dropna(), bins=20)\n",
    "    plt.title(f'Histogram: {c}'); plt.xlabel(c); plt.ylabel('Tần suất'); plt.show()\n",
    "# Boxplot\n",
    "cols = num_cols[:10]\n",
    "if cols:\n",
    "    plt.figure(figsize=(max(6, 0.6*len(cols)), 4))\n",
    "    plt.boxplot([df_num[x].dropna() for x in cols], labels=cols, vert=True)\n",
    "    plt.title('Boxplot (first numeric columns)'); plt.xticks(rotation=45, ha='right'); plt.tight_layout(); plt.show()\n",
    "# Scatter\n",
    "if len(num_cols) >= 2:\n",
    "    x,y = num_cols[0], num_cols[1]\n",
    "    plt.figure(); plt.scatter(df_num[x], df_num[y])\n",
    "    plt.title(f'Scatter: {x} vs {y}'); plt.xlabel(x); plt.ylabel(y); plt.show()\n",
    "# Heatmap\n",
    "if len(num_cols) >= 2:\n",
    "    corr = df_num.corr(numeric_only=True)\n",
    "    plt.figure(figsize=(6,5)); plt.imshow(corr, aspect='auto'); plt.colorbar(); plt.title('Correlation heatmap')\n",
    "    plt.xticks(range(len(corr.columns)), corr.columns, rotation=90)\n",
    "    plt.yticks(range(len(corr.index)), corr.index); plt.tight_layout(); plt.show()\n"
   ]
  },
  {
   "cell_type": "markdown",
   "id": "9bbb265e",
   "metadata": {},
   "source": [
    "**Gợi ý lời giải:**\n",
    "- Histogram để nhìn phân bố; Boxplot để thấy outlier; Scatter để thấy tương quan; Heatmap để tổng quát tương quan."
   ]
  },
  {
   "cell_type": "markdown",
   "id": "8eb1c6b6",
   "metadata": {},
   "source": [
    "## A5) Bài ngữ cảnh theo dataset\n",
    "- Nếu có `SEX/GENDER`: so sánh trung bình biến số đầu theo giới; tính tỷ lệ một nhóm.\n",
    "- Nếu có `BMIAP/BMISP`: tính tỷ lệ BMI giảm và **CI 90%** cho tỷ lệ.\n",
    "- Nếu là đếm rời rạc (M&M): đặt bài **nhị thức/Poisson**.\n",
    "- Nếu là đo lường liên tục (Voltage/Screws): đặt bài **Chuẩn**."
   ]
  },
  {
   "cell_type": "code",
   "execution_count": null,
   "id": "807c77d0",
   "metadata": {},
   "outputs": [],
   "source": [
    "# SEX/GENDER group mean\n",
    "sexcol=None\n",
    "for c in df.columns:\n",
    "    if str(c).strip().lower() in ('sex','gender'):\n",
    "        sexcol=c; break\n",
    "if sexcol and len(df_num.columns)>=1:\n",
    "    g = df.groupby(sexcol)[df_num.columns[0]].mean(numeric_only=True)\n",
    "    print('Group mean by', sexcol, 'for', df_num.columns[0])\n",
    "    print(g)\n",
    "\n",
    "# BMI decrease + CI90%\n",
    "if set(['BMIAP','BMISP']).issubset(df.columns):\n",
    "    n = len(df)\n",
    "    x = (df['BMIAP'] < df['BMISP']).sum()\n",
    "    p_hat = x/n if n else np.nan\n",
    "    z = 1.645\n",
    "    se = (p_hat*(1-p_hat)/n)**0.5 if n else np.nan\n",
    "    print(f'[BMI decrease] {x}/{n} -> p̂={p_hat:.3f}, CI90%=({p_hat - z*se:.3f}, {p_hat + z*se:.3f})')\n"
   ]
  },
  {
   "cell_type": "markdown",
   "id": "c869dca2",
   "metadata": {},
   "source": [
    "**Gợi ý lời giải:**\n",
    "- Tỷ lệ: `x/n`. CI90%: `p̂ ± 1.645 * sqrt(p̂(1-p̂)/n)`.\n",
    "- Nhớ điều kiện xấp xỉ: `n p̂ ≥ 5` và `n(1-p̂) ≥ 5`."
   ]
  },
  {
   "cell_type": "markdown",
   "id": "76d2a064",
   "metadata": {},
   "source": [
    "## B) Xác suất & Phân vị — điền số theo ngữ cảnh đề\n",
    "- **Nhị thức**: `binom.pmf/cdf/ppf`\n",
    "- **Poisson**: `poisson.pmf/cdf/ppf`\n",
    "- **Chuẩn**: `norm.cdf/ppf`"
   ]
  },
  {
   "cell_type": "code",
   "execution_count": null,
   "id": "aa92f7b6",
   "metadata": {},
   "outputs": [],
   "source": [
    "# Binomial — TODO: điền n, p, k phù hợp ngữ cảnh\n",
    "n, p, k = 10, 0.3, 3\n",
    "print('[Binomial] P(X=k)=', binom.pmf(k,n,p), '  P(X<=k)=', binom.cdf(k,n,p), '  k_90=', binom.ppf(0.90,n,p))\n",
    "\n",
    "# Poisson — TODO: điền λ phù hợp\n",
    "lam = 6\n",
    "print('[Poisson] P(X<=2)=', poisson.cdf(2,lam), '  P(X>=3)=', 1-poisson.cdf(2,lam), '  x_95%=', poisson.ppf(0.95,lam))\n",
    "\n",
    "# Normal — TODO: điền μ, σ\n",
    "mu, sigma = 100, 15\n",
    "print('[Normal] P(X<120)=', norm.cdf(120,mu,sigma), '  P(85<X<115)=', norm.cdf(115,mu,sigma)-norm.cdf(85,mu,sigma), '  x_90%=', norm.ppf(0.90,mu,sigma))\n"
   ]
  },
  {
   "cell_type": "markdown",
   "id": "0ebd4b95",
   "metadata": {},
   "source": [
    "**Gợi ý lời giải:**\n",
    "- “ít nhất k” = `1 - binom.cdf(k-1, n, p)`; “không quá k” = `binom.cdf(k, n, p)`.\n",
    "- Poisson: “≥ b” = `1 - poisson.cdf(b-1, λ)`.\n",
    "- Normal: xác suất là diện tích → dùng `cdf` hoặc chênh 2 `cdf`."
   ]
  }
 ],
 "metadata": {},
 "nbformat": 4,
 "nbformat_minor": 5
}
