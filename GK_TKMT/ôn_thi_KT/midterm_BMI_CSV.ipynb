{
 "cells": [
  {
   "cell_type": "markdown",
   "id": "7e918f53",
   "metadata": {},
   "source": [
    "# 🗂️ Đề luyện giữa kỳ — BMI_CSV\n",
    "\n",
    "**Chủ đề:** *Chỉ số BMI tổng hợp*\n",
    "\n",
    "**Phần A:** Đọc dữ liệu, đặc trưng, trực quan hóa (matplotlib).\n",
    "\n",
    "**Phần B:** Xác suất & phân vị (Nhị thức, Poisson, Chuẩn) + **khoảng tin cậy 90% cho tỷ lệ**.\n"
   ]
  },
  {
   "cell_type": "code",
   "execution_count": 7,
   "id": "83aa8ecc",
   "metadata": {},
   "outputs": [
    {
     "name": "stdout",
     "output_type": "stream",
     "text": [
      "Ready\n"
     ]
    }
   ],
   "source": [
    "# Thiết lập thư viện\n",
    "import os, math\n",
    "import numpy as np\n",
    "import pandas as pd\n",
    "import matplotlib.pyplot as plt\n",
    "from scipy.stats import binom, poisson, norm\n",
    "print('Ready')\n"
   ]
  },
  {
   "cell_type": "markdown",
   "id": "21ae58d5",
   "metadata": {},
   "source": [
    "## A1) Đọc dữ liệu & khám phá\n",
    "**Yêu cầu:** in `head(5)`, `shape`, `dtypes`, số NA mỗi cột."
   ]
  },
  {
   "cell_type": "code",
   "execution_count": 9,
   "id": "835ae899",
   "metadata": {},
   "outputs": [
    {
     "name": "stdout",
     "output_type": "stream",
     "text": [
      "Shape: (500, 4)\n"
     ]
    },
    {
     "data": {
      "text/html": [
       "<div>\n",
       "<style scoped>\n",
       "    .dataframe tbody tr th:only-of-type {\n",
       "        vertical-align: middle;\n",
       "    }\n",
       "\n",
       "    .dataframe tbody tr th {\n",
       "        vertical-align: top;\n",
       "    }\n",
       "\n",
       "    .dataframe thead th {\n",
       "        text-align: right;\n",
       "    }\n",
       "</style>\n",
       "<table border=\"1\" class=\"dataframe\">\n",
       "  <thead>\n",
       "    <tr style=\"text-align: right;\">\n",
       "      <th></th>\n",
       "      <th>Personal</th>\n",
       "      <th>Gender</th>\n",
       "      <th>Height_cm</th>\n",
       "      <th>Weight_kg</th>\n",
       "    </tr>\n",
       "  </thead>\n",
       "  <tbody>\n",
       "    <tr>\n",
       "      <th>0</th>\n",
       "      <td>P1</td>\n",
       "      <td>Male</td>\n",
       "      <td>174</td>\n",
       "      <td>96</td>\n",
       "    </tr>\n",
       "    <tr>\n",
       "      <th>1</th>\n",
       "      <td>P2</td>\n",
       "      <td>Male</td>\n",
       "      <td>189</td>\n",
       "      <td>87</td>\n",
       "    </tr>\n",
       "    <tr>\n",
       "      <th>2</th>\n",
       "      <td>P3</td>\n",
       "      <td>Female</td>\n",
       "      <td>185</td>\n",
       "      <td>110</td>\n",
       "    </tr>\n",
       "    <tr>\n",
       "      <th>3</th>\n",
       "      <td>P4</td>\n",
       "      <td>Female</td>\n",
       "      <td>195</td>\n",
       "      <td>104</td>\n",
       "    </tr>\n",
       "    <tr>\n",
       "      <th>4</th>\n",
       "      <td>P5</td>\n",
       "      <td>Male</td>\n",
       "      <td>149</td>\n",
       "      <td>61</td>\n",
       "    </tr>\n",
       "  </tbody>\n",
       "</table>\n",
       "</div>"
      ],
      "text/plain": [
       "  Personal  Gender  Height_cm  Weight_kg\n",
       "0       P1    Male        174         96\n",
       "1       P2    Male        189         87\n",
       "2       P3  Female        185        110\n",
       "3       P4  Female        195        104\n",
       "4       P5    Male        149         61"
      ]
     },
     "metadata": {},
     "output_type": "display_data"
    },
    {
     "name": "stdout",
     "output_type": "stream",
     "text": [
      "\n",
      "Dtypes:\n",
      "Personal     object\n",
      "Gender       object\n",
      "Height_cm     int64\n",
      "Weight_kg     int64\n",
      "dtype: object\n",
      "\n",
      "Missing per column:\n",
      "Personal     0\n",
      "Gender       0\n",
      "Height_cm    0\n",
      "Weight_kg    0\n",
      "dtype: int64\n"
     ]
    }
   ],
   "source": [
    "DATA_PATH = r\"data/bmi.csv\"\n",
    "ext = os.path.splitext(DATA_PATH)[1].lower()\n",
    "if ext in [\".xls\", \".xlsx\"]:\n",
    "    try:\n",
    "        df = pd.read_excel(DATA_PATH)\n",
    "    except Exception:\n",
    "        try:\n",
    "            df = pd.read_excel(DATA_PATH, engine=\"xlrd\")\n",
    "        except Exception:\n",
    "            df = pd.read_excel(DATA_PATH, engine=\"openpyxl\")\n",
    "else:\n",
    "    df = pd.read_csv(DATA_PATH)\n",
    "print('Shape:', df.shape)\n",
    "display(df.head())\n",
    "print('\\nDtypes:'); print(df.dtypes)\n",
    "print('\\nMissing per column:'); print(df.isna().sum())\n"
   ]
  },
  {
   "cell_type": "markdown",
   "id": "7007aaaa",
   "metadata": {},
   "source": [
    "**Gợi ý lời giải:**\n",
    "- `pd.read_excel` cho `.xls/.xlsx`; `.read_csv` cho `.csv`.\n",
    "- Dùng `df.isna().sum()` để thống kê NA.\n"
   ]
  },
  {
   "cell_type": "markdown",
   "id": "dd8bc96e",
   "metadata": {},
   "source": [
    "## A2) Làm sạch nhanh\n",
    "- Chuẩn hóa `SEX/GENDER` (nếu có) → thêm cột `*_num` (M/Nam=1, F/Nữ=0)\n",
    "- Chuyển cột object có dạng số (\"1,200\", \"45%\") sang số `_num`."
   ]
  },
  {
   "cell_type": "code",
   "execution_count": 4,
   "id": "5383b7d1",
   "metadata": {},
   "outputs": [
    {
     "name": "stdout",
     "output_type": "stream",
     "text": [
      "Numeric cols: ['Height_cm', 'Weight_kg', 'Gender_num', 'Personal_num'] ...\n"
     ]
    }
   ],
   "source": [
    "df = df.copy()\n",
    "for col in df.columns:\n",
    "    if str(col).strip().lower() in ('sex','gender'):\n",
    "        df[col] = df[col].astype(str).str.strip().str.upper()\n",
    "        mapping = {'M':1,'MALE':1,'NAM':1,'F':0,'FEMALE':0,'NU':0,'NỮ':0}\n",
    "        df[col+'_num'] = df[col].map(mapping)\n",
    "\n",
    "def to_num(s: pd.Series) -> pd.Series:\n",
    "    return (s.astype(str)\n",
    "              .str.replace(',','', regex=False)\n",
    "              .str.replace('%','', regex=False)\n",
    "              .str.replace(r'[^\\d\\.\\+eE-]', '', regex=True)\n",
    "              .str.strip()\n",
    "              .pipe(pd.to_numeric, errors='coerce'))\n",
    "\n",
    "df_num = df.select_dtypes(include='number').copy()\n",
    "for c in df.select_dtypes(include='object').columns:\n",
    "    cand = to_num(df[c])\n",
    "    if cand.notna().sum() >= max(3, int(0.5*len(df))):\n",
    "        df_num[c+'_num'] = cand\n",
    "print('Numeric cols:', df_num.columns.tolist()[:10], '...')\n"
   ]
  },
  {
   "cell_type": "markdown",
   "id": "57552d01",
   "metadata": {},
   "source": [
    "**Gợi ý lời giải:**\n",
    "- Dùng `select_dtypes(include='number')` để tránh lỗi tính mean trên cột chữ.\n",
    "- Quy tắc nhận diện cột object có thể chuyển số: ≥ 50% phần tử chuyển được."
   ]
  },
  {
   "cell_type": "markdown",
   "id": "00b455a5",
   "metadata": {},
   "source": [
    "## A3) Đặc trưng thống kê\n",
    "Tính: mean/median/std/min/max/count và `describe()` cho `df_num`."
   ]
  },
  {
   "cell_type": "code",
   "execution_count": 5,
   "id": "7b73d68c",
   "metadata": {},
   "outputs": [
    {
     "data": {
      "text/html": [
       "<div>\n",
       "<style scoped>\n",
       "    .dataframe tbody tr th:only-of-type {\n",
       "        vertical-align: middle;\n",
       "    }\n",
       "\n",
       "    .dataframe tbody tr th {\n",
       "        vertical-align: top;\n",
       "    }\n",
       "\n",
       "    .dataframe thead th {\n",
       "        text-align: right;\n",
       "    }\n",
       "</style>\n",
       "<table border=\"1\" class=\"dataframe\">\n",
       "  <thead>\n",
       "    <tr style=\"text-align: right;\">\n",
       "      <th></th>\n",
       "      <th>mean</th>\n",
       "      <th>median</th>\n",
       "      <th>std</th>\n",
       "      <th>min</th>\n",
       "      <th>max</th>\n",
       "      <th>count</th>\n",
       "    </tr>\n",
       "  </thead>\n",
       "  <tbody>\n",
       "    <tr>\n",
       "      <th>Height_cm</th>\n",
       "      <td>169.944</td>\n",
       "      <td>170.5</td>\n",
       "      <td>16.375261</td>\n",
       "      <td>140</td>\n",
       "      <td>199</td>\n",
       "      <td>500</td>\n",
       "    </tr>\n",
       "    <tr>\n",
       "      <th>Weight_kg</th>\n",
       "      <td>106.000</td>\n",
       "      <td>106.0</td>\n",
       "      <td>32.382607</td>\n",
       "      <td>50</td>\n",
       "      <td>160</td>\n",
       "      <td>500</td>\n",
       "    </tr>\n",
       "    <tr>\n",
       "      <th>Gender_num</th>\n",
       "      <td>0.490</td>\n",
       "      <td>0.0</td>\n",
       "      <td>0.500401</td>\n",
       "      <td>0</td>\n",
       "      <td>1</td>\n",
       "      <td>500</td>\n",
       "    </tr>\n",
       "    <tr>\n",
       "      <th>Personal_num</th>\n",
       "      <td>250.500</td>\n",
       "      <td>250.5</td>\n",
       "      <td>144.481833</td>\n",
       "      <td>1</td>\n",
       "      <td>500</td>\n",
       "      <td>500</td>\n",
       "    </tr>\n",
       "  </tbody>\n",
       "</table>\n",
       "</div>"
      ],
      "text/plain": [
       "                 mean  median         std  min  max  count\n",
       "Height_cm     169.944   170.5   16.375261  140  199    500\n",
       "Weight_kg     106.000   106.0   32.382607   50  160    500\n",
       "Gender_num      0.490     0.0    0.500401    0    1    500\n",
       "Personal_num  250.500   250.5  144.481833    1  500    500"
      ]
     },
     "metadata": {},
     "output_type": "display_data"
    },
    {
     "data": {
      "text/html": [
       "<div>\n",
       "<style scoped>\n",
       "    .dataframe tbody tr th:only-of-type {\n",
       "        vertical-align: middle;\n",
       "    }\n",
       "\n",
       "    .dataframe tbody tr th {\n",
       "        vertical-align: top;\n",
       "    }\n",
       "\n",
       "    .dataframe thead th {\n",
       "        text-align: right;\n",
       "    }\n",
       "</style>\n",
       "<table border=\"1\" class=\"dataframe\">\n",
       "  <thead>\n",
       "    <tr style=\"text-align: right;\">\n",
       "      <th></th>\n",
       "      <th>Height_cm</th>\n",
       "      <th>Weight_kg</th>\n",
       "      <th>Gender_num</th>\n",
       "      <th>Personal_num</th>\n",
       "    </tr>\n",
       "  </thead>\n",
       "  <tbody>\n",
       "    <tr>\n",
       "      <th>count</th>\n",
       "      <td>500.000000</td>\n",
       "      <td>500.000000</td>\n",
       "      <td>500.000000</td>\n",
       "      <td>500.000000</td>\n",
       "    </tr>\n",
       "    <tr>\n",
       "      <th>mean</th>\n",
       "      <td>169.944000</td>\n",
       "      <td>106.000000</td>\n",
       "      <td>0.490000</td>\n",
       "      <td>250.500000</td>\n",
       "    </tr>\n",
       "    <tr>\n",
       "      <th>std</th>\n",
       "      <td>16.375261</td>\n",
       "      <td>32.382607</td>\n",
       "      <td>0.500401</td>\n",
       "      <td>144.481833</td>\n",
       "    </tr>\n",
       "    <tr>\n",
       "      <th>min</th>\n",
       "      <td>140.000000</td>\n",
       "      <td>50.000000</td>\n",
       "      <td>0.000000</td>\n",
       "      <td>1.000000</td>\n",
       "    </tr>\n",
       "    <tr>\n",
       "      <th>25%</th>\n",
       "      <td>156.000000</td>\n",
       "      <td>80.000000</td>\n",
       "      <td>0.000000</td>\n",
       "      <td>125.750000</td>\n",
       "    </tr>\n",
       "    <tr>\n",
       "      <th>50%</th>\n",
       "      <td>170.500000</td>\n",
       "      <td>106.000000</td>\n",
       "      <td>0.000000</td>\n",
       "      <td>250.500000</td>\n",
       "    </tr>\n",
       "    <tr>\n",
       "      <th>75%</th>\n",
       "      <td>184.000000</td>\n",
       "      <td>136.000000</td>\n",
       "      <td>1.000000</td>\n",
       "      <td>375.250000</td>\n",
       "    </tr>\n",
       "    <tr>\n",
       "      <th>max</th>\n",
       "      <td>199.000000</td>\n",
       "      <td>160.000000</td>\n",
       "      <td>1.000000</td>\n",
       "      <td>500.000000</td>\n",
       "    </tr>\n",
       "  </tbody>\n",
       "</table>\n",
       "</div>"
      ],
      "text/plain": [
       "        Height_cm   Weight_kg  Gender_num  Personal_num\n",
       "count  500.000000  500.000000  500.000000    500.000000\n",
       "mean   169.944000  106.000000    0.490000    250.500000\n",
       "std     16.375261   32.382607    0.500401    144.481833\n",
       "min    140.000000   50.000000    0.000000      1.000000\n",
       "25%    156.000000   80.000000    0.000000    125.750000\n",
       "50%    170.500000  106.000000    0.000000    250.500000\n",
       "75%    184.000000  136.000000    1.000000    375.250000\n",
       "max    199.000000  160.000000    1.000000    500.000000"
      ]
     },
     "metadata": {},
     "output_type": "display_data"
    }
   ],
   "source": [
    "stats_df = pd.DataFrame({\n",
    "    'mean': df_num.mean(numeric_only=True),\n",
    "    'median': df_num.median(numeric_only=True),\n",
    "    'std': df_num.std(numeric_only=True),\n",
    "    'min': df_num.min(numeric_only=True),\n",
    "    'max': df_num.max(numeric_only=True),\n",
    "    'count': df_num.count()\n",
    "})\n",
    "display(stats_df)\n",
    "display(df_num.describe())\n"
   ]
  },
  {
   "cell_type": "markdown",
   "id": "4053e2fc",
   "metadata": {},
   "source": [
    "**Gợi ý lời giải:**\n",
    "- Nếu mean khác median nhiều → phân bố lệch, có thể có outlier.\n",
    "- `std` lớn → dữ liệu phân tán mạnh."
   ]
  },
  {
   "cell_type": "markdown",
   "id": "88838f73",
   "metadata": {},
   "source": [
    "## A4) Trực quan hóa (matplotlib)\n",
    "- 1 histogram (cột số đầu tiên)\n",
    "- 1 boxplot (≤10 cột số đầu)\n",
    "- 1 scatter (2 cột số đầu)\n",
    "- 1 heatmap tương quan"
   ]
  },
  {
   "cell_type": "code",
   "execution_count": 7,
   "id": "fde581c9",
   "metadata": {},
   "outputs": [
    {
     "data": {
      "image/png": "[encoded data removed]",
      "text/plain": [
       "<Figure size 640x480 with 1 Axes>"
      ]
     },
     "metadata": {},
     "output_type": "display_data"
    },
    {
     "data": {
      "image/png": "[encoded data removed]",
      "text/plain": [
       "<Figure size 600x400 with 1 Axes>"
      ]
     },
     "metadata": {},
     "output_type": "display_data"
    },
    {
     "data": {
      "image/png": "[encoded data removed]",
      "text/plain": [
       "<Figure size 640x480 with 1 Axes>"
      ]
     },
     "metadata": {},
     "output_type": "display_data"
    },
    {
     "data": {
      "image/png": "[encoded data removed]",
      "text/plain": [
       "<Figure size 600x500 with 2 Axes>"
      ]
     },
     "metadata": {},
     "output_type": "display_data"
    }
   ],
   "source": [
    "import matplotlib.pyplot as plt\n",
    "\n",
    "num_cols = df_num.columns.tolist()\n",
    "\n",
    "# Histogram\n",
    "if num_cols:\n",
    "    c = num_cols[0]\n",
    "    plt.figure()\n",
    "    plt.hist(df_num[c].dropna(), bins=20)\n",
    "    plt.title(f'Histogram: {c}')\n",
    "    plt.xlabel(c)\n",
    "    plt.ylabel('Tần suất')\n",
    "    plt.show()\n",
    "\n",
    "# Boxplot\n",
    "cols = num_cols[:10]\n",
    "if cols:\n",
    "    plt.figure(figsize=(max(6, 0.6*len(cols)), 4))\n",
    "    # FIX: Đã thay 'labels' bằng 'tick_labels' để loại bỏ cảnh báo!\n",
    "    plt.boxplot([df_num[x].dropna() for x in cols], tick_labels=cols, vert=True) \n",
    "    plt.title('Boxplot (first numeric columns)')\n",
    "    plt.xticks(rotation=45, ha='right')\n",
    "    plt.tight_layout()\n",
    "    plt.show()\n",
    "\n",
    "# Scatter\n",
    "if len(num_cols) >= 2:\n",
    "    x,y = num_cols[0], num_cols[1]\n",
    "    plt.figure()\n",
    "    plt.scatter(df_num[x], df_num[y])\n",
    "    plt.title(f'Scatter: {x} vs {y}')\n",
    "    plt.xlabel(x)\n",
    "    plt.ylabel(y)\n",
    "    plt.show()\n",
    "\n",
    "# Heatmap\n",
    "if len(num_cols) >= 2:\n",
    "    # Thêm kiểm tra số lượng cột để tránh lỗi nếu num_cols quá ít cho heatmap lớn\n",
    "    if len(num_cols) >= 2: \n",
    "        corr = df_num.corr(numeric_only=True)\n",
    "        # Tối ưu kích thước heatmap cho dễ nhìn\n",
    "        size = len(corr.columns)\n",
    "        plt.figure(figsize=(max(6, 0.8 * size), max(5, 0.7 * size)))\n",
    "        plt.imshow(corr, aspect='auto', cmap='coolwarm')\n",
    "        plt.colorbar()\n",
    "        plt.title('Correlation heatmap')\n",
    "        plt.xticks(range(size), corr.columns, rotation=90)\n",
    "        plt.yticks(range(size), corr.index)\n",
    "        plt.tight_layout()\n",
    "        plt.show()"
   ]
  },
  {
   "cell_type": "markdown",
   "id": "58dd705f",
   "metadata": {},
   "source": [
    "**Gợi ý lời giải:**\n",
    "- Histogram để nhìn phân bố; Boxplot để thấy outlier; Scatter để thấy tương quan; Heatmap để tổng quát tương quan."
   ]
  },
  {
   "cell_type": "markdown",
   "id": "437f43ef",
   "metadata": {},
   "source": [
    "## A5) Bài ngữ cảnh theo dataset\n",
    "- Nếu có `SEX/GENDER`: so sánh trung bình biến số đầu theo giới; tính tỷ lệ một nhóm.\n",
    "- Nếu có `BMIAP/BMISP`: tính tỷ lệ BMI giảm và **CI 90%** cho tỷ lệ.\n",
    "- Nếu là đếm rời rạc (M&M): đặt bài **nhị thức/Poisson**.\n",
    "- Nếu là đo lường liên tục (Voltage/Screws): đặt bài **Chuẩn**."
   ]
  },
  {
   "cell_type": "code",
   "execution_count": 8,
   "id": "5424a928",
   "metadata": {},
   "outputs": [
    {
     "name": "stdout",
     "output_type": "stream",
     "text": [
      "Group mean by Gender for Height_cm\n",
      "Gender\n",
      "FEMALE    170.227451\n",
      "MALE      169.648980\n",
      "Name: Height_cm, dtype: float64\n"
     ]
    }
   ],
   "source": [
    "# SEX/GENDER group mean\n",
    "sexcol=None\n",
    "for c in df.columns:\n",
    "    if str(c).strip().lower() in ('sex','gender'):\n",
    "        sexcol=c; break\n",
    "if sexcol and len(df_num.columns)>=1:\n",
    "    g = df.groupby(sexcol)[df_num.columns[0]].mean(numeric_only=True)\n",
    "    print('Group mean by', sexcol, 'for', df_num.columns[0])\n",
    "    print(g)\n",
    "\n",
    "# BMI decrease + CI90%\n",
    "if set(['BMIAP','BMISP']).issubset(df.columns):\n",
    "    n = len(df)\n",
    "    x = (df['BMIAP'] < df['BMISP']).sum()\n",
    "    p_hat = x/n if n else np.nan\n",
    "    z = 1.645\n",
    "    se = (p_hat*(1-p_hat)/n)**0.5 if n else np.nan\n",
    "    print(f'[BMI decrease] {x}/{n} -> p̂={p_hat:.3f}, CI90%=({p_hat - z*se:.3f}, {p_hat + z*se:.3f})')\n"
   ]
  },
  {
   "cell_type": "markdown",
   "id": "52d3e0ad",
   "metadata": {},
   "source": [
    "**Gợi ý lời giải:**\n",
    "- Tỷ lệ: `x/n`. CI90%: `p̂ ± 1.645 * sqrt(p̂(1-p̂)/n)`.\n",
    "- Nhớ điều kiện xấp xỉ: `n p̂ ≥ 5` và `n(1-p̂) ≥ 5`."
   ]
  },
  {
   "cell_type": "markdown",
   "id": "9045a099",
   "metadata": {},
   "source": [
    "## B) Xác suất & Phân vị — điền số theo ngữ cảnh đề\n",
    "- **Nhị thức**: `binom.pmf/cdf/ppf`\n",
    "- **Poisson**: `poisson.pmf/cdf/ppf`\n",
    "- **Chuẩn**: `norm.cdf/ppf`"
   ]
  },
  {
   "cell_type": "code",
   "execution_count": null,
   "id": "a5446d6d",
   "metadata": {},
   "outputs": [],
   "source": [
    "# Binomial — TODO: điền n, p, k phù hợp ngữ cảnh\n",
    "n, p, k = 10, 0.3, 3\n",
    "print('[Binomial] P(X=k)=', binom.pmf(k,n,p), '  P(X<=k)=', binom.cdf(k,n,p), '  k_90=', binom.ppf(0.90,n,p))\n",
    "\n",
    "# Poisson — TODO: điền λ phù hợp\n",
    "lam = 6\n",
    "print('[Poisson] P(X<=2)=', poisson.cdf(2,lam), '  P(X>=3)=', 1-poisson.cdf(2,lam), '  x_95%=', poisson.ppf(0.95,lam))\n",
    "\n",
    "# Normal — TODO: điền μ, σ\n",
    "mu, sigma = 100, 15\n",
    "print('[Normal] P(X<120)=', norm.cdf(120,mu,sigma), '  P(85<X<115)=', norm.cdf(115,mu,sigma)-norm.cdf(85,mu,sigma), '  x_90%=', norm.ppf(0.90,mu,sigma))\n"
   ]
  },
  {
   "cell_type": "markdown",
   "id": "b5f437f7",
   "metadata": {},
   "source": [
    "**Gợi ý lời giải:**\n",
    "- “ít nhất k” = `1 - binom.cdf(k-1, n, p)`; “không quá k” = `binom.cdf(k, n, p)`.\n",
    "- Poisson: “≥ b” = `1 - poisson.cdf(b-1, λ)`.\n",
    "- Normal: xác suất là diện tích → dùng `cdf` hoặc chênh 2 `cdf`."
   ]
  },
  {
   "cell_type": "code",
   "execution_count": null,
   "id": "887b6053-f327-45cd-a948-87d1363135ce",
   "metadata": {},
   "outputs": [],
   "source": []
  },
  {
   "cell_type": "markdown",
   "id": "1d8d2c2e-f143-41cc-8db7-60e9d3223f77",
   "metadata": {},
   "source": [
    "\n",
    "**PHẦN C Xác suất & Phân vị**\n"
   ]
  },
  {
   "cell_type": "markdown",
   "id": "2613d4f5-d95e-4774-a0b1-ac5cb8e8a9c6",
   "metadata": {},
   "source": [
    "**C.1 Nhị thức (Binomial)**\n",
    "\n",
    "Ngữ cảnh mẫu: “Trong một mẫu n cá thể, xác suất một cá thể có tính chất A là p. Tính P(X = k), P(X ≤ k), phân vị 90%…”\n",
    "\n",
    "Công cụ: binom.pmf (xác suất đúng k), binom.cdf (tích lũy), binom.ppf (phân vị)."
   ]
  },
  {
   "cell_type": "code",
   "execution_count": 3,
   "id": "74ed6520-a03c-414a-8862-b07377efb94e",
   "metadata": {},
   "outputs": [
    {
     "name": "stdout",
     "output_type": "stream",
     "text": [
      "Binomial(n, p)\n",
      "P(X = k)   = 0.18440118638393138\n",
      "P(X <= k)  = 0.6010266046031639\n",
      "P(X >= k)  = 0.5833745817807674\n",
      "Phân vị 90% (k sao cho P(X <= k) >= 0.90): 10.0\n"
     ]
    }
   ],
   "source": [
    "from scipy.stats import binom\n",
    "\n",
    "# TODO: điền tham số theo đề\n",
    "n = 20      # cỡ mẫu\n",
    "p = 0.35    # xác suất thành công của 1 cá thể\n",
    "k = 7       # số thành công quan tâm\n",
    "\n",
    "print(\"Binomial(n, p)\")\n",
    "print(\"P(X = k)   =\", binom.pmf(k, n, p))\n",
    "print(\"P(X <= k)  =\", binom.cdf(k, n, p))\n",
    "print(\"P(X >= k)  =\", 1 - binom.cdf(k-1, n, p))\n",
    "print(\"Phân vị 90% (k sao cho P(X <= k) >= 0.90):\", binom.ppf(0.90, n, p))\n"
   ]
  },
  {
   "cell_type": "code",
   "execution_count": 11,
   "id": "e7a4623d-669f-43ff-b784-cedb30e49425",
   "metadata": {},
   "outputs": [
    {
     "name": "stdout",
     "output_type": "stream",
     "text": [
      "Danh sách TÊN CỘT hiện tại trong DataFrame df:\n",
      "['Personal', 'Gender', 'Height_cm', 'Weight_kg']\n"
     ]
    }
   ],
   "source": [
    "# --- BƯỚC 1: KIỂM TRA TÊN CỘT ---\n",
    "print(\"Danh sách TÊN CỘT hiện tại trong DataFrame df:\")\n",
    "print(df.columns.tolist())\n",
    "\n",
    "# --- BƯỚC 2: CHỌN VÀ SỬA (Giả định tên cột đúng là 'body_mass_g') ---\n",
    "# Nếu thấy tên cột có khoảng trắng: ví dụ 'body_mass_g '\n",
    "# Hoặc nếu thấy tên cột có ký tự khác: ví dụ 'Body_Mass_g'\n",
    "# Cậu cần sửa lại tên trong code của cậu"
   ]
  },
  {
   "cell_type": "code",
   "execution_count": 10,
   "id": "b97ebca7-d256-42ff-90d9-402a77fce8e3",
   "metadata": {},
   "outputs": [
    {
     "ename": "KeyError",
     "evalue": "'body_mass_g'",
     "output_type": "error",
     "traceback": [
      "\u001b[0;31m---------------------------------------------------------------------------\u001b[0m",
      "\u001b[0;31mKeyError\u001b[0m                                  Traceback (most recent call last)",
      "File \u001b[0;32m/opt/anaconda3/lib/python3.13/site-packages/pandas/core/indexes/base.py:3805\u001b[0m, in \u001b[0;36mIndex.get_loc\u001b[0;34m(self, key)\u001b[0m\n\u001b[1;32m   3804\u001b[0m \u001b[38;5;28;01mtry\u001b[39;00m:\n\u001b[0;32m-> 3805\u001b[0m     \u001b[38;5;28;01mreturn\u001b[39;00m \u001b[38;5;28mself\u001b[39m\u001b[38;5;241m.\u001b[39m_engine\u001b[38;5;241m.\u001b[39mget_loc(casted_key)\n\u001b[1;32m   3806\u001b[0m \u001b[38;5;28;01mexcept\u001b[39;00m \u001b[38;5;167;01mKeyError\u001b[39;00m \u001b[38;5;28;01mas\u001b[39;00m err:\n",
      "File \u001b[0;32mindex.pyx:167\u001b[0m, in \u001b[0;36mpandas._libs.index.IndexEngine.get_loc\u001b[0;34m()\u001b[0m\n",
      "File \u001b[0;32mindex.pyx:196\u001b[0m, in \u001b[0;36mpandas._libs.index.IndexEngine.get_loc\u001b[0;34m()\u001b[0m\n",
      "File \u001b[0;32mpandas/_libs/hashtable_class_helper.pxi:7081\u001b[0m, in \u001b[0;36mpandas._libs.hashtable.PyObjectHashTable.get_item\u001b[0;34m()\u001b[0m\n",
      "File \u001b[0;32mpandas/_libs/hashtable_class_helper.pxi:7089\u001b[0m, in \u001b[0;36mpandas._libs.hashtable.PyObjectHashTable.get_item\u001b[0;34m()\u001b[0m\n",
      "\u001b[0;31mKeyError\u001b[0m: 'body_mass_g'",
      "\nThe above exception was the direct cause of the following exception:\n",
      "\u001b[0;31mKeyError\u001b[0m                                  Traceback (most recent call last)",
      "Cell \u001b[0;32mIn[10], line 2\u001b[0m\n\u001b[1;32m      1\u001b[0m \u001b[38;5;66;03m# Ví dụ: A = \"chim có body_mass_g > 5000\"\u001b[39;00m\n\u001b[0;32m----> 2\u001b[0m p_hat \u001b[38;5;241m=\u001b[39m (df[\u001b[38;5;124m'\u001b[39m\u001b[38;5;124mbody_mass_g\u001b[39m\u001b[38;5;124m'\u001b[39m] \u001b[38;5;241m>\u001b[39m \u001b[38;5;241m5000\u001b[39m)\u001b[38;5;241m.\u001b[39mmean()\n\u001b[1;32m      3\u001b[0m n \u001b[38;5;241m=\u001b[39m \u001b[38;5;241m30\u001b[39m; k \u001b[38;5;241m=\u001b[39m \u001b[38;5;241m10\u001b[39m\n\u001b[1;32m      4\u001b[0m \u001b[38;5;28mprint\u001b[39m(\u001b[38;5;124m\"\u001b[39m\u001b[38;5;124mDùng p̂ từ dữ liệu:\u001b[39m\u001b[38;5;124m\"\u001b[39m, p_hat)\n",
      "File \u001b[0;32m/opt/anaconda3/lib/python3.13/site-packages/pandas/core/frame.py:4102\u001b[0m, in \u001b[0;36mDataFrame.__getitem__\u001b[0;34m(self, key)\u001b[0m\n\u001b[1;32m   4100\u001b[0m \u001b[38;5;28;01mif\u001b[39;00m \u001b[38;5;28mself\u001b[39m\u001b[38;5;241m.\u001b[39mcolumns\u001b[38;5;241m.\u001b[39mnlevels \u001b[38;5;241m>\u001b[39m \u001b[38;5;241m1\u001b[39m:\n\u001b[1;32m   4101\u001b[0m     \u001b[38;5;28;01mreturn\u001b[39;00m \u001b[38;5;28mself\u001b[39m\u001b[38;5;241m.\u001b[39m_getitem_multilevel(key)\n\u001b[0;32m-> 4102\u001b[0m indexer \u001b[38;5;241m=\u001b[39m \u001b[38;5;28mself\u001b[39m\u001b[38;5;241m.\u001b[39mcolumns\u001b[38;5;241m.\u001b[39mget_loc(key)\n\u001b[1;32m   4103\u001b[0m \u001b[38;5;28;01mif\u001b[39;00m is_integer(indexer):\n\u001b[1;32m   4104\u001b[0m     indexer \u001b[38;5;241m=\u001b[39m [indexer]\n",
      "File \u001b[0;32m/opt/anaconda3/lib/python3.13/site-packages/pandas/core/indexes/base.py:3812\u001b[0m, in \u001b[0;36mIndex.get_loc\u001b[0;34m(self, key)\u001b[0m\n\u001b[1;32m   3807\u001b[0m     \u001b[38;5;28;01mif\u001b[39;00m \u001b[38;5;28misinstance\u001b[39m(casted_key, \u001b[38;5;28mslice\u001b[39m) \u001b[38;5;129;01mor\u001b[39;00m (\n\u001b[1;32m   3808\u001b[0m         \u001b[38;5;28misinstance\u001b[39m(casted_key, abc\u001b[38;5;241m.\u001b[39mIterable)\n\u001b[1;32m   3809\u001b[0m         \u001b[38;5;129;01mand\u001b[39;00m \u001b[38;5;28many\u001b[39m(\u001b[38;5;28misinstance\u001b[39m(x, \u001b[38;5;28mslice\u001b[39m) \u001b[38;5;28;01mfor\u001b[39;00m x \u001b[38;5;129;01min\u001b[39;00m casted_key)\n\u001b[1;32m   3810\u001b[0m     ):\n\u001b[1;32m   3811\u001b[0m         \u001b[38;5;28;01mraise\u001b[39;00m InvalidIndexError(key)\n\u001b[0;32m-> 3812\u001b[0m     \u001b[38;5;28;01mraise\u001b[39;00m \u001b[38;5;167;01mKeyError\u001b[39;00m(key) \u001b[38;5;28;01mfrom\u001b[39;00m\u001b[38;5;250m \u001b[39m\u001b[38;5;21;01merr\u001b[39;00m\n\u001b[1;32m   3813\u001b[0m \u001b[38;5;28;01mexcept\u001b[39;00m \u001b[38;5;167;01mTypeError\u001b[39;00m:\n\u001b[1;32m   3814\u001b[0m     \u001b[38;5;66;03m# If we have a listlike key, _check_indexing_error will raise\u001b[39;00m\n\u001b[1;32m   3815\u001b[0m     \u001b[38;5;66;03m#  InvalidIndexError. Otherwise we fall through and re-raise\u001b[39;00m\n\u001b[1;32m   3816\u001b[0m     \u001b[38;5;66;03m#  the TypeError.\u001b[39;00m\n\u001b[1;32m   3817\u001b[0m     \u001b[38;5;28mself\u001b[39m\u001b[38;5;241m.\u001b[39m_check_indexing_error(key)\n",
      "\u001b[0;31mKeyError\u001b[0m: 'body_mass_g'"
     ]
    }
   ],
   "source": [
    "# Ví dụ: A = \"chim có body_mass_g > 5000\"\n",
    "p_hat = (df['body_mass_g'] > 5000).mean()\n",
    "n = 30; k = 10\n",
    "print(\"Dùng p̂ từ dữ liệu:\", p_hat)\n",
    "print(\"P(X = k) với p̂   =\", binom.pmf(k, n, p_hat))\n"
   ]
  },
  {
   "cell_type": "code",
   "execution_count": null,
   "id": "0259d3ec-8d21-46a8-8462-661046427eb9",
   "metadata": {},
   "outputs": [],
   "source": []
  }
 ],
 "metadata": {
  "kernelspec": {
   "display_name": "Python [conda env:base] *",
   "language": "python",
   "name": "conda-base-py"
  },
  "language_info": {
   "codemirror_mode": {
    "name": "ipython",
    "version": 3
   },
   "file_extension": ".py",
   "mimetype": "text/x-python",
   "name": "python",
   "nbconvert_exporter": "python",
   "pygments_lexer": "ipython3",
   "version": "3.13.5"
  }
 },
 "nbformat": 4,
 "nbformat_minor": 5
}
