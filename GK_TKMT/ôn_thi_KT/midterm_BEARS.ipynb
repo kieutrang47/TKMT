{
 "cells": [
  {
   "cell_type": "markdown",
   "id": "1d99ddfb",
   "metadata": {},
   "source": [
    "# 🗂️ Đề luyện giữa kỳ — BEARS\n",
    "\n",
    "**Chủ đề:** *Gấu: trọng lượng, kích thước, giới*\n",
    "\n",
    "**Phần A:** Đọc dữ liệu, đặc trưng, trực quan hóa (matplotlib).\n",
    "\n",
    "**Phần B:** Xác suất & phân vị (Nhị thức, Poisson, Chuẩn) + **khoảng tin cậy 90% cho tỷ lệ**.\n"
   ]
  },
  {
   "cell_type": "code",
   "execution_count": 9,
   "id": "c46db745",
   "metadata": {},
   "outputs": [
    {
     "name": "stdout",
     "output_type": "stream",
     "text": [
      "Ready\n"
     ]
    }
   ],
   "source": [
    "# Thiết lập thư viện\n",
    "import os, math\n",
    "import numpy as np\n",
    "import pandas as pd\n",
    "import matplotlib.pyplot as plt\n",
    "from scipy.stats import binom, poisson, norm\n",
    "print('Ready')\n"
   ]
  },
  {
   "cell_type": "markdown",
   "id": "2ab98f0f",
   "metadata": {},
   "source": [
    "## A1) Đọc dữ liệu & khám phá\n",
    "**Yêu cầu:** in `head(5)`, `shape`, `dtypes`, số NA mỗi cột."
   ]
  },
  {
   "cell_type": "code",
   "execution_count": 7,
   "id": "11a37e51",
   "metadata": {},
   "outputs": [
    {
     "name": "stdout",
     "output_type": "stream",
     "text": [
      "Kích thước: (54, 9)\n"
     ]
    },
    {
     "data": {
      "text/html": [
       "<div>\n",
       "<style scoped>\n",
       "    .dataframe tbody tr th:only-of-type {\n",
       "        vertical-align: middle;\n",
       "    }\n",
       "\n",
       "    .dataframe tbody tr th {\n",
       "        vertical-align: top;\n",
       "    }\n",
       "\n",
       "    .dataframe thead th {\n",
       "        text-align: right;\n",
       "    }\n",
       "</style>\n",
       "<table border=\"1\" class=\"dataframe\">\n",
       "  <thead>\n",
       "    <tr style=\"text-align: right;\">\n",
       "      <th></th>\n",
       "      <th>AGE</th>\n",
       "      <th>MONTH</th>\n",
       "      <th>SEX</th>\n",
       "      <th>HEADLEN</th>\n",
       "      <th>HEADWTH</th>\n",
       "      <th>NECK</th>\n",
       "      <th>LENGTH</th>\n",
       "      <th>CHEST</th>\n",
       "      <th>WEIGHT</th>\n",
       "    </tr>\n",
       "  </thead>\n",
       "  <tbody>\n",
       "    <tr>\n",
       "      <th>0</th>\n",
       "      <td>19</td>\n",
       "      <td>7</td>\n",
       "      <td>1</td>\n",
       "      <td>11.0</td>\n",
       "      <td>5.5</td>\n",
       "      <td>16.0</td>\n",
       "      <td>53.0</td>\n",
       "      <td>26.0</td>\n",
       "      <td>80</td>\n",
       "    </tr>\n",
       "    <tr>\n",
       "      <th>1</th>\n",
       "      <td>55</td>\n",
       "      <td>7</td>\n",
       "      <td>1</td>\n",
       "      <td>16.5</td>\n",
       "      <td>9.0</td>\n",
       "      <td>28.0</td>\n",
       "      <td>67.5</td>\n",
       "      <td>45.0</td>\n",
       "      <td>344</td>\n",
       "    </tr>\n",
       "    <tr>\n",
       "      <th>2</th>\n",
       "      <td>81</td>\n",
       "      <td>9</td>\n",
       "      <td>1</td>\n",
       "      <td>15.5</td>\n",
       "      <td>8.0</td>\n",
       "      <td>31.0</td>\n",
       "      <td>72.0</td>\n",
       "      <td>54.0</td>\n",
       "      <td>416</td>\n",
       "    </tr>\n",
       "    <tr>\n",
       "      <th>3</th>\n",
       "      <td>115</td>\n",
       "      <td>7</td>\n",
       "      <td>1</td>\n",
       "      <td>17.0</td>\n",
       "      <td>10.0</td>\n",
       "      <td>31.5</td>\n",
       "      <td>72.0</td>\n",
       "      <td>49.0</td>\n",
       "      <td>348</td>\n",
       "    </tr>\n",
       "    <tr>\n",
       "      <th>4</th>\n",
       "      <td>104</td>\n",
       "      <td>8</td>\n",
       "      <td>2</td>\n",
       "      <td>15.5</td>\n",
       "      <td>6.5</td>\n",
       "      <td>22.0</td>\n",
       "      <td>62.0</td>\n",
       "      <td>35.0</td>\n",
       "      <td>166</td>\n",
       "    </tr>\n",
       "  </tbody>\n",
       "</table>\n",
       "</div>"
      ],
      "text/plain": [
       "   AGE  MONTH  SEX  HEADLEN  HEADWTH  NECK  LENGTH  CHEST  WEIGHT\n",
       "0   19      7    1     11.0      5.5  16.0    53.0   26.0      80\n",
       "1   55      7    1     16.5      9.0  28.0    67.5   45.0     344\n",
       "2   81      9    1     15.5      8.0  31.0    72.0   54.0     416\n",
       "3  115      7    1     17.0     10.0  31.5    72.0   49.0     348\n",
       "4  104      8    2     15.5      6.5  22.0    62.0   35.0     166"
      ]
     },
     "metadata": {},
     "output_type": "display_data"
    },
    {
     "name": "stdout",
     "output_type": "stream",
     "text": [
      "\n",
      "Kiểu dữ liệu:\n",
      "AGE          int64\n",
      "MONTH        int64\n",
      "SEX          int64\n",
      "HEADLEN    float64\n",
      "HEADWTH    float64\n",
      "NECK       float64\n",
      "LENGTH     float64\n",
      "CHEST      float64\n",
      "WEIGHT       int64\n",
      "dtype: object\n",
      "\n",
      "Số lượng giá trị thiếu theo cột:\n",
      "AGE        0\n",
      "MONTH      0\n",
      "SEX        0\n",
      "HEADLEN    0\n",
      "HEADWTH    0\n",
      "NECK       0\n",
      "LENGTH     0\n",
      "CHEST      0\n",
      "WEIGHT     0\n",
      "dtype: int64\n"
     ]
    }
   ],
   "source": [
    "import pandas as pd\n",
    "\n",
    "# 1. Đọc dữ liệu\n",
    "df = pd.read_excel(\"data/06_BEARS.xls\")   # hoặc pd.read_csv(\"tênfile.csv\")\n",
    "\n",
    "# 2. Xem kích thước và 5 dòng đầu\n",
    "print(\"Kích thước:\", df.shape)\n",
    "display(df.head())\n",
    "\n",
    "# 3. Kiểm tra kiểu dữ liệu\n",
    "print(\"\\nKiểu dữ liệu:\")\n",
    "print(df.dtypes)\n",
    "\n",
    "# 4. Kiểm tra dữ liệu thiếu\n",
    "print(\"\\nSố lượng giá trị thiếu theo cột:\")\n",
    "print(df.isna().sum())\n"
   ]
  },
  {
   "cell_type": "markdown",
   "id": "2b16a416",
   "metadata": {},
   "source": [
    "**Gợi ý lời giải:**\n",
    "- `pd.read_excel` cho `.xls/.xlsx`; `.read_csv` cho `.csv`.\n",
    "- Dùng `df.isna().sum()` để thống kê NA.\n"
   ]
  },
  {
   "cell_type": "markdown",
   "id": "ca1bde62",
   "metadata": {},
   "source": [
    "## A2) Làm sạch nhanh\n",
    "- Chuẩn hóa `SEX/GENDER` (nếu có) → thêm cột `*_num` (M/Nam=1, F/Nữ=0)\n",
    "- Chuyển cột object có dạng số (\"1,200\", \"45%\") sang số `_num`."
   ]
  },
  {
   "cell_type": "code",
   "execution_count": 19,
   "id": "12a770d0",
   "metadata": {},
   "outputs": [
    {
     "name": "stdout",
     "output_type": "stream",
     "text": [
      "Numeric cols: ['AGE', 'MONTH', 'HEADLEN', 'HEADWTH', 'NECK', 'LENGTH', 'CHEST', 'WEIGHT', 'SEX_num'] ...\n"
     ]
    }
   ],
   "source": [
    "df = df.copy()\n",
    "for col in df.columns:\n",
    "    if str(col).strip().lower() in ('sex','gender'):\n",
    "        df[col] = df[col].astype(str).str.strip().str.upper()\n",
    "        mapping = {'M':1,'MALE':1,'NAM':1,'F':0,'FEMALE':0,'NU':0,'NỮ':0}\n",
    "        df[col+'_num'] = df[col].map(mapping)\n",
    "\n",
    "def to_num(s: pd.Series) -> pd.Series:\n",
    "    return (s.astype(str)\n",
    "              .str.replace(',','', regex=False)\n",
    "              .str.replace('%','', regex=False)\n",
    "              .str.replace(r'[^\\d\\.\\+eE-]', '', regex=True)\n",
    "              .str.strip()\n",
    "              .pipe(pd.to_numeric, errors='coerce'))\n",
    "\n",
    "df_num = df.select_dtypes(include='number').copy()\n",
    "for c in df.select_dtypes(include='object').columns:\n",
    "    cand = to_num(df[c])\n",
    "    if cand.notna().sum() >= max(3, int(0.5*len(df))):\n",
    "        df_num[c+'_num'] = cand\n",
    "print('Numeric cols:', df_num.columns.tolist()[:10], '...')\n"
   ]
  },
  {
   "cell_type": "markdown",
   "id": "3b61c354",
   "metadata": {},
   "source": [
    "**Gợi ý lời giải:**\n",
    "- Dùng `select_dtypes(include='number')` để tránh lỗi tính mean trên cột chữ.\n",
    "- Quy tắc nhận diện cột object có thể chuyển số: ≥ 50% phần tử chuyển được."
   ]
  },
  {
   "cell_type": "markdown",
   "id": "55e5c99f",
   "metadata": {},
   "source": [
    "## A3) Đặc trưng thống kê\n",
    "Tính: mean/median/std/min/max/count và `describe()` cho `df_num`."
   ]
  },
  {
   "cell_type": "code",
   "execution_count": 20,
   "id": "fa9b2558",
   "metadata": {},
   "outputs": [
    {
     "data": {
      "text/html": [
       "<div>\n",
       "<style scoped>\n",
       "    .dataframe tbody tr th:only-of-type {\n",
       "        vertical-align: middle;\n",
       "    }\n",
       "\n",
       "    .dataframe tbody tr th {\n",
       "        vertical-align: top;\n",
       "    }\n",
       "\n",
       "    .dataframe thead th {\n",
       "        text-align: right;\n",
       "    }\n",
       "</style>\n",
       "<table border=\"1\" class=\"dataframe\">\n",
       "  <thead>\n",
       "    <tr style=\"text-align: right;\">\n",
       "      <th></th>\n",
       "      <th>mean</th>\n",
       "      <th>median</th>\n",
       "      <th>std</th>\n",
       "      <th>min</th>\n",
       "      <th>max</th>\n",
       "      <th>count</th>\n",
       "    </tr>\n",
       "  </thead>\n",
       "  <tbody>\n",
       "    <tr>\n",
       "      <th>AGE</th>\n",
       "      <td>43.518519</td>\n",
       "      <td>34.00</td>\n",
       "      <td>33.720684</td>\n",
       "      <td>8.0</td>\n",
       "      <td>177.0</td>\n",
       "      <td>54</td>\n",
       "    </tr>\n",
       "    <tr>\n",
       "      <th>MONTH</th>\n",
       "      <td>8.407407</td>\n",
       "      <td>9.00</td>\n",
       "      <td>2.004886</td>\n",
       "      <td>4.0</td>\n",
       "      <td>11.0</td>\n",
       "      <td>54</td>\n",
       "    </tr>\n",
       "    <tr>\n",
       "      <th>HEADLEN</th>\n",
       "      <td>12.953704</td>\n",
       "      <td>13.00</td>\n",
       "      <td>2.144032</td>\n",
       "      <td>9.0</td>\n",
       "      <td>17.0</td>\n",
       "      <td>54</td>\n",
       "    </tr>\n",
       "    <tr>\n",
       "      <th>HEADWTH</th>\n",
       "      <td>6.194444</td>\n",
       "      <td>6.00</td>\n",
       "      <td>1.512266</td>\n",
       "      <td>4.0</td>\n",
       "      <td>10.0</td>\n",
       "      <td>54</td>\n",
       "    </tr>\n",
       "    <tr>\n",
       "      <th>NECK</th>\n",
       "      <td>20.555556</td>\n",
       "      <td>20.00</td>\n",
       "      <td>5.640710</td>\n",
       "      <td>10.0</td>\n",
       "      <td>31.5</td>\n",
       "      <td>54</td>\n",
       "    </tr>\n",
       "    <tr>\n",
       "      <th>LENGTH</th>\n",
       "      <td>58.616667</td>\n",
       "      <td>60.75</td>\n",
       "      <td>10.700868</td>\n",
       "      <td>36.0</td>\n",
       "      <td>76.5</td>\n",
       "      <td>54</td>\n",
       "    </tr>\n",
       "    <tr>\n",
       "      <th>CHEST</th>\n",
       "      <td>35.662963</td>\n",
       "      <td>34.00</td>\n",
       "      <td>9.351729</td>\n",
       "      <td>19.0</td>\n",
       "      <td>55.0</td>\n",
       "      <td>54</td>\n",
       "    </tr>\n",
       "    <tr>\n",
       "      <th>WEIGHT</th>\n",
       "      <td>182.888889</td>\n",
       "      <td>150.00</td>\n",
       "      <td>121.801209</td>\n",
       "      <td>26.0</td>\n",
       "      <td>514.0</td>\n",
       "      <td>54</td>\n",
       "    </tr>\n",
       "    <tr>\n",
       "      <th>SEX_num</th>\n",
       "      <td>1.351852</td>\n",
       "      <td>1.00</td>\n",
       "      <td>0.482032</td>\n",
       "      <td>1.0</td>\n",
       "      <td>2.0</td>\n",
       "      <td>54</td>\n",
       "    </tr>\n",
       "  </tbody>\n",
       "</table>\n",
       "</div>"
      ],
      "text/plain": [
       "               mean  median         std   min    max  count\n",
       "AGE       43.518519   34.00   33.720684   8.0  177.0     54\n",
       "MONTH      8.407407    9.00    2.004886   4.0   11.0     54\n",
       "HEADLEN   12.953704   13.00    2.144032   9.0   17.0     54\n",
       "HEADWTH    6.194444    6.00    1.512266   4.0   10.0     54\n",
       "NECK      20.555556   20.00    5.640710  10.0   31.5     54\n",
       "LENGTH    58.616667   60.75   10.700868  36.0   76.5     54\n",
       "CHEST     35.662963   34.00    9.351729  19.0   55.0     54\n",
       "WEIGHT   182.888889  150.00  121.801209  26.0  514.0     54\n",
       "SEX_num    1.351852    1.00    0.482032   1.0    2.0     54"
      ]
     },
     "metadata": {},
     "output_type": "display_data"
    },
    {
     "data": {
      "text/html": [
       "<div>\n",
       "<style scoped>\n",
       "    .dataframe tbody tr th:only-of-type {\n",
       "        vertical-align: middle;\n",
       "    }\n",
       "\n",
       "    .dataframe tbody tr th {\n",
       "        vertical-align: top;\n",
       "    }\n",
       "\n",
       "    .dataframe thead th {\n",
       "        text-align: right;\n",
       "    }\n",
       "</style>\n",
       "<table border=\"1\" class=\"dataframe\">\n",
       "  <thead>\n",
       "    <tr style=\"text-align: right;\">\n",
       "      <th></th>\n",
       "      <th>AGE</th>\n",
       "      <th>MONTH</th>\n",
       "      <th>HEADLEN</th>\n",
       "      <th>HEADWTH</th>\n",
       "      <th>NECK</th>\n",
       "      <th>LENGTH</th>\n",
       "      <th>CHEST</th>\n",
       "      <th>WEIGHT</th>\n",
       "      <th>SEX_num</th>\n",
       "    </tr>\n",
       "  </thead>\n",
       "  <tbody>\n",
       "    <tr>\n",
       "      <th>count</th>\n",
       "      <td>54.000000</td>\n",
       "      <td>54.000000</td>\n",
       "      <td>54.000000</td>\n",
       "      <td>54.000000</td>\n",
       "      <td>54.000000</td>\n",
       "      <td>54.000000</td>\n",
       "      <td>54.000000</td>\n",
       "      <td>54.000000</td>\n",
       "      <td>54.000000</td>\n",
       "    </tr>\n",
       "    <tr>\n",
       "      <th>mean</th>\n",
       "      <td>43.518519</td>\n",
       "      <td>8.407407</td>\n",
       "      <td>12.953704</td>\n",
       "      <td>6.194444</td>\n",
       "      <td>20.555556</td>\n",
       "      <td>58.616667</td>\n",
       "      <td>35.662963</td>\n",
       "      <td>182.888889</td>\n",
       "      <td>1.351852</td>\n",
       "    </tr>\n",
       "    <tr>\n",
       "      <th>std</th>\n",
       "      <td>33.720684</td>\n",
       "      <td>2.004886</td>\n",
       "      <td>2.144032</td>\n",
       "      <td>1.512266</td>\n",
       "      <td>5.640710</td>\n",
       "      <td>10.700868</td>\n",
       "      <td>9.351729</td>\n",
       "      <td>121.801209</td>\n",
       "      <td>0.482032</td>\n",
       "    </tr>\n",
       "    <tr>\n",
       "      <th>min</th>\n",
       "      <td>8.000000</td>\n",
       "      <td>4.000000</td>\n",
       "      <td>9.000000</td>\n",
       "      <td>4.000000</td>\n",
       "      <td>10.000000</td>\n",
       "      <td>36.000000</td>\n",
       "      <td>19.000000</td>\n",
       "      <td>26.000000</td>\n",
       "      <td>1.000000</td>\n",
       "    </tr>\n",
       "    <tr>\n",
       "      <th>25%</th>\n",
       "      <td>17.000000</td>\n",
       "      <td>8.000000</td>\n",
       "      <td>11.500000</td>\n",
       "      <td>5.000000</td>\n",
       "      <td>16.625000</td>\n",
       "      <td>50.500000</td>\n",
       "      <td>29.000000</td>\n",
       "      <td>87.000000</td>\n",
       "      <td>1.000000</td>\n",
       "    </tr>\n",
       "    <tr>\n",
       "      <th>50%</th>\n",
       "      <td>34.000000</td>\n",
       "      <td>9.000000</td>\n",
       "      <td>13.000000</td>\n",
       "      <td>6.000000</td>\n",
       "      <td>20.000000</td>\n",
       "      <td>60.750000</td>\n",
       "      <td>34.000000</td>\n",
       "      <td>150.000000</td>\n",
       "      <td>1.000000</td>\n",
       "    </tr>\n",
       "    <tr>\n",
       "      <th>75%</th>\n",
       "      <td>57.750000</td>\n",
       "      <td>10.000000</td>\n",
       "      <td>14.500000</td>\n",
       "      <td>7.000000</td>\n",
       "      <td>24.000000</td>\n",
       "      <td>66.125000</td>\n",
       "      <td>43.500000</td>\n",
       "      <td>232.000000</td>\n",
       "      <td>2.000000</td>\n",
       "    </tr>\n",
       "    <tr>\n",
       "      <th>max</th>\n",
       "      <td>177.000000</td>\n",
       "      <td>11.000000</td>\n",
       "      <td>17.000000</td>\n",
       "      <td>10.000000</td>\n",
       "      <td>31.500000</td>\n",
       "      <td>76.500000</td>\n",
       "      <td>55.000000</td>\n",
       "      <td>514.000000</td>\n",
       "      <td>2.000000</td>\n",
       "    </tr>\n",
       "  </tbody>\n",
       "</table>\n",
       "</div>"
      ],
      "text/plain": [
       "              AGE      MONTH    HEADLEN    HEADWTH       NECK     LENGTH  \\\n",
       "count   54.000000  54.000000  54.000000  54.000000  54.000000  54.000000   \n",
       "mean    43.518519   8.407407  12.953704   6.194444  20.555556  58.616667   \n",
       "std     33.720684   2.004886   2.144032   1.512266   5.640710  10.700868   \n",
       "min      8.000000   4.000000   9.000000   4.000000  10.000000  36.000000   \n",
       "25%     17.000000   8.000000  11.500000   5.000000  16.625000  50.500000   \n",
       "50%     34.000000   9.000000  13.000000   6.000000  20.000000  60.750000   \n",
       "75%     57.750000  10.000000  14.500000   7.000000  24.000000  66.125000   \n",
       "max    177.000000  11.000000  17.000000  10.000000  31.500000  76.500000   \n",
       "\n",
       "           CHEST      WEIGHT    SEX_num  \n",
       "count  54.000000   54.000000  54.000000  \n",
       "mean   35.662963  182.888889   1.351852  \n",
       "std     9.351729  121.801209   0.482032  \n",
       "min    19.000000   26.000000   1.000000  \n",
       "25%    29.000000   87.000000   1.000000  \n",
       "50%    34.000000  150.000000   1.000000  \n",
       "75%    43.500000  232.000000   2.000000  \n",
       "max    55.000000  514.000000   2.000000  "
      ]
     },
     "metadata": {},
     "output_type": "display_data"
    }
   ],
   "source": [
    "stats_df = pd.DataFrame({\n",
    "    'mean': df_num.mean(numeric_only=True),\n",
    "    'median': df_num.median(numeric_only=True),\n",
    "    'std': df_num.std(numeric_only=True),\n",
    "    'min': df_num.min(numeric_only=True),\n",
    "    'max': df_num.max(numeric_only=True),\n",
    "    'count': df_num.count()\n",
    "})\n",
    "display(stats_df)\n",
    "display(df_num.describe())\n"
   ]
  },
  {
   "cell_type": "markdown",
   "id": "c3db468f",
   "metadata": {},
   "source": [
    "**Gợi ý lời giải:**\n",
    "- Nếu mean khác median nhiều → phân bố lệch, có thể có outlier.\n",
    "- `std` lớn → dữ liệu phân tán mạnh."
   ]
  },
  {
   "cell_type": "markdown",
   "id": "c72982a2",
   "metadata": {},
   "source": [
    "## A4) Trực quan hóa (matplotlib)\n",
    "- 1 histogram (cột số đầu tiên)\n",
    "- 1 boxplot (≤10 cột số đầu)\n",
    "- 1 scatter (2 cột số đầu)\n",
    "- 1 heatmap tương quan"
   ]
  },
  {
   "cell_type": "code",
   "execution_count": 26,
   "id": "5a85a87c",
   "metadata": {},
   "outputs": [
    {
     "data": {
      "image/png": "[encoded data removed]",
      "text/plain": [
       "<Figure size 640x480 with 1 Axes>"
      ]
     },
     "metadata": {},
     "output_type": "display_data"
    },
    {
     "data": {
      "image/png": "[encoded data removed]",
      "text/plain": [
       "<Figure size 600x400 with 1 Axes>"
      ]
     },
     "metadata": {},
     "output_type": "display_data"
    },
    {
     "data": {
      "image/png": "[encoded data removed]",
      "text/plain": [
       "<Figure size 640x480 with 1 Axes>"
      ]
     },
     "metadata": {},
     "output_type": "display_data"
    },
    {
     "data": {
      "image/png": "[encoded data removed]",
      "text/plain": [
       "<Figure size 720x630 with 2 Axes>"
      ]
     },
     "metadata": {},
     "output_type": "display_data"
    }
   ],
   "source": [
    "import matplotlib.pyplot as plt\n",
    "\n",
    "num_cols = df_num.columns.tolist()\n",
    "\n",
    "# Histogram\n",
    "if num_cols:\n",
    "    c = num_cols[0]\n",
    "    plt.figure()\n",
    "    plt.hist(df_num[c].dropna(), bins=20,edgecolor= 'black')\n",
    "    plt.title(f'Histogram: {c}')\n",
    "    plt.xlabel(c)\n",
    "    plt.ylabel('Tần suất')\n",
    "    #plt.savefig('histogram.png') # Thay plt.show()\n",
    "    plt.show()\n",
    "    plt.close() # Nên đóng figure sau khi lưu để giải phóng bộ nhớ\n",
    "\n",
    "# Boxplot\n",
    "cols = num_cols[:10]\n",
    "if cols:\n",
    "    plt.figure(figsize=(max(6, 0.6*len(cols)), 4))\n",
    "    # FIX LỖI CẢNH BÁO: Dùng tick_labels thay cho labels\n",
    "    plt.boxplot([df_num[x].dropna() for x in cols], tick_labels=cols, vert=True)\n",
    "    plt.title('Boxplot (first numeric columns)')\n",
    "    plt.xticks(rotation=45, ha='right')\n",
    "    plt.tight_layout()\n",
    "    #plt.savefig('boxplot.png') # Thay plt.show()\n",
    "    plt.show()\n",
    "    plt.close()\n",
    "\n",
    "# Scatter\n",
    "if len(num_cols) >= 2:\n",
    "    x,y = num_cols[0], num_cols[1]\n",
    "    plt.figure()\n",
    "    plt.scatter(df_num[x], df_num[y])\n",
    "    plt.title(f'Scatter: {x} vs {y}')\n",
    "    plt.xlabel(x)\n",
    "    plt.ylabel(y)\n",
    "    #plt.savefig('scatter.png') # Thay plt.show()\n",
    "    plt.show()\n",
    "    plt.close()\n",
    "\n",
    "# Heatmap\n",
    "if len(num_cols) >= 2:\n",
    "    corr = df_num.corr(numeric_only=True)\n",
    "    # Tùy chỉnh figsize và thêm cmap cho heatmap đẹp hơn\n",
    "    plt.figure(figsize=(max(6, 0.8*len(corr.columns)), max(5, 0.7*len(corr.index)))) \n",
    "    plt.imshow(corr, aspect='auto', cmap='coolwarm')\n",
    "    plt.colorbar()\n",
    "    plt.title('Correlation heatmap')\n",
    "    plt.xticks(range(len(corr.columns)), corr.columns, rotation=90)\n",
    "    plt.yticks(range(len(corr.index)), corr.index)\n",
    "    plt.tight_layout()\n",
    "    #plt.savefig('heatmap.png') # Thay plt.show()\n",
    "    plt.show()\n",
    "    plt.close()"
   ]
  },
  {
   "cell_type": "markdown",
   "id": "e0bb1f3c",
   "metadata": {},
   "source": [
    "**Gợi ý lời giải:**\n",
    "- Histogram để nhìn phân bố; Boxplot để thấy outlier; Scatter để thấy tương quan; Heatmap để tổng quát tương quan."
   ]
  },
  {
   "cell_type": "markdown",
   "id": "c23a1d51",
   "metadata": {},
   "source": [
    "## A5) Bài ngữ cảnh theo dataset\n",
    "- Nếu có `SEX/GENDER`: so sánh trung bình biến số đầu theo giới; tính tỷ lệ một nhóm.\n",
    "- Nếu có `BMIAP/BMISP`: tính tỷ lệ BMI giảm và **CI 90%** cho tỷ lệ.\n",
    "- Nếu là đếm rời rạc (M&M): đặt bài **nhị thức/Poisson**.\n",
    "- Nếu là đo lường liên tục (Voltage/Screws): đặt bài **Chuẩn**."
   ]
  },
  {
   "cell_type": "code",
   "execution_count": 27,
   "id": "aa096d30",
   "metadata": {},
   "outputs": [
    {
     "name": "stdout",
     "output_type": "stream",
     "text": [
      "Group mean by SEX for AGE\n",
      "SEX\n",
      "1    39.342857\n",
      "2    51.210526\n",
      "Name: AGE, dtype: float64\n"
     ]
    }
   ],
   "source": [
    "# SEX/GENDER group mean\n",
    "sexcol=None\n",
    "for c in df.columns:\n",
    "    if str(c).strip().lower() in ('sex','gender'):\n",
    "        sexcol=c; break\n",
    "if sexcol and len(df_num.columns)>=1:\n",
    "    g = df.groupby(sexcol)[df_num.columns[0]].mean(numeric_only=True)\n",
    "    print('Group mean by', sexcol, 'for', df_num.columns[0])\n",
    "    print(g)\n",
    "\n",
    "# BMI decrease + CI90%\n",
    "if set(['BMIAP','BMISP']).issubset(df.columns):\n",
    "    n = len(df)\n",
    "    x = (df['BMIAP'] < df['BMISP']).sum()\n",
    "    p_hat = x/n if n else np.nan\n",
    "    z = 1.645\n",
    "    se = (p_hat*(1-p_hat)/n)**0.5 if n else np.nan\n",
    "    print(f'[BMI decrease] {x}/{n} -> p̂={p_hat:.3f}, CI90%=({p_hat - z*se:.3f}, {p_hat + z*se:.3f})')\n"
   ]
  },
  {
   "cell_type": "markdown",
   "id": "9e4d3497",
   "metadata": {},
   "source": [
    "**Gợi ý lời giải:**\n",
    "- Tỷ lệ: `x/n`. CI90%: `p̂ ± 1.645 * sqrt(p̂(1-p̂)/n)`.\n",
    "- Nhớ điều kiện xấp xỉ: `n p̂ ≥ 5` và `n(1-p̂) ≥ 5`."
   ]
  },
  {
   "cell_type": "markdown",
   "id": "daf34999",
   "metadata": {},
   "source": [
    "## B) Xác suất & Phân vị — điền số theo ngữ cảnh đề\n",
    "- **Nhị thức**: `binom.pmf/cdf/ppf`\n",
    "- **Poisson**: `poisson.pmf/cdf/ppf`\n",
    "- **Chuẩn**: `norm.cdf/ppf`"
   ]
  },
  {
   "cell_type": "code",
   "execution_count": 28,
   "id": "b5b80a1d",
   "metadata": {},
   "outputs": [
    {
     "name": "stdout",
     "output_type": "stream",
     "text": [
      "[Binomial] P(X=k)= 0.2668279319999998   P(X<=k)= 0.6496107184000002   k_90= 5.0\n",
      "[Poisson] P(X<=2)= 0.061968804416658946   P(X>=3)= 0.938031195583341   x_95%= 10.0\n",
      "[Normal] P(X<120)= 0.9087887802741321   P(85<X<115)= 0.6826894921370859   x_90%= 119.22327348316901\n"
     ]
    }
   ],
   "source": [
    "# Binomial — TODO: điền n, p, k phù hợp ngữ cảnh\n",
    "n, p, k = 10, 0.3, 3\n",
    "print('[Binomial] P(X=k)=', binom.pmf(k,n,p), '  P(X<=k)=', binom.cdf(k,n,p), '  k_90=', binom.ppf(0.90,n,p))\n",
    "\n",
    "# Poisson — TODO: điền λ phù hợp\n",
    "lam = 6\n",
    "print('[Poisson] P(X<=2)=', poisson.cdf(2,lam), '  P(X>=3)=', 1-poisson.cdf(2,lam), '  x_95%=', poisson.ppf(0.95,lam))\n",
    "\n",
    "# Normal — TODO: điền μ, σ\n",
    "mu, sigma = 100, 15\n",
    "print('[Normal] P(X<120)=', norm.cdf(120,mu,sigma), '  P(85<X<115)=', norm.cdf(115,mu,sigma)-norm.cdf(85,mu,sigma), '  x_90%=', norm.ppf(0.90,mu,sigma))\n"
   ]
  },
  {
   "cell_type": "markdown",
   "id": "ff997fcf",
   "metadata": {},
   "source": [
    "**Gợi ý lời giải:**\n",
    "- “ít nhất k” = `1 - binom.cdf(k-1, n, p)`; “không quá k” = `binom.cdf(k, n, p)`.\n",
    "- Poisson: “≥ b” = `1 - poisson.cdf(b-1, λ)`.\n",
    "- Normal: xác suất là diện tích → dùng `cdf` hoặc chênh 2 `cdf`."
   ]
  }
 ],
 "metadata": {
  "kernelspec": {
   "display_name": "Python [conda env:base] *",
   "language": "python",
   "name": "conda-base-py"
  },
  "language_info": {
   "codemirror_mode": {
    "name": "ipython",
    "version": 3
   },
   "file_extension": ".py",
   "mimetype": "text/x-python",
   "name": "python",
   "nbconvert_exporter": "python",
   "pygments_lexer": "ipython3",
   "version": "3.13.5"
  }
 },
 "nbformat": 4,
 "nbformat_minor": 5
}
