{
 "cells": [
  {
   "cell_type": "code",
   "execution_count": null,
   "id": "d96914a0-0a5e-4c59-97ce-98190ab6664d",
   "metadata": {},
   "outputs": [],
   "source": []
  }
 ],
 "metadata": {
  "kernelspec": {
   "display_name": "",
   "name": ""
  },
  "language_info": {
   "name": ""
  }
 },
 "nbformat": 4,
 "nbformat_minor": 5
}
