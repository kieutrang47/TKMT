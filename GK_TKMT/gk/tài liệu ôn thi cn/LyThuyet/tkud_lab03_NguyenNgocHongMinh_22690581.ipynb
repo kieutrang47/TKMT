{
 "cells": [
  {
   "cell_type": "markdown",
   "metadata": {},
   "source": [
    "# Simulation - Mô phỏng & Dữ liệu\n",
    "\n",
    "Trong bài thực hành này, chúng ta sẽ sử dụng python và numpy để tính toán và thực hiện một số mô phỏng.\n",
    "\n",
    "Những nội dung sẽ thực hiện trong tài liệu này:\n",
    "\n",
    "- Mô phỏng dữ liệu\n",
    "- Kiểm tra dữ liệu\n"
   ]
  },
  {
   "cell_type": "markdown",
   "metadata": {},
   "source": [
    "## MÔ PHỎNG"
   ]
  },
  {
   "cell_type": "markdown",
   "metadata": {},
   "source": [
    "### Bài 1: Mô phỏng tung đồng xu cân đối\n",
    "\n",
    "Giả sử một đồng xu có hai mặt `Head` và `Tail`.\n",
    "\n",
    "a. Định nghĩa hàm `toss_a_fair_coin`để mô phỏng việc tung đồng xu. Kết quả trả về là `H` hoặc `T` tương ứng với một trong hai mặt\n",
    "\n",
    "```python\n",
    "def toss_a_fair_coin():\n",
    "    # ...\n",
    "```\n",
    "\n",
    "b. Thực hiện việc tung đồng xu n = 100 lần. Cho biết số lần xuất hiện của mỗi mặt. Lựa chọn đồ thị phù hợp để hiển thị kết quả trên."
   ]
  },
  {
   "cell_type": "code",
   "execution_count": 19,
   "metadata": {},
   "outputs": [
    {
     "data": {
      "image/png": "[encoded data removed]",
      "text/plain": [
       "<Figure size 432x288 with 1 Axes>"
      ]
     },
     "metadata": {
      "needs_background": "light"
     },
     "output_type": "display_data"
    }
   ],
   "source": [
    "# YOUR CODE HERE\n",
    "import numpy as np\n",
    "import matplotlib.pyplot as plt\n",
    "import random\n",
    "\n",
    "def toss_a_fair_coin():\n",
    "    tosses = np.random.choice(['H','T'], size=100)\n",
    "    return tosses\n",
    "\n",
    "tosses = toss_a_fair_coin()\n",
    "\n",
    "count = np.unique(tosses, return_counts=True)\n",
    "plt.bar(count[0], count[1])\n",
    "plt.xlabel('Mặt')\n",
    "plt.ylabel('Tần số')\n",
    "plt.show()\n"
   ]
  },
  {
   "cell_type": "markdown",
   "metadata": {},
   "source": [
    "### Bài 2: Mô phỏng tung đồng xu không cân đối\n",
    "\n",
    "Giả sử có một đồng xu với hai mặt `H` và `T` không cân đối, với xác suất thu được mặt Head là 0.6, xác suất thu được mặt Tail là 0.4. Bạn hãy:\n",
    "\n",
    "a. Định nghĩa hàm `toss_a_biased_coin`để mô phỏng việc tung đồng xu. Kết quả trả về là `H` hoặc `T` tương ứng với một trong hai mặt\n",
    "\n",
    "```python\n",
    "def toss_a_biased_coin(head_prob):\n",
    "    '''\n",
    "    Tung đồng xu không cân đối.\n",
    "    Return: 'H' or 'T'\n",
    "        head_prob: xác suất thu được mặt Head\n",
    "    '''\n",
    "    # ...\n",
    "```\n",
    "\n",
    "b. Thực hiện việc tung đồng xu n = 100 lần. Cho biết số lần xuất hiện của mỗi mặt. Tính tỷ lệ xuất hiện của mặt Head và Tail. Lựa chọn đồ thị phù hợp để hiển thị kết quả trên. \n",
    "\n",
    "c. Thực hiện việc tung đồng xu n = 10000 lần. Cho biết số lần xuất hiện của mỗi mặt. Tính tỷ lệ xuất hiện của mặt Head và Tail. Lựa chọn đồ thị phù hợp để hiển thị kết quả trên. \n",
    "\n",
    "d. Bạn có nhận xét gì?"
   ]
  },
  {
   "cell_type": "code",
   "execution_count": 29,
   "metadata": {},
   "outputs": [
    {
     "name": "stdout",
     "output_type": "stream",
     "text": [
      "Số lần xuất hiện mặt ngửa: 54\n",
      "Số lần xuất hiện mặt ngửa: 46\n"
     ]
    },
    {
     "data": {
      "image/png": "[encoded data removed]",
      "text/plain": [
       "<Figure size 432x288 with 1 Axes>"
      ]
     },
     "metadata": {
      "needs_background": "light"
     },
     "output_type": "display_data"
    },
    {
     "name": "stdout",
     "output_type": "stream",
     "text": [
      "Số lần xuất hiện mặt ngửa: 605\n",
      "Số lần xuất hiện mặt ngửa: 395\n"
     ]
    },
    {
     "data": {
      "image/png": "[encoded data removed]",
      "text/plain": [
       "<Figure size 432x288 with 1 Axes>"
      ]
     },
     "metadata": {
      "needs_background": "light"
     },
     "output_type": "display_data"
    },
    {
     "name": "stdout",
     "output_type": "stream",
     "text": [
      "Tỉ lệ ra mặt ngửa:  0.5725\n"
     ]
    }
   ],
   "source": [
    "# YOUR CODE HERE\n",
    "# a\n",
    "def toss_a_biased_coin(head_prob,n):\n",
    "    tosses = np.random.choice(['H','T'],  p = [head_prob, 1-head_prob], size=n)\n",
    "    return tosses\n",
    "# b\n",
    "tosses_2 = toss_a_biased_coin(0.6,100)\n",
    "\n",
    "print('Số lần xuất hiện mặt ngửa:', np.sum(tosses_2 == 'H'))\n",
    "print('Số lần xuất hiện mặt ngửa:', np.sum(tosses_2 == 'T'))\n",
    "\n",
    "count = np.unique(tosses_2, return_counts=True)\n",
    "plt.bar(count[0], count[1])\n",
    "plt.xlabel('Mặt')\n",
    "plt.ylabel('Tần số')\n",
    "plt.show()\n",
    "# c\n",
    "tosses_3 = toss_a_biased_coin(0.6,1000)\n",
    "\n",
    "print('Số lần xuất hiện mặt ngửa:', np.sum(tosses_3 == 'H'))\n",
    "print('Số lần xuất hiện mặt ngửa:', np.sum(tosses_3 == 'T'))\n",
    "\n",
    "count_1 = np.unique(tosses_3, return_counts=True)\n",
    "plt.bar(count[0], count[1])\n",
    "plt.xlabel('Mặt')\n",
    "plt.ylabel('Tần số')\n",
    "plt.show()\n",
    "\n",
    "# d\n",
    "h = (np.sum(tosses_3 == 'H')/1000+np.sum(tosses_2 == 'H')/100)/2\n",
    "print(\"Tỉ lệ ra mặt ngửa: \",h)"
   ]
  },
  {
   "cell_type": "markdown",
   "metadata": {},
   "source": [
    "### Bài 3: Khảo sát hàm randint()\n",
    "\n",
    "Hàm `randint()`dùng để phát sinh số nguyên ngẫu nhiên. Tuy nhiên, các kết quả ngẫu nhiên này có quy luật nào hay không, liệu ta có thể tin tưởng để sử dụng hàm này không? Trong ví dụ này bạn hãy thực hiện mô phỏng sau: phát sinh `n` số số ngẫu nhiên trong đoạn [1..40]. Với mỗi lần phát sinh bạn hãy vẽ histogram về `tần suất` xuất hiện của mỗi số.\n",
    "\n",
    "a. Hãy vẽ đồ thị `tần suất` xuất hiện của các số với n=40, n=100, n=10000, n=1000000\n",
    "\n",
    "b. Hãy đưa ra nhận xét của bạn về hàm `randint()`\n",
    "\n"
   ]
  },
  {
   "cell_type": "code",
   "execution_count": 36,
   "metadata": {},
   "outputs": [
    {
     "data": {
      "image/png": "[encoded data removed]",
      "text/plain": [
       "<Figure size 432x288 with 1 Axes>"
      ]
     },
     "metadata": {
      "needs_background": "light"
     },
     "output_type": "display_data"
    },
    {
     "data": {
      "image/png": "[encoded data removed]",
      "text/plain": [
       "<Figure size 432x288 with 1 Axes>"
      ]
     },
     "metadata": {
      "needs_background": "light"
     },
     "output_type": "display_data"
    },
    {
     "data": {
      "image/png": "[encoded data removed]",
      "text/plain": [
       "<Figure size 432x288 with 1 Axes>"
      ]
     },
     "metadata": {
      "needs_background": "light"
     },
     "output_type": "display_data"
    },
    {
     "data": {
      "image/png": "[encoded data removed]",
      "text/plain": [
       "<Figure size 432x288 with 1 Axes>"
      ]
     },
     "metadata": {
      "needs_background": "light"
     },
     "output_type": "display_data"
    },
    {
     "name": "stdout",
     "output_type": "stream",
     "text": [
      "Hàm randint() khi random càng nhiều lần thì tỉ lệ các số sinh ra là gần bằng nhau\n"
     ]
    }
   ],
   "source": [
    "# YOUR CODE HERE\n",
    "def histogram(n):\n",
    "    arr = np.random.randint(1, 41, size=n)\n",
    "    count= np.unique(arr, return_counts=True)\n",
    "    plt.bar(count[0], count[1])\n",
    "    plt.xlabel('Số tự nhiên')\n",
    "    plt.ylabel('Tần số')\n",
    "    plt.show()\n",
    "\n",
    "histogram(40)\n",
    "histogram(100)\n",
    "histogram(10000)\n",
    "histogram(1000000)\n",
    "# b\n",
    "print(\"Hàm randint() khi random càng nhiều lần thì tỉ lệ các số sinh ra là gần bằng nhau\")"
   ]
  },
  {
   "cell_type": "markdown",
   "metadata": {},
   "source": [
    "### Bài 4: Mô phỏng cách chọn mẫu\n",
    "\n",
    "Trong bài tập này ta sẽ mô phỏng cách lấy mẫu từ một tập đã có sẵn.\n",
    "\n",
    "a. Sử dụng hàm `randint()` để tạo 10 số ngẫu nhiên nằm trong đoạn [1..100]. Lưu kết quả vào biến `my_arr`\n",
    "\n",
    "b. Sử dụng hàm `choice` để lấy ngẫu nhiên 5 phần tử từ mảng `my_arr`.\n",
    "\n",
    "c. Thực hiện câu b, 10 lần. Với mỗi lần bạn hãy hiển thị 5 phần tử được chọn, tính giá trị trung bình và độ lệch chuẩn của các phần tử ấy"
   ]
  },
  {
   "cell_type": "code",
   "execution_count": 44,
   "metadata": {},
   "outputs": [
    {
     "name": "stdout",
     "output_type": "stream",
     "text": [
      "a\n",
      "[24 47 37 30 52 45 32 41  4 76]\n",
      "\n",
      "b\n",
      "[30 30 24  4 24]\n",
      "\n",
      "c\n",
      "[37 37 76 45 41]\n",
      "mean:  47.2\n",
      "std:  14.702380759591284\n",
      "[24 41 47 30  4]\n",
      "mean:  29.2\n",
      "std:  14.958609561052123\n",
      "[ 4 76 45  4 76]\n",
      "mean:  41.0\n",
      "std:  32.26143208228674\n",
      "[32 30 41 32 52]\n",
      "mean:  37.4\n",
      "std:  8.2365041127896\n",
      "[45 24 37 30 76]\n",
      "mean:  42.4\n",
      "std:  18.20549367636044\n"
     ]
    }
   ],
   "source": [
    "# YOUR CODE HERE\n",
    "import numpy as np\n",
    "import pandas as pd\n",
    "import matplotlib.pyplot as plt\n",
    "\n",
    "print(\"a\")\n",
    "my_arr = np.random.randint(1, 100, size=10)\n",
    "print(my_arr)\n",
    "print(\"\\nb\")\n",
    "my_arr_5 = np.random.choice(my_arr, size=5)\n",
    "print(my_arr_5)\n",
    "print(\"\\nc\")\n",
    "for i in range(5):  # Lặp từ 0 đến 4\n",
    "    my_arr_5 = np.random.choice(my_arr, size=5)\n",
    "    print(my_arr_5)\n",
    "    print (\"mean: \",np.mean(my_arr_5) ) \n",
    "    print (\"std: \",np.std(my_arr_5) ) \n"
   ]
  },
  {
   "cell_type": "markdown",
   "metadata": {},
   "source": [
    "### Bài 5 Kiểm tra mảng phát sinh\n",
    "\n",
    "Giả sử chiều cao của người trưởng thành dao động từ 140cm - 210cm.\n",
    "\n",
    "a. Bạn hãy phát sinh ngẫu nhiên chiều cao của 1000 người và lưu vào mảng `heights`\n",
    "\n",
    "b. Giả sử ta quy định mức chiều cao như sau:\n",
    "\n",
    "- Mức thấp: chiều cao bé hơn 160cm\n",
    "- Mức bình thường: chiều cao từ 160 đến bé hơn 175cm\n",
    "- Mức cao: chiều cao từ 175cm đến bé hơn 190cm \n",
    "- Mức rất cao: chiều cao từ 190cm trở lên\n",
    "\n",
    "Từ mảng đã phát sinh bạn hãy tính tỷ lệ mỗi mức. Lựa chọn đồ thị phù hợp để biểu diễn."
   ]
  },
  {
   "cell_type": "code",
   "execution_count": 54,
   "metadata": {},
   "outputs": [
    {
     "data": {
      "image/png": "[encoded data removed]",
      "text/plain": [
       "<Figure size 432x288 with 1 Axes>"
      ]
     },
     "metadata": {
      "needs_background": "light"
     },
     "output_type": "display_data"
    }
   ],
   "source": [
    "# YOUR CODE HERE\n",
    "heights = np.random.randint(140, 211, size=1000)\n",
    "tong=len(heights)\n",
    "thap = np.sum(heights < 160)\n",
    "bt = np.sum((heights >=160) & (heights <175))\n",
    "cao = np.sum((heights >=175) & (heights <190))\n",
    "rcao = np.sum(heights > 190)\n",
    "\n",
    "tl_thap = thap/tong\n",
    "tl_bt = bt/tong\n",
    "tl_cao = cao/tong\n",
    "tl_rcao = rcao/tong\n",
    "\n",
    "plt.bar([\"Thấp\", \"Bình thường\", \"Cao\", \"Rất cao\"], [tl_thap,tl_bt,tl_cao,tl_rcao])\n",
    "plt.xlabel('Mức chiều cao')\n",
    "plt.ylabel('Tỉ lệ chiều cao')\n",
    "plt.title(\"Tỉ lệ người có chiều cao theo các mức\")\n",
    "plt.show()"
   ]
  },
  {
   "cell_type": "markdown",
   "metadata": {},
   "source": [
    "## DỮ LIỆU"
   ]
  },
  {
   "cell_type": "markdown",
   "metadata": {},
   "source": [
    "### Bài 6: dataset `temperature.csv`\n",
    "\n",
    "Bạn hãy tìm cách đọc dữ liệu về nhiệt độ của các tỉnh thành trên với thư viện `numpy`.\n",
    "\n",
    "a. Với mỗi tỉnh thành bạn hãy cho biết: nhiệt độ thấp nhất, nhiệt độ cao nhất, nhiệt độ trung bình, độ lệch chuẩn, độ biến thiên về nhiệt độ (`range=max-min`)\n",
    "\n",
    "b. Vẽ histogram nhiệt độ của TP.HCM\n",
    "\n",
    "c. Lựa chọn đồ thị để so sánh nhiệt độ của 6 tỉnh thành"
   ]
  },
  {
   "cell_type": "code",
   "execution_count": 77,
   "metadata": {},
   "outputs": [
    {
     "name": "stdout",
     "output_type": "stream",
     "text": [
      "Nhiệt độ cao nhất của Ha Noi: 32.05\n",
      "Nhiệt độ thấp nhất của Ha Noi: 24.38\n",
      "Nhiệt độ trung bình của Ha Noi: 28.37833333333333\n",
      "Độ lệch chuẩn của Ha Noi: 2.5359376392460695\n",
      "Độ biến thiên về nhiệt độ của Ha Noi: 7.669999999999998\n",
      "\n",
      "\n",
      "Nhiệt độ cao nhất của Vinh: 30.62\n",
      "Nhiệt độ thấp nhất của Vinh: 22.79\n",
      "Nhiệt độ trung bình của Vinh: 26.79416666666666\n",
      "Độ lệch chuẩn của Vinh: 2.683263614181135\n",
      "Độ biến thiên về nhiệt độ của Vinh: 7.830000000000002\n",
      "\n",
      "\n",
      "Nhiệt độ cao nhất của Da Nang: 27.83\n",
      "Nhiệt độ thấp nhất của Da Nang: 23.52\n",
      "Nhiệt độ trung bình của Da Nang: 25.244583333333328\n",
      "Độ lệch chuẩn của Da Nang: 1.397027836287566\n",
      "Độ biến thiên về nhiệt độ của Da Nang: 4.309999999999999\n",
      "\n",
      "\n",
      "Nhiệt độ cao nhất của Nha Trang: 27.47\n",
      "Nhiệt độ thấp nhất của Nha Trang: 2.51\n",
      "Nhiệt độ trung bình của Nha Trang: 25.104583333333338\n",
      "Độ lệch chuẩn của Nha Trang: 4.901093914420639\n",
      "Độ biến thiên về nhiệt độ của Nha Trang: 24.96\n",
      "\n",
      "\n",
      "Nhiệt độ cao nhất của Ho Chi Minh: 58.0\n",
      "Nhiệt độ thấp nhất của Ho Chi Minh: 24.71\n",
      "Nhiệt độ trung bình của Ho Chi Minh: 27.444583333333338\n",
      "Độ lệch chuẩn của Ho Chi Minh: 6.608209636614843\n",
      "Độ biến thiên về nhiệt độ của Ho Chi Minh: 33.29\n",
      "\n",
      "\n",
      "Nhiệt độ cao nhất của Ca Mau: 30.97\n",
      "Nhiệt độ thấp nhất của Ca Mau: 24.38\n",
      "Nhiệt độ trung bình của Ca Mau: 26.90166666666667\n",
      "Độ lệch chuẩn của Ca Mau: 2.161236897597353\n",
      "Độ biến thiên về nhiệt độ của Ca Mau: 6.59\n",
      "\n",
      "\n"
     ]
    },
    {
     "data": {
      "image/png": "[encoded data removed]",
      "text/plain": [
       "<Figure size 432x288 with 1 Axes>"
      ]
     },
     "metadata": {
      "needs_background": "light"
     },
     "output_type": "display_data"
    },
    {
     "data": {
      "image/png": "[encoded data removed]",
      "text/plain": [
       "<Figure size 432x288 with 1 Axes>"
      ]
     },
     "metadata": {
      "needs_background": "light"
     },
     "output_type": "display_data"
    }
   ],
   "source": [
    "# YOUR CODE HERE\n",
    "import pandas as pd\n",
    "import numpy as np\n",
    "data = pd.read_csv(r\"temperature.csv\")\n",
    "data.drop(columns = 'time',inplace = True)\n",
    "columns = data.columns\n",
    "for i in columns:\n",
    "    print(f\"Nhiệt độ cao nhất của {i}: {data[i].max()}\")\n",
    "    print(f\"Nhiệt độ thấp nhất của {i}: {data[i].min()}\")\n",
    "    print(f\"Nhiệt độ trung bình của {i}: {data[i].mean()}\")\n",
    "    print(f\"Độ lệch chuẩn của {i}: {data[i].std()}\")\n",
    "    print(f\"Độ biến thiên về nhiệt độ của {i}: {(data[i].max() - data[i].min())}\")\n",
    "    print('\\n')\n",
    "    \n",
    "plt.hist(data['Ho Chi Minh'], bins=10, color='skyblue',edgecolor='black')\n",
    "plt.xlabel('Temperature')\n",
    "plt.ylabel('Frequency')\n",
    "plt.title('Temperature in Ho Chi Minh')\n",
    "plt.show()\n",
    "\n",
    "plt.plot(data)\n",
    "plt.ylabel('Nhiệt độ')\n",
    "plt.title('So sánh nhiệt độ của 6 tỉnh thành')\n",
    "plt.show()"
   ]
  },
  {
   "cell_type": "markdown",
   "metadata": {},
   "source": [
    "### Bài 7: dataset `bmi.csv`\n",
    "\n",
    "Bạn hãy tìm cách đọc dữ liệu về bmi của nhóm người khảo sát trên với thư viện `numpy`.\n",
    "\n",
    "a. Hãy cho biết:\n",
    "    - Tỷ lệ nam nữ\n",
    "    - Các đại lượng thống kê: min, max, range, mean, standard deviation của hai thuộc tính chiều cao và cân nặng\n",
    "\n",
    "b. Vẽ đồ thị histogram về chiều cao và cân nặng của hai thuộc tính chiều cao và cân nặng\n",
    "\n",
    "c. Sử dụng hai đồ thị boxplot để so sánh chiều cao và cân nặng của nam và nữ\n",
    "\n",
    "d. Để kiểm tra xem hai thuộc tính chiều cao và cân nặng có mối liên quan nào hay không, bạn có thể sử dụng đồ thị tán xạ (scatter plot). Giả sử muốn kiểm tra xem liệu một người cao hơn thì có cân nặng lớn hơn hay không, bạn hãy vẽ đồ thị scatter plot với trục hoành là chiều cao và trục tung là cân nặng"
   ]
  },
  {
   "cell_type": "code",
   "execution_count": 82,
   "metadata": {},
   "outputs": [
    {
     "name": "stdout",
     "output_type": "stream",
     "text": [
      "Tỷ lệ nam: 0.49\n",
      "Tỷ lệ nữ: 0.51\n"
     ]
    }
   ],
   "source": [
    "# YOUR CODE HERE\n",
    "import pandas as pd\n",
    "import numpy as np\n",
    "bmi = pd.read_csv(r\"bmi.csv\")\n",
    "print(f'Tỷ lệ nam: {sum(bmi[\"Gender\"] == \"Male\")/len(bmi)}')\n",
    "print(f'Tỷ lệ nữ: {sum(bmi[\"Gender\"] == \"Female\")/len(bmi)}')\n"
   ]
  },
  {
   "cell_type": "markdown",
   "metadata": {},
   "source": [
    "## KHÁC"
   ]
  },
  {
   "cell_type": "markdown",
   "metadata": {},
   "source": [
    "### Bài 8: Mô phỏng điểm bài kiểm tra\n",
    "\n",
    "Giả sử điểm bài kiểm tra của học sinh có điểm môn Toán [0..10], với các phần lẻ có thể có là [0.25, 0.5, 0.75]\n",
    "\n",
    "a. Dùng hàm ngẫu nhiên để phát sinh điểm số của một lớp học gồm của 10 học sinh. Tính điểm trung bình của lớp đó.\n",
    "\n",
    "b. Giả sử một trường có 50 lớp học. Mỗi lớp học có 40 học sinh. Bạn hãy phát sinh ngẫu nhiên điểm của các học sinh trong 50 lớp học này\n",
    "\n",
    "c. Giả sử nhà trường muốn thống kê tình hình học tập của 50 lớp học này. Nhà trường tiến hành thống kê bằng cách lấy điểm trung bình của tất cả các lớp học. Bạn hãy vẽ histogram điểm trung bình của 50 lớp học này. "
   ]
  },
  {
   "cell_type": "code",
   "execution_count": null,
   "metadata": {},
   "outputs": [],
   "source": [
    "# YOUR CODE HERE\n"
   ]
  },
  {
   "cell_type": "markdown",
   "metadata": {},
   "source": [
    "\n",
    "### Bài 9: Mô phỏng bốc ba lá bài\n",
    "\n",
    "Một bộ bài tú lơ khơ có 52 lá. Với: \n",
    "    - Tập các nút là {2, 3,..10, J, Q, K, A}\n",
    "    - Tập các chất là {'co', 'ro', 'chuong', 'bich`}\n",
    "\n",
    "Bạn hãy mô phỏng:\n",
    "\n",
    "a. Bốc 3 lá bài từ bộ bài trên. Lưu ý: không có trường hợp 1 bộ bài có hai lá trùng nhau\n",
    "\n",
    "b. Tính điểm thu được (tổng điểm 3 lá)\n",
    "\n",
    "c. Tìm hiểu cách hiển thị hình ảnh 3 lá bài đã bốc bằng python"
   ]
  },
  {
   "cell_type": "code",
   "execution_count": null,
   "metadata": {},
   "outputs": [],
   "source": [
    "# YOUR CODE HERE\n"
   ]
  },
  {
   "cell_type": "markdown",
   "metadata": {},
   "source": [
    "\n",
    "### Bài 10: Mô phỏng Monte Carlo để ước lượng π\n",
    "\n",
    "Ước lượng giá trị của π bằng phương pháp Monte Carlo. Ý tưởng là tạo ngẫu nhiên các điểm trong một hình vuông và xác định tỷ lệ các điểm nằm trong một phần tư hình tròn.\n",
    "\n",
    "Công việc:\n",
    "\n",
    "Tạo 100.000 điểm ngẫu nhiên (x, y) trong một hình vuông đơn vị.\n",
    "Đếm số điểm nằm trong phần tư hình tròn có bán kính 1.\n",
    "Ước lượng π bằng công thức: 4 * (số điểm trong hình tròn) / (tổng số điểm)."
   ]
  },
  {
   "cell_type": "code",
   "execution_count": null,
   "metadata": {},
   "outputs": [],
   "source": [
    "# YOUR CODE HERE\n"
   ]
  },
  {
   "cell_type": "markdown",
   "metadata": {},
   "source": [
    "---"
   ]
  }
 ],
 "metadata": {
  "kernelspec": {
   "display_name": "Python 3",
   "language": "python",
   "name": "python3"
  },
  "language_info": {
   "codemirror_mode": {
    "name": "ipython",
    "version": 3
   },
   "file_extension": ".py",
   "mimetype": "text/x-python",
   "name": "python",
   "nbconvert_exporter": "python",
   "pygments_lexer": "ipython3",
   "version": "3.8.5"
  }
 },
 "nbformat": 4,
 "nbformat_minor": 2
}
