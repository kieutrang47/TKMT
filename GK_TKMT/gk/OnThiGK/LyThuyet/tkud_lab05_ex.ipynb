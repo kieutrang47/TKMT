{
 "cells": [
  {
   "cell_type": "markdown",
   "metadata": {
    "id": "hetF_D-MkzDt"
   },
   "source": [
    "# Lab 05 - Bài tập"
   ]
  },
  {
   "cell_type": "markdown",
   "metadata": {},
   "source": [
    "**Bài 01:** Một bài thi trắc nghiệm gồm 10 câu hỏi, mỗi câu có 4 phương án trả lời trong đó chỉ có một phương án đúng. Bạn hãy: \n",
    "\n",
    "a. Một sinh viên không học bài làm bài bằng cách chọn ngẫu nhiên một phương án cho mỗi câu hỏi. Bạn hãy dùng hàm random để in ra số câu đúng của bạn sinh viên trong 10 lần kiểm tra.\n",
    "\n",
    "b. Giả sử mỗi câu đúng được 4 điểm, mỗi câu sai bị trừ 2 điểm. Tính xác suất để sinh viên này được 4 điểm\n",
    "\n",
    "c. Gọi X là số câu trả lời đúng. Tính E(X) và Var(X)"
   ]
  },
  {
   "cell_type": "code",
   "execution_count": 24,
   "metadata": {},
   "outputs": [
    {
     "name": "stdout",
     "output_type": "stream",
     "text": [
      "Xác suất sinh viên này được 4 điểm: 0.1460\n",
      "Kỳ vọng E(X): 2.5\n",
      "Phương sai Var(X): 1.875\n"
     ]
    }
   ],
   "source": [
    "# Import các thư viện thông dụng\n",
    "import numpy as np\n",
    "import pandas as pd\n",
    "import matplotlib.pyplot as plt\n",
    "\n",
    "# Import các distribution packages từ thư viện scipy\n",
    "from scipy.stats import binom\n",
    "from scipy.stats import poisson\n",
    "from scipy.stats import norm\n",
    "from scipy.stats import t\n",
    "\n",
    "n = 10  # số câu hỏi\n",
    "p = 0.25  # xác suất trả lời đúng\n",
    "k=4 #đúng 4 câu là được 16 điểm và sai 6 câu là bị trừ 12 điểm, tức là 16-12=4 điểm nên số câu đúng \n",
    "#trong bài phải là 4\n",
    "\n",
    "bi_sam_10 = binom.rvs(n, p, size=10)\n",
    "\n",
    "prob_4_points = binom.pmf(k, n, p)\n",
    "print(f'Xác suất sinh viên này được 4 điểm: {prob_4_points:.4f}')\n",
    "\n",
    "E_X = n * p\n",
    "Var_X = n * p * (1 - p)\n",
    "\n",
    "print(f'Kỳ vọng E(X): {E_X}')\n",
    "print(f'Phương sai Var(X): {Var_X}')"
   ]
  },
  {
   "cell_type": "markdown",
   "metadata": {},
   "source": [
    "**Bài 02:** Một trung tâm bưu điện nhận được 3 cuộc gọi điện thoại mỗi phút. Tính xác suất để trung tâm nhận được 1 cuộc gọi, 2 cuộc gọi, 3 cuộc gọi trong vòng một phút biết số cuộc gọi trong một phút có phân phối Poisson."
   ]
  },
  {
   "cell_type": "code",
   "execution_count": 27,
   "metadata": {},
   "outputs": [
    {
     "name": "stdout",
     "output_type": "stream",
     "text": [
      "Xác suất nhận được 1 cuộc gọi: 0.1494\n",
      "Xác suất nhận được 2 cuộc gọi: 0.2240\n",
      "Xác suất nhận được 3 cuộc gọi: 0.2240\n"
     ]
    }
   ],
   "source": [
    "import math\n",
    "\n",
    "lambda_value = 3\n",
    "\n",
    "# Hàm tính xác suất theo phân phối Poisson\n",
    "def poisson_pmf(k, lambda_value):\n",
    "    return (lambda_value**k * math.exp(-lambda_value)) / math.factorial(k)\n",
    "\n",
    "# Tính xác suất nhận được 1, 2, 3 cuộc gọi\n",
    "prob_1_call = poisson_pmf(1, lambda_value)\n",
    "prob_2_calls = poisson_pmf(2, lambda_value)\n",
    "prob_3_calls = poisson_pmf(3, lambda_value)\n",
    "\n",
    "print(f'Xác suất nhận được 1 cuộc gọi: {prob_1_call:.4f}')\n",
    "print(f'Xác suất nhận được 2 cuộc gọi: {prob_2_calls:.4f}')\n",
    "print(f'Xác suất nhận được 3 cuộc gọi: {prob_3_calls:.4f}')\n"
   ]
  },
  {
   "cell_type": "markdown",
   "metadata": {},
   "source": [
    "**Bài 03:** Trọng lượng (đơn vị gam) của một loại trái cây có phân phối chuẩn với µ = 500 (gam) gam và $σ^2 = 16 (gam^2)$. Trái cây thu hoạch được phân loại theo trọng lượng như sau:\n",
    "\n",
    "Loại 1: trên 505 gam\n",
    "\n",
    "Loại 2: từ 495 – 505 gam\n",
    "\n",
    "Loại 3: dười 495 gam\n",
    "\n",
    "a. Hãy tính tỷ lệ của mỗi loại.\n",
    "b. Bạn hãy mô phỏng lấy mẫu  20 trái cây trên. Bạn hãy vẽ histogram trọng lượng trái cây và tính giá trị trung bình và độ lệch chuẩn trái cây từ mẫu\n",
    "c. Bạn hãy mô phỏng lấy 100 trái cây trên. Bạn hãy vẽ histogram trọng lượng trái cây và tính giá trị trung bình và độ lệch chuẩn trái cây từ mẫu\n",
    "d. Từ hai cách lấy mẫu ở câu b, c bạn có nhận xét gì không?"
   ]
  },
  {
   "cell_type": "code",
   "execution_count": 40,
   "metadata": {},
   "outputs": [
    {
     "name": "stdout",
     "output_type": "stream",
     "text": [
      "Tỷ lệ Loại 1 (X > 505): 0.1056\n",
      "Tỷ lệ Loại 2 (495 <= X <= 505): 0.7887\n",
      "Tỷ lệ Loại 3 (X < 495): 0.1056\n",
      "20:  499.2944809895781 4.517631633048246\n",
      "100:  499.6338472877167 4.003687193031288\n"
     ]
    },
    {
     "data": {
      "text/plain": [
       "Text(0, 0.5, 'Số lượng')"
      ]
     },
     "execution_count": 40,
     "metadata": {},
     "output_type": "execute_result"
    },
    {
     "data": {
      "image/png": "[encoded data removed]",
      "text/plain": [
       "<Figure size 864x432 with 1 Axes>"
      ]
     },
     "metadata": {
      "needs_background": "light"
     },
     "output_type": "display_data"
    },
    {
     "data": {
      "image/png": "[encoded data removed]",
      "text/plain": [
       "<Figure size 864x432 with 1 Axes>"
      ]
     },
     "metadata": {
      "needs_background": "light"
     },
     "output_type": "display_data"
    }
   ],
   "source": [
    "import numpy as np\n",
    "import matplotlib.pyplot as plt\n",
    "from scipy.stats import norm\n",
    "\n",
    "# Dữ liệu phân phối chuẩn\n",
    "mu = 500  # Trung bình\n",
    "sigma = 4  # Độ lệch chuẩn\n",
    "\n",
    "# a. Tính tỷ lệ của mỗi loại\n",
    "# Tỷ lệ Loại 1: X > 505\n",
    "z1 = (505 - mu) / sigma\n",
    "prob_type_1 = 1 - norm.cdf(z1)\n",
    "\n",
    "# Tỷ lệ Loại 2: 495 <= X <= 505\n",
    "z2_lower = (495 - mu) / sigma\n",
    "z2_upper = (505 - mu) / sigma\n",
    "prob_type_2 = norm.cdf(z2_upper) - norm.cdf(z2_lower)\n",
    "\n",
    "# Tỷ lệ Loại 3: X < 495\n",
    "prob_type_3 = norm.cdf(z2_lower)\n",
    "\n",
    "print(f\"Tỷ lệ Loại 1 (X > 505): {prob_type_1:.4f}\")\n",
    "print(f\"Tỷ lệ Loại 2 (495 <= X <= 505): {prob_type_2:.4f}\")\n",
    "print(f\"Tỷ lệ Loại 3 (X < 495): {prob_type_3:.4f}\")\n",
    "# b. Mô phỏng lấy mẫu 20 trái cây\n",
    "sample_20 = np.random.normal(mu, sigma, 20)\n",
    "mean_20 = np.mean(sample_20)\n",
    "std_20 = np.std(sample_20)\n",
    "print(\"20: \",mean_20, std_20)\n",
    "\n",
    "# Vẽ histogram cho mẫu 20\n",
    "plt.figure(figsize=(12, 6))\n",
    "plt.subplot(1, 2, 1)\n",
    "plt.hist(sample_20, bins=8, edgecolor='black', alpha=0.7)\n",
    "plt.title('Histogram: Mẫu 20 trái cây')\n",
    "plt.xlabel('Trọng lượng (gam)')\n",
    "plt.ylabel('Số lượng')\n",
    "# c. Mô phỏng lấy mẫu 100 trái cây\n",
    "sample_100 = np.random.normal(mu, sigma, 100)\n",
    "mean_100 = np.mean(sample_100)\n",
    "std_100 = np.std(sample_100)\n",
    "print(\"100: \",mean_100, std_100)\n",
    "\n",
    "# Vẽ histogram cho mẫu 100\n",
    "plt.figure(figsize=(12, 6))\n",
    "plt.subplot(1, 2, 1)\n",
    "plt.hist(sample_100, bins=8, edgecolor='black', alpha=0.7)\n",
    "plt.title('Histogram: Mẫu 100 trái cây')\n",
    "plt.xlabel('Trọng lượng (gam)')\n",
    "plt.ylabel('Số lượng')\n",
    "# Khi lấy mẫu 100 trái cây, giá trị trung bình và độ lệch chuẩn sẽ gần với giá trị lý thuyết \n",
    "# (mu = 500 và sigma = 4) hơn so với mẫu 20 trái cây, vì mẫu lớn hơn sẽ giảm độ biến\n",
    "# động ngẫu nhiên."
   ]
  },
  {
   "cell_type": "markdown",
   "metadata": {},
   "source": [
    "**Bài 04:** Mô phỏng tung một con xúc sắc cân đối đồng chất 5000 lần. Dựa vào giá trị mô phỏng, bạn hãy tìm các giá trị xác suất dưới đây:\n",
    "\n",
    "a. Xác suất để  số chấm xuất hiện là 4\n",
    "\n",
    "b. Xác suất để số chấm xuất hiện lớn hơn hoặc bằng 4\n",
    "\n",
    "c. Giả sử biết số chấm xuất hiện lớn hơn hoặc bằng 4. Hãy tìm xác suất để mặt 6 chấm xuất hiện."
   ]
  },
  {
   "cell_type": "code",
   "execution_count": 42,
   "metadata": {
    "vscode": {
     "languageId": "plaintext"
    }
   },
   "outputs": [
    {
     "name": "stdout",
     "output_type": "stream",
     "text": [
      "a. Xác suất để số chấm xuất hiện là 4: 0.1678\n",
      "b. Xác suất để số chấm xuất hiện lớn hơn hoặc bằng 4: 0.5110\n",
      "c. Xác suất để mặt 6 chấm xuất hiện, biết rằng số chấm lớn hơn hoặc bằng 4: 0.3460\n"
     ]
    }
   ],
   "source": [
    "import numpy as np\n",
    "\n",
    "n_tung = 5000\n",
    "results = np.random.randint(1, 7, size=n_tung) \n",
    "\n",
    "# a. \n",
    "prob_4 = np.sum(results == 4) / n_tung\n",
    "\n",
    "# b.\n",
    "prob_ge_4 = np.sum(results >= 4) / n_tung\n",
    "\n",
    "# c.\n",
    "prob_6_given_ge_4 = np.sum((results == 6) & (results >= 4)) / np.sum(results >= 4)\n",
    "\n",
    "\n",
    "print(f'a. Xác suất để số chấm xuất hiện là 4: {prob_4:.4f}')\n",
    "print(f'b. Xác suất để số chấm xuất hiện lớn hơn hoặc bằng 4: {prob_ge_4:.4f}')\n",
    "print(f'c. Xác suất để mặt 6 chấm xuất hiện, biết rằng số chấm lớn hơn hoặc bằng 4: {prob_6_given_ge_4:.4f}')\n"
   ]
  },
  {
   "cell_type": "markdown",
   "metadata": {},
   "source": [
    "**Bài 05:** Tạo 5000 số ngẫu nhiên có phân phối nhị thức với n=50, p=0.7 Bạn Hãy\n",
    "\n",
    "a. Tìm các giá trị thống kê: min, max, Q1, Q2, Q3\n",
    "\n",
    "b. Vẽ đồ thị boxplot\n",
    "\n",
    "c. Vẽ các đồ thị: tần số, tần suất"
   ]
  },
  {
   "cell_type": "code",
   "execution_count": 43,
   "metadata": {
    "vscode": {
     "languageId": "plaintext"
    }
   },
   "outputs": [
    {
     "name": "stdout",
     "output_type": "stream",
     "text": [
      "Min: 21\n",
      "Max: 45\n",
      "Q1 (25%): 33.0\n",
      "Q2 (50%): 35.0 (Median)\n",
      "Q3 (75%): 37.0\n"
     ]
    },
    {
     "data": {
      "image/png": "[encoded data removed]",
      "text/plain": [
       "<Figure size 576x432 with 1 Axes>"
      ]
     },
     "metadata": {
      "needs_background": "light"
     },
     "output_type": "display_data"
    },
    {
     "data": {
      "image/png": "[encoded data removed]",
      "text/plain": [
       "<Figure size 864x432 with 2 Axes>"
      ]
     },
     "metadata": {
      "needs_background": "light"
     },
     "output_type": "display_data"
    }
   ],
   "source": [
    "\n",
    "data = np.random.binomial(50, 0.7, 5000)\n",
    "\n",
    "# a.\n",
    "min_value = np.min(data)\n",
    "max_value = np.max(data)\n",
    "q1 = np.percentile(data, 25)  \n",
    "q2 = np.percentile(data, 50)  \n",
    "q3 = np.percentile(data, 75) \n",
    "\n",
    "print(f\"Min: {min_value}\")\n",
    "print(f\"Max: {max_value}\")\n",
    "print(f\"Q1 (25%): {q1}\")\n",
    "print(f\"Q2 (50%): {q2} (Median)\")\n",
    "print(f\"Q3 (75%): {q3}\")\n",
    "\n",
    "# b. Vẽ đồ thị boxplot\n",
    "plt.figure(figsize=(8, 6))\n",
    "plt.boxplot(data, vert=False)\n",
    "plt.title(\"Boxplot phân phối nhị thức với n=50, p=0.7\")\n",
    "plt.xlabel(\"giá trị\")\n",
    "plt.show()\n",
    "\n",
    "# c. Vẽ đồ thị tần số và tần suất\n",
    "# Tính tần số (frequency) của mỗi giá trị trong dữ liệu\n",
    "unique, counts = np.unique(data, return_counts=True)\n",
    "\n",
    "# Vẽ đồ thị tần số\n",
    "plt.figure(figsize=(12, 6))\n",
    "\n",
    "# Tần số\n",
    "plt.subplot(1, 2, 1)\n",
    "plt.bar(unique, counts, color='skyblue')\n",
    "plt.title(\"Frequency of Binomial Distribution\")\n",
    "plt.xlabel(\"Values\")\n",
    "plt.ylabel(\"Frequency\")\n",
    "\n",
    "# Tần suất\n",
    "relative_frequency = counts / len(data)\n",
    "plt.subplot(1, 2, 2)\n",
    "plt.bar(unique, relative_frequency, color='orange')\n",
    "plt.title(\"Relative Frequency of Binomial Distribution\")\n",
    "plt.xlabel(\"Values\")\n",
    "plt.ylabel(\"Relative Frequency\")\n",
    "\n",
    "plt.tight_layout()\n",
    "plt.show()\n"
   ]
  },
  {
   "cell_type": "markdown",
   "metadata": {},
   "source": [
    "**Bài 6**\n",
    "\n",
    "Giả sử X là biến ngẫu nhiên rời rạc\n",
    "\n",
    "a. Hãy cho biết ý nghĩa câu lệnh sau: `binom.pmf(4, 10, 0.6)`\n",
    "\n",
    "b. Giả sử X có phân phối nhị thức `X ~ B(10, 0.6)`. Hãy tính các giá trị sau:  \n",
    "$P(X \\leq 5), P(X \\le 5), P(X \\ge 4), P(X = 5) $\n",
    "\n",
    "c. Hãy cho biết ý nghĩa câu lệnh sau: `poisson.pmf(4, 3)`\n",
    "\n",
    "d. Giả sử X có phân phối Poisson `X ~ P(3)`. Hãy tính các giá trị sau:  \n",
    "$P(X \\leq 5), P(X \\le 5), P(X \\ge 4), P(X = 5) $"
   ]
  },
  {
   "cell_type": "code",
   "execution_count": null,
   "metadata": {},
   "outputs": [],
   "source": []
  },
  {
   "cell_type": "markdown",
   "metadata": {},
   "source": [
    "**Bài 7**\n",
    "\n",
    "a. Cho biết ý nghĩa của các câu lệnh sau:\n",
    "\n",
    "- `norm.cdf(2)`\n",
    "\n",
    "- `norm.cdf(2, 1, 1)`\n",
    "\n",
    "- `norm.cdf(2, 1, 2)`\n",
    "\n",
    "b. Cho biết kết quả của câu lệnh sau: `norm.ppf(norm.cdf(2))`\n",
    "\n",
    "c. Tính các giá trị sau và vẽ hình minh họa cho các giá trị tính được:\n",
    "\n",
    "- `norm.ppf(0.975)`\n",
    "\n",
    "- `norm.ppf(0.975, 1, 1)`\n",
    "\n",
    "- `norm.ppf(0.975, 1, 2)`\n",
    "\n",
    "d. Giả sử biến ngẫu nhiên X có phân phối chuẩn với kỳ vọng là 24 và phương sai là 16. Hãy tính các giá trị sau:\n",
    "\n",
    "- $P(X \\leq 20)$\n",
    "- $P(X \\ge 29.5)$\n",
    "- $P(X = 23.8)$"
   ]
  },
  {
   "cell_type": "code",
   "execution_count": null,
   "metadata": {},
   "outputs": [],
   "source": []
  },
  {
   "cell_type": "markdown",
   "metadata": {},
   "source": [
    "**Bài 8**\n",
    "\n",
    "Một công ty sản xuất làm ra các chi tiết máy với độ dài các chi tiết có phân phối chuẩn với kỳ vọng là 3000 mm và độ lệch chuẩn là 3 mm. Yêu cầu cho các chi tiết máy này là phải có chiều dài từ 2993 mm đến 3007 mm. Tính tỷ lệ sản phẩm lỗi của công ty"
   ]
  },
  {
   "cell_type": "code",
   "execution_count": null,
   "metadata": {},
   "outputs": [],
   "source": []
  },
  {
   "cell_type": "markdown",
   "metadata": {},
   "source": [
    "**Bài 9**\n",
    "\n",
    "Giả sử điểm thi TOEIC là một biến ngẫu nhiên có phân phối chuẩn với kỳ vọng là 500, độ lệch chuẩn là 8. Bạn hãy:\n",
    "\n",
    "a. Mô phỏng bằng cách phát sinh ngẫu nhiên điểm thi TOIEC của một nhóm gồm 50 người.\n",
    "\n",
    "b. Tính điểm trung bình và độ lệch chuẩn về điểm của nhóm.\n",
    "\n",
    "c. Tìm miền giá trị, và miền phân vị (IQR) của nhóm\n",
    "\n",
    "d. Cho biết tỷ lệ đạt trên 450 điểm của nhóm. \n",
    "\n",
    "e. Vẽ đồ thị histogram của nhóm và so sánh với đồ thị hàm mật độ của phân phối chuẩn với kỳ vọng là 500 và độ lệch chuẩn là 8.\n",
    "\n",
    "f. Thay vì mô phỏng 50 người, hãy mô phỏng nhóm với 100 người thi. Bạn có nhận xét gì?"
   ]
  },
  {
   "cell_type": "code",
   "execution_count": null,
   "metadata": {},
   "outputs": [],
   "source": []
  },
  {
   "cell_type": "markdown",
   "metadata": {},
   "source": [
    "**Bài 10**\n",
    "\n",
    "Viết một chương trình để mô phỏng việc tung đồng xu và đánh giá phương sai của giá trị mô phỏng của biến ngẫu nhiên X (tung được mặt `Head`) đối với các số lần tung khác nhau. Giả sử  đồng xu phải cân bằng. \n",
    "\n",
    "Đối với mỗi N từ 10; 40; 90; 160; 250; 490; 640; 810; 1000, hãy ước tính giá trị của X bằng cách mô phỏng số lần tung đó. \n",
    "\n",
    "Bạn nên chạy mỗi mô phỏng 100 lần và sử dụng tập hợp các ước tính để đánh giá phương sai của ước tính x của bạn. Vẽ biểu đồ phương sai này so với N, bạn có nhận xét gì không?"
   ]
  },
  {
   "cell_type": "code",
   "execution_count": null,
   "metadata": {},
   "outputs": [],
   "source": []
  },
  {
   "cell_type": "markdown",
   "metadata": {},
   "source": [
    "---"
   ]
  }
 ],
 "metadata": {
  "colab": {
   "authorship_tag": "ABX9TyOkldNpyHDDGNs27UhN+pnq",
   "provenance": []
  },
  "kernelspec": {
   "display_name": "Python 3",
   "language": "python",
   "name": "python3"
  },
  "language_info": {
   "codemirror_mode": {
    "name": "ipython",
    "version": 3
   },
   "file_extension": ".py",
   "mimetype": "text/x-python",
   "name": "python",
   "nbconvert_exporter": "python",
   "pygments_lexer": "ipython3",
   "version": "3.8.5"
  }
 },
 "nbformat": 4,
 "nbformat_minor": 1
}
