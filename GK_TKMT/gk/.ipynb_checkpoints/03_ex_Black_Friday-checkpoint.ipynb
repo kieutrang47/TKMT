{
 "cells": [
  {
   "cell_type": "markdown",
   "metadata": {
    "id": "tGLUK25Ecm9F"
   },
   "source": [
    "# 1. Đọc dữ liệu (1 điểm)"
   ]
  },
  {
   "cell_type": "code",
   "execution_count": 1,
   "metadata": {
    "executionInfo": {
     "elapsed": 1571,
     "status": "ok",
     "timestamp": 1740731825856,
     "user": {
      "displayName": "Lưu Giang Nam",
      "userId": "01856778175006180165"
     },
     "user_tz": -420
    },
    "id": "PLOxz4RUbbdk"
   },
   "outputs": [
    {
     "name": "stdout",
     "output_type": "stream",
     "text": [
      "   User_ID Product_ID Gender   Age  Occupation City_Category  \\\n",
      "0  1000001  P00069042      F  0-17          10             A   \n",
      "1  1000001  P00248942      F  0-17          10             A   \n",
      "2  1000001  P00087842      F  0-17          10             A   \n",
      "3  1000001  P00085442      F  0-17          10             A   \n",
      "4  1000002  P00285442      M   55+          16             C   \n",
      "\n",
      "  Stay_In_Current_City_Years  Marital_Status  Product_Category_1  \\\n",
      "0                          2               0                   3   \n",
      "1                          2               0                   1   \n",
      "2                          2               0                  12   \n",
      "3                          2               0                  12   \n",
      "4                         4+               0                   8   \n",
      "\n",
      "   Product_Category_2  Product_Category_3  Purchase  \n",
      "0                 NaN                 NaN      8370  \n",
      "1                 6.0                14.0     15200  \n",
      "2                 NaN                 NaN      1422  \n",
      "3                14.0                 NaN      1057  \n",
      "4                 NaN                 NaN      7969  \n"
     ]
    }
   ],
   "source": [
    "import pandas as pd\n",
    "\n",
    "# Đọc dữ liệu\n",
    "df = pd.read_csv(\"black_friday.csv\")\n",
    "# Hiển thị 5 dòng đầu tiên\n",
    "print(df.head()) "
   ]
  },
  {
   "cell_type": "markdown",
   "metadata": {
    "id": "Ijcigy91cogB"
   },
   "source": [
    "# 2. Thông tin dữ liệu (1 điểm)"
   ]
  },
  {
   "cell_type": "code",
   "execution_count": 3,
   "metadata": {
    "executionInfo": {
     "elapsed": 7,
     "status": "ok",
     "timestamp": 1740731828997,
     "user": {
      "displayName": "Lưu Giang Nam",
      "userId": "01856778175006180165"
     },
     "user_tz": -420
    },
    "id": "xYQrytb1cj5D"
   },
   "outputs": [
    {
     "name": "stdout",
     "output_type": "stream",
     "text": [
      "số dòng 550068\n",
      "số cột 12\n"
     ]
    },
    {
     "data": {
      "text/plain": [
       "User_ID                            0\n",
       "Product_ID                         0\n",
       "Gender                             0\n",
       "Age                                0\n",
       "Occupation                         0\n",
       "City_Category                      0\n",
       "Stay_In_Current_City_Years         0\n",
       "Marital_Status                     0\n",
       "Product_Category_1                 0\n",
       "Product_Category_2            173638\n",
       "Product_Category_3            383247\n",
       "Purchase                           0\n",
       "dtype: int64"
      ]
     },
     "execution_count": 3,
     "metadata": {},
     "output_type": "execute_result"
    }
   ],
   "source": [
    "# Kiểm tra số dòng và số cột\n",
    "print(\"số dòng\",df.shape[0])\n",
    "print(\"số cột\",df.shape[1])\n",
    "# Kiểm tra số lượng giá trị bị thiếu trong từng cột\n",
    "df.isna().sum()\n"
   ]
  },
  {
   "cell_type": "markdown",
   "metadata": {
    "id": "bftNMmqfc0Oz"
   },
   "source": [
    "Nhận xét:\n",
    "-\n",
    "-\n",
    "-"
   ]
  },
  {
   "cell_type": "markdown",
   "metadata": {
    "id": "0RtOe6aadK_D"
   },
   "source": [
    "# 3. Phân loại thuộc tính (1 điểm)\n"
   ]
  },
  {
   "cell_type": "code",
   "execution_count": 4,
   "metadata": {
    "executionInfo": {
     "elapsed": 6,
     "status": "ok",
     "timestamp": 1740731841280,
     "user": {
      "displayName": "Lưu Giang Nam",
      "userId": "01856778175006180165"
     },
     "user_tz": -420
    },
    "id": "Q3YzyV0LcsEb"
   },
   "outputs": [
    {
     "name": "stdout",
     "output_type": "stream",
     "text": [
      "Các thuộc tính định tính (Categorical): ['Product_ID', 'Gender', 'Age', 'City_Category', 'Stay_In_Current_City_Years']\n",
      "Các thuộc tính định lượng (Numerical): ['User_ID', 'Occupation', 'Marital_Status', 'Product_Category_1', 'Product_Category_2', 'Product_Category_3', 'Purchase']\n"
     ]
    }
   ],
   "source": [
    "# Code\n",
    "categorical = df.select_dtypes(include=['object']).columns.tolist()\n",
    "numerical = df.select_dtypes(include=['int64', 'float64']).columns.tolist()\n",
    "print(\"Các thuộc tính định tính (Categorical):\", categorical)\n",
    "print(\"Các thuộc tính định lượng (Numerical):\", numerical)\n",
    "# df.describe()"
   ]
  },
  {
   "cell_type": "markdown",
   "metadata": {
    "id": "T1ITzriTdKu5"
   },
   "source": [
    "- Các thuộc tính định tính (Categorical):\n",
    "\n",
    "\n",
    "\n",
    "- Các thuộc tính định lượng (Numerical):\n",
    "\n",
    "\n"
   ]
  },
  {
   "cell_type": "markdown",
   "metadata": {
    "id": "OdG842F-dV5B"
   },
   "source": [
    "# 4. Sản phẩm phổ biến (1 điểm)"
   ]
  },
  {
   "cell_type": "code",
   "execution_count": 15,
   "metadata": {
    "executionInfo": {
     "elapsed": 6,
     "status": "ok",
     "timestamp": 1740731855979,
     "user": {
      "displayName": "Lưu Giang Nam",
      "userId": "01856778175006180165"
     },
     "user_tz": -420
    },
    "id": "Zzd_glPvdPtZ"
   },
   "outputs": [
    {
     "data": {
      "text/plain": [
       "P00265242    1880\n",
       "P00025442    1615\n",
       "P00110742    1612\n",
       "P00112142    1562\n",
       "P00057642    1470\n",
       "             ... \n",
       "P00203642       1\n",
       "P00091742       1\n",
       "P00056542       1\n",
       "P00365942       1\n",
       "P00315242       1\n",
       "Name: Product_ID, Length: 3631, dtype: int64"
      ]
     },
     "execution_count": 15,
     "metadata": {},
     "output_type": "execute_result"
    }
   ],
   "source": [
    "# Số lượng loại sản phẩm khác nhau\n",
    "df[\"Product_ID\"].value_counts()\n",
    "\n",
    "# Sản phẩm được mua nhiều nhất\n",
    "\n"
   ]
  },
  {
   "cell_type": "markdown",
   "metadata": {
    "id": "rLT1BekPdkql"
   },
   "source": [
    "Nhận xét:\n",
    "\n",
    "-\n",
    "-\n"
   ]
  },
  {
   "cell_type": "markdown",
   "metadata": {
    "id": "atkLxLwkdn5X"
   },
   "source": [
    "# 5. Tỷ lệ nam và nữ (1 điểm)"
   ]
  },
  {
   "cell_type": "code",
   "execution_count": 23,
   "metadata": {
    "colab": {
     "base_uri": "https://localhost:8080/",
     "height": 473
    },
    "executionInfo": {
     "elapsed": 3174,
     "status": "ok",
     "timestamp": 1740459377850,
     "user": {
      "displayName": "Lưu Giang Nam",
      "userId": "01856778175006180165"
     },
     "user_tz": -420
    },
    "id": "xPoM9zgIdbpe",
    "outputId": "972bfc38-c78d-4491-e06b-93f178d58170"
   },
   "outputs": [
    {
     "data": {
      "image/png": "[encoded data removed]",
      "text/plain": [
       "<Figure size 432x288 with 1 Axes>"
      ]
     },
     "metadata": {
      "needs_background": "light"
     },
     "output_type": "display_data"
    }
   ],
   "source": [
    "# Đếm số lượng nam và nữ\n",
    "df[\"Gender\"].value_counts()\n",
    "import matplotlib.pyplot as plt\n",
    "# Trực quan hóa (biểu đồ histogram)\n",
    "plt.figure(figsize=(6, 4))\n",
    "plt.hist(df[\"Gender\"], bins=10, color=\"blue\", edgecolor=\"black\")\n",
    "plt.xlabel(\"Giới tính\")\n",
    "plt.ylabel(\"Số lần xuất hiện\")\n",
    "plt.title(\"Histogram của giới tính\")\n",
    "plt.show()\n"
   ]
  },
  {
   "cell_type": "markdown",
   "metadata": {
    "id": "WUPOSd1EdtqY"
   },
   "source": [
    "# 6. Nhóm tuổi có mức chi tiêu trung bình cao nhất (1 điểm)"
   ]
  },
  {
   "cell_type": "code",
   "execution_count": 32,
   "metadata": {
    "colab": {
     "base_uri": "https://localhost:8080/"
    },
    "executionInfo": {
     "elapsed": 56,
     "status": "ok",
     "timestamp": 1740459446895,
     "user": {
      "displayName": "Lưu Giang Nam",
      "userId": "01856778175006180165"
     },
     "user_tz": -420
    },
    "id": "q_8vfK9Ldneq",
    "outputId": "30662ae6-2f73-4f4e-caaf-0a6c588c23c4"
   },
   "outputs": [
    {
     "data": {
      "text/plain": [
       "Age\n",
       "51-55    9534.808031\n",
       "55+      9336.280459\n",
       "36-45    9331.350695\n",
       "26-35    9252.690633\n",
       "46-50    9208.625697\n",
       "18-25    9169.663606\n",
       "0-17     8933.464640\n",
       "Name: Purchase, dtype: float64"
      ]
     },
     "execution_count": 32,
     "metadata": {},
     "output_type": "execute_result"
    }
   ],
   "source": [
    "# Name: Purchase, dtype: float64\n",
    "# Tính mức chi tiêu trung bình theo nhóm tuổi\n",
    "df.groupby(\"Age\")[\"Purchase\"].mean()\n",
    "by=['col1']\n",
    "# Hiển thị nhóm tuổi có mức chi tiêu cao nhất\n",
    "df.groupby(\"Age\")[\"Purchase\"].mean().sort_values(ascending=False)\n",
    "# grades.sort_values(by='Final Exam', ascending=False).head()"
   ]
  },
  {
   "cell_type": "markdown",
   "metadata": {
    "id": "Qu-tX0UTd-yN"
   },
   "source": [
    "# 7. Thống kê mức chi tiêu"
   ]
  },
  {
   "cell_type": "code",
   "execution_count": 35,
   "metadata": {
    "colab": {
     "base_uri": "https://localhost:8080/",
     "height": 335
    },
    "executionInfo": {
     "elapsed": 19,
     "status": "ok",
     "timestamp": 1740459484775,
     "user": {
      "displayName": "Lưu Giang Nam",
      "userId": "01856778175006180165"
     },
     "user_tz": -420
    },
    "id": "dpHYLWO7dy7P",
    "outputId": "230f4be0-bbf3-4dd5-e295-783d51090945"
   },
   "outputs": [
    {
     "data": {
      "text/plain": [
       "count    550068.000000\n",
       "mean       9263.968713\n",
       "std        5023.065394\n",
       "min          12.000000\n",
       "25%        5823.000000\n",
       "50%        8047.000000\n",
       "75%       12054.000000\n",
       "max       23961.000000\n",
       "Name: Purchase, dtype: float64"
      ]
     },
     "execution_count": 35,
     "metadata": {},
     "output_type": "execute_result"
    }
   ],
   "source": [
    "# Purchase\n",
    "# count\t550068.000000\n",
    "# mean\t9263.968713\n",
    "# std\t5023.065394\n",
    "# min\t12.000000\n",
    "# 25%\t5823.000000\n",
    "# 50%\t8047.000000\n",
    "# 75%\t12054.000000\n",
    "# max\t23961.000000\n",
    "# Tính các đại lượng thống kê\n",
    "df['Purchase'].describe()"
   ]
  },
  {
   "cell_type": "markdown",
   "metadata": {
    "id": "K6InYezmtXzi"
   },
   "source": [
    "Nhận xét:\n",
    "-\n",
    "-"
   ]
  },
  {
   "cell_type": "markdown",
   "metadata": {
    "id": "N6HtaEwdeFDy"
   },
   "source": [
    "# 8. Trực quan hóa phân bố chi tiêu"
   ]
  },
  {
   "cell_type": "code",
   "execution_count": 2,
   "metadata": {
    "executionInfo": {
     "elapsed": 14,
     "status": "ok",
     "timestamp": 1740731968261,
     "user": {
      "displayName": "Lưu Giang Nam",
      "userId": "01856778175006180165"
     },
     "user_tz": -420
    },
    "id": "wQKSpuMJeCWn"
   },
   "outputs": [
    {
     "data": {
      "image/png": "[encoded data removed]",
      "text/plain": [
       "<Figure size 720x432 with 1 Axes>"
      ]
     },
     "metadata": {
      "needs_background": "light"
     },
     "output_type": "display_data"
    }
   ],
   "source": [
    "# Vẽ đồ thị Histogram hoặc Line hoặc hỗn hợp.\n",
    "import matplotlib.pyplot as plt\n",
    "\n",
    "# Vẽ histogram\n",
    "plt.figure(figsize=(10, 6))\n",
    "plt.hist(df['Purchase'], bins=30, color='skyblue', edgecolor='black')\n",
    "plt.title('Phân bố chi tiêu (Purchase)')\n",
    "plt.xlabel('Giá trị chi tiêu')\n",
    "plt.ylabel('Tần suất')\n",
    "plt.grid(True)\n",
    "plt.show()\n"
   ]
  },
  {
   "cell_type": "markdown",
   "metadata": {
    "id": "YppfUWNfeLCV"
   },
   "source": [
    "Nhận xét:\n",
    "-\n",
    "-"
   ]
  },
  {
   "cell_type": "markdown",
   "metadata": {
    "id": "2nLSmmKIeNQ2"
   },
   "source": [
    "# 9. Biểu đồ hộp so sánh mức chi tiêu theo nhóm tuổi và giới tính (1 điểm)\n",
    "\n",
    "\n",
    "\n",
    "\n"
   ]
  },
  {
   "cell_type": "markdown",
   "metadata": {
    "id": "I0nbzHaNesa4"
   },
   "source": [
    "plt.figure(figsize=(6, 4))\n",
    "plt.boxplot(df[\"total_bill\"], vert=False)\n",
    "plt.xlabel(\"Tổng tiền hóa đơn \")\n",
    "plt.title(\"Boxplot của tổng hóa đơn\")\n",
    "plt.show()"
   ]
  },
  {
   "cell_type": "code",
   "execution_count": 25,
   "metadata": {
    "executionInfo": {
     "elapsed": 6,
     "status": "ok",
     "timestamp": 1740731994962,
     "user": {
      "displayName": "Lưu Giang Nam",
      "userId": "01856778175006180165"
     },
     "user_tz": -420
    },
    "id": "rdFe381DeGei"
   },
   "outputs": [
    {
     "data": {
      "image/png": "[encoded data removed]",
      "text/plain": [
       "<Figure size 720x432 with 1 Axes>"
      ]
     },
     "metadata": {
      "needs_background": "light"
     },
     "output_type": "display_data"
    },
    {
     "data": {
      "image/png": "[encoded data removed]",
      "text/plain": [
       "<Figure size 720x432 with 1 Axes>"
      ]
     },
     "metadata": {
      "needs_background": "light"
     },
     "output_type": "display_data"
    }
   ],
   "source": [
    "import matplotlib.pyplot as plt\n",
    "\n",
    "# Nhóm dữ liệu theo Age và lấy cột Purchase cho mỗi nhóm\n",
    "grouped_data = [df[df['Age'] == age]['Purchase'].values for age in df['Age'].unique()]\n",
    "\n",
    "plt.figure(figsize=(10, 6))\n",
    "plt.boxplot(grouped_data)\n",
    "\n",
    "plt.title('Boxplot of Purchase by Age Group')\n",
    "plt.xlabel('Age Group')\n",
    "plt.ylabel('Purchase')\n",
    "\n",
    "age_groups = sorted(df['Age'].unique())\n",
    "plt.xticks(range(1, len(age_groups) + 1), age_groups)\n",
    "\n",
    "plt.show()\n",
    "\n",
    "grouped_data_2 = [df[df['Gender'] == gender]['Purchase'].values for gender in df['Gender'].unique()]\n",
    "\n",
    "plt.figure(figsize=(10, 6))\n",
    "plt.boxplot(grouped_data_2)\n",
    "\n",
    "plt.title('Boxplot of Purchase by Gender')\n",
    "plt.xlabel('Gender')\n",
    "plt.ylabel('Purchase')\n",
    "\n",
    "gender_groups = df['Gender'].unique()\n",
    "plt.xticks(range(1, len(gender_groups) + 1), gender_groups)\n",
    "\n",
    "plt.show()\n"
   ]
  },
  {
   "cell_type": "code",
   "execution_count": 16,
   "metadata": {},
   "outputs": [
    {
     "name": "stdout",
     "output_type": "stream",
     "text": [
      "object\n"
     ]
    }
   ],
   "source": [
    "# plt.boxplot(df['Age'])\n",
    "# plt.title(\"Boxplot\")\n",
    "\n",
    "# plt.show()\n",
    "print(df['Age'].dtype)\n",
    "\n"
   ]
  },
  {
   "cell_type": "markdown",
   "metadata": {
    "id": "4fg2vYV9e4jH"
   },
   "source": [
    "# 10. Biểu đồ tròn thể hiện tỷ lệ tổng chi tiêu của từng nhóm tuổi"
   ]
  },
  {
   "cell_type": "code",
   "execution_count": 6,
   "metadata": {
    "executionInfo": {
     "elapsed": 90,
     "status": "ok",
     "timestamp": 1740732028455,
     "user": {
      "displayName": "Lưu Giang Nam",
      "userId": "01856778175006180165"
     },
     "user_tz": -420
    },
    "id": "MJuypIkEeOz2"
   },
   "outputs": [
    {
     "data": {
      "image/png": "[encoded data removed]",
      "text/plain": [
       "<Figure size 576x576 with 1 Axes>"
      ]
     },
     "metadata": {},
     "output_type": "display_data"
    }
   ],
   "source": [
    "age_group = df.groupby('Age')['Purchase'].sum()\n",
    "\n",
    "plt.figure(figsize=(8, 8))\n",
    "plt.pie(age_group, labels=age_group.index, autopct='%1.1f%%')\n",
    "plt.title('Tỷ lệ tổng chi tiêu theo nhóm tuổi')\n",
    "plt.axis('equal')  # Đảm bảo biểu đồ tròn không bị méo\n",
    "plt.show()\n",
    "\n",
    "\n"
   ]
  },
  {
   "cell_type": "code",
   "execution_count": null,
   "metadata": {},
   "outputs": [],
   "source": []
  }
 ],
 "metadata": {
  "colab": {
   "authorship_tag": "ABX9TyM/q+ipv1UGN/YN+G5orZVL",
   "provenance": []
  },
  "kernelspec": {
   "display_name": "Python 3",
   "language": "python",
   "name": "python3"
  },
  "language_info": {
   "codemirror_mode": {
    "name": "ipython",
    "version": 3
   },
   "file_extension": ".py",
   "mimetype": "text/x-python",
   "name": "python",
   "nbconvert_exporter": "python",
   "pygments_lexer": "ipython3",
   "version": "3.8.5"
  }
 },
 "nbformat": 4,
 "nbformat_minor": 1
}
