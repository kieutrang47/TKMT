{
 "cells": [
  {
   "cell_type": "markdown",
   "id": "971811a1",
   "metadata": {},
   "source": [
    "\n",
    "# 🧪 ĐỀ THI GIỮA KỲ — KHẢO SÁT DỮ LIỆU CHIM CÁNH CỤT (PENGUINS)\n",
    "**Họ và tên:** ___ ; **MSSV:** ___ ; **Số máy:** ___\n",
    "\n",
    "Dữ liệu: `penguins.csv` — số đo 3 loài chim cánh cụt trên 3 đảo (Biscoe, Dream, Torgersen).\n",
    "Thời gian gợi ý: 75 phút. Được dùng tài liệu.\n"
   ]
  },
  {
   "cell_type": "markdown",
   "id": "f2fa727b",
   "metadata": {},
   "source": [
    "## 1) Đọc dữ liệu và hiển thị 10 dòng đầu tiên (1đ)"
   ]
  },
  {
   "cell_type": "code",
   "execution_count": 11,
   "id": "bd14161a",
   "metadata": {},
   "outputs": [
    {
     "data": {
      "text/html": [
       "<div>\n",
       "<style scoped>\n",
       "    .dataframe tbody tr th:only-of-type {\n",
       "        vertical-align: middle;\n",
       "    }\n",
       "\n",
       "    .dataframe tbody tr th {\n",
       "        vertical-align: top;\n",
       "    }\n",
       "\n",
       "    .dataframe thead th {\n",
       "        text-align: right;\n",
       "    }\n",
       "</style>\n",
       "<table border=\"1\" class=\"dataframe\">\n",
       "  <thead>\n",
       "    <tr style=\"text-align: right;\">\n",
       "      <th></th>\n",
       "      <th>rowid</th>\n",
       "      <th>species</th>\n",
       "      <th>island</th>\n",
       "      <th>bill_length_mm</th>\n",
       "      <th>bill_depth_mm</th>\n",
       "      <th>flipper_length_mm</th>\n",
       "      <th>body_mass_g</th>\n",
       "      <th>sex</th>\n",
       "      <th>year</th>\n",
       "    </tr>\n",
       "  </thead>\n",
       "  <tbody>\n",
       "    <tr>\n",
       "      <th>0</th>\n",
       "      <td>1</td>\n",
       "      <td>Adelie</td>\n",
       "      <td>Torgersen</td>\n",
       "      <td>39.1</td>\n",
       "      <td>18.7</td>\n",
       "      <td>181.0</td>\n",
       "      <td>3750.0</td>\n",
       "      <td>male</td>\n",
       "      <td>2007</td>\n",
       "    </tr>\n",
       "    <tr>\n",
       "      <th>1</th>\n",
       "      <td>2</td>\n",
       "      <td>Adelie</td>\n",
       "      <td>Torgersen</td>\n",
       "      <td>39.5</td>\n",
       "      <td>17.4</td>\n",
       "      <td>186.0</td>\n",
       "      <td>3800.0</td>\n",
       "      <td>female</td>\n",
       "      <td>2007</td>\n",
       "    </tr>\n",
       "    <tr>\n",
       "      <th>2</th>\n",
       "      <td>3</td>\n",
       "      <td>Adelie</td>\n",
       "      <td>Torgersen</td>\n",
       "      <td>40.3</td>\n",
       "      <td>18.0</td>\n",
       "      <td>195.0</td>\n",
       "      <td>3250.0</td>\n",
       "      <td>female</td>\n",
       "      <td>2007</td>\n",
       "    </tr>\n",
       "    <tr>\n",
       "      <th>3</th>\n",
       "      <td>4</td>\n",
       "      <td>Adelie</td>\n",
       "      <td>Torgersen</td>\n",
       "      <td>NaN</td>\n",
       "      <td>NaN</td>\n",
       "      <td>NaN</td>\n",
       "      <td>NaN</td>\n",
       "      <td>NaN</td>\n",
       "      <td>2007</td>\n",
       "    </tr>\n",
       "    <tr>\n",
       "      <th>4</th>\n",
       "      <td>5</td>\n",
       "      <td>Adelie</td>\n",
       "      <td>Torgersen</td>\n",
       "      <td>36.7</td>\n",
       "      <td>19.3</td>\n",
       "      <td>193.0</td>\n",
       "      <td>3450.0</td>\n",
       "      <td>female</td>\n",
       "      <td>2007</td>\n",
       "    </tr>\n",
       "    <tr>\n",
       "      <th>5</th>\n",
       "      <td>6</td>\n",
       "      <td>Adelie</td>\n",
       "      <td>Torgersen</td>\n",
       "      <td>39.3</td>\n",
       "      <td>20.6</td>\n",
       "      <td>190.0</td>\n",
       "      <td>3650.0</td>\n",
       "      <td>male</td>\n",
       "      <td>2007</td>\n",
       "    </tr>\n",
       "    <tr>\n",
       "      <th>6</th>\n",
       "      <td>7</td>\n",
       "      <td>Adelie</td>\n",
       "      <td>Torgersen</td>\n",
       "      <td>38.9</td>\n",
       "      <td>17.8</td>\n",
       "      <td>181.0</td>\n",
       "      <td>3625.0</td>\n",
       "      <td>female</td>\n",
       "      <td>2007</td>\n",
       "    </tr>\n",
       "    <tr>\n",
       "      <th>7</th>\n",
       "      <td>8</td>\n",
       "      <td>Adelie</td>\n",
       "      <td>Torgersen</td>\n",
       "      <td>39.2</td>\n",
       "      <td>19.6</td>\n",
       "      <td>195.0</td>\n",
       "      <td>4675.0</td>\n",
       "      <td>male</td>\n",
       "      <td>2007</td>\n",
       "    </tr>\n",
       "    <tr>\n",
       "      <th>8</th>\n",
       "      <td>9</td>\n",
       "      <td>Adelie</td>\n",
       "      <td>Torgersen</td>\n",
       "      <td>34.1</td>\n",
       "      <td>18.1</td>\n",
       "      <td>193.0</td>\n",
       "      <td>3475.0</td>\n",
       "      <td>NaN</td>\n",
       "      <td>2007</td>\n",
       "    </tr>\n",
       "    <tr>\n",
       "      <th>9</th>\n",
       "      <td>10</td>\n",
       "      <td>Adelie</td>\n",
       "      <td>Torgersen</td>\n",
       "      <td>42.0</td>\n",
       "      <td>20.2</td>\n",
       "      <td>190.0</td>\n",
       "      <td>4250.0</td>\n",
       "      <td>NaN</td>\n",
       "      <td>2007</td>\n",
       "    </tr>\n",
       "  </tbody>\n",
       "</table>\n",
       "</div>"
      ],
      "text/plain": [
       "   rowid species     island  bill_length_mm  bill_depth_mm  flipper_length_mm  \\\n",
       "0      1  Adelie  Torgersen            39.1           18.7              181.0   \n",
       "1      2  Adelie  Torgersen            39.5           17.4              186.0   \n",
       "2      3  Adelie  Torgersen            40.3           18.0              195.0   \n",
       "3      4  Adelie  Torgersen             NaN            NaN                NaN   \n",
       "4      5  Adelie  Torgersen            36.7           19.3              193.0   \n",
       "5      6  Adelie  Torgersen            39.3           20.6              190.0   \n",
       "6      7  Adelie  Torgersen            38.9           17.8              181.0   \n",
       "7      8  Adelie  Torgersen            39.2           19.6              195.0   \n",
       "8      9  Adelie  Torgersen            34.1           18.1              193.0   \n",
       "9     10  Adelie  Torgersen            42.0           20.2              190.0   \n",
       "\n",
       "   body_mass_g     sex  year  \n",
       "0       3750.0    male  2007  \n",
       "1       3800.0  female  2007  \n",
       "2       3250.0  female  2007  \n",
       "3          NaN     NaN  2007  \n",
       "4       3450.0  female  2007  \n",
       "5       3650.0    male  2007  \n",
       "6       3625.0  female  2007  \n",
       "7       4675.0    male  2007  \n",
       "8       3475.0     NaN  2007  \n",
       "9       4250.0     NaN  2007  "
      ]
     },
     "metadata": {},
     "output_type": "display_data"
    },
    {
     "name": "stdout",
     "output_type": "stream",
     "text": [
      "Kích thước: (344, 9)\n"
     ]
    }
   ],
   "source": [
    "\n",
    "import pandas as pd\n",
    "import numpy as np\n",
    "import matplotlib.pyplot as plt\n",
    "\n",
    "# Phải kiểm tra lại chính xác đường dẫn ( đường dẫn tuyệt đối)\n",
    "df = pd.read_csv(\"/Users/trangnguyen/Downloads/HKI_4/GK_TKMT/ôn_thi_KT/data/penguins.csv\")\n",
    "display(df.head(10))\n",
    "print(\"Kích thước:\", df.shape)\n"
   ]
  },
  {
   "cell_type": "markdown",
   "id": "85cab7e1",
   "metadata": {},
   "source": [
    "\n",
    "## 2) Tìm hiểu thông tin dữ liệu (5đ)\n",
    "a) Số lượng chim của mỗi loài.  \n",
    "b) Số lượng mỗi loài trên mỗi đảo.  \n",
    "c) Với mỗi loài, so sánh **mean/median/std** cho các cột: \n",
    "`bill_length_mm, bill_depth_mm, flipper_length_mm, body_mass_g`.  \n",
    "d) Rút ra nhận xét.\n"
   ]
  },
  {
   "cell_type": "code",
   "execution_count": 5,
   "id": "1687be69",
   "metadata": {},
   "outputs": [
    {
     "data": {
      "text/plain": [
       "species\n",
       "Adelie       152\n",
       "Gentoo       124\n",
       "Chinstrap     68\n",
       "Name: count, dtype: int64"
      ]
     },
     "execution_count": 5,
     "metadata": {},
     "output_type": "execute_result"
    }
   ],
   "source": [
    "\n",
    "# 2a a. Số lượng chim cánh cụt mỗi loài\n",
    "species_counts = df[\"species\"].value_counts(dropna=False)\n",
    "species_counts\n"
   ]
  },
  {
   "cell_type": "code",
   "execution_count": 24,
   "id": "a2cdb99a",
   "metadata": {},
   "outputs": [
    {
     "data": {
      "text/html": [
       "<div>\n",
       "<style scoped>\n",
       "    .dataframe tbody tr th:only-of-type {\n",
       "        vertical-align: middle;\n",
       "    }\n",
       "\n",
       "    .dataframe tbody tr th {\n",
       "        vertical-align: top;\n",
       "    }\n",
       "\n",
       "    .dataframe thead th {\n",
       "        text-align: right;\n",
       "    }\n",
       "</style>\n",
       "<table border=\"1\" class=\"dataframe\">\n",
       "  <thead>\n",
       "    <tr style=\"text-align: right;\">\n",
       "      <th>species</th>\n",
       "      <th>Adelie</th>\n",
       "      <th>Chinstrap</th>\n",
       "      <th>Gentoo</th>\n",
       "    </tr>\n",
       "    <tr>\n",
       "      <th>island</th>\n",
       "      <th></th>\n",
       "      <th></th>\n",
       "      <th></th>\n",
       "    </tr>\n",
       "  </thead>\n",
       "  <tbody>\n",
       "    <tr>\n",
       "      <th>Biscoe</th>\n",
       "      <td>44</td>\n",
       "      <td>0</td>\n",
       "      <td>124</td>\n",
       "    </tr>\n",
       "    <tr>\n",
       "      <th>Dream</th>\n",
       "      <td>56</td>\n",
       "      <td>68</td>\n",
       "      <td>0</td>\n",
       "    </tr>\n",
       "    <tr>\n",
       "      <th>Torgersen</th>\n",
       "      <td>52</td>\n",
       "      <td>0</td>\n",
       "      <td>0</td>\n",
       "    </tr>\n",
       "  </tbody>\n",
       "</table>\n",
       "</div>"
      ],
      "text/plain": [
       "species    Adelie  Chinstrap  Gentoo\n",
       "island                              \n",
       "Biscoe         44          0     124\n",
       "Dream          56         68       0\n",
       "Torgersen      52          0       0"
      ]
     },
     "execution_count": 24,
     "metadata": {},
     "output_type": "execute_result"
    }
   ],
   "source": [
    "\n",
    "# 2b Số lượng mỗi loài chim cánh cụt trên đảo\n",
    "table_species_island = pd.crosstab(df[\"island\"], df[\"species\"], dropna=False)\n",
    "table_species_island\n"
   ]
  },
  {
   "cell_type": "markdown",
   "id": "647b3bab-abee-40da-80bd-dcb267caa33d",
   "metadata": {},
   "source": [
    "Với mỗi loại chim cánh cụt, bạn hãy so sánh các đại lượng thống kê: \n",
    "giá trị trung bình, trung vị, \n",
    "\n",
    "độ lệch chuẩn trên các thuộc tính độ dài mỏ (bill_leghth_mm), \n",
    "\n",
    "độ sâu mỏ (bill_depth_mm), \n",
    "\n",
    "độ dài cánh (flipper) và trọng lượng (body_mass).\n",
    "\n"
   ]
  },
  {
   "cell_type": "code",
   "execution_count": 25,
   "id": "9b50fc45",
   "metadata": {},
   "outputs": [
    {
     "data": {
      "text/html": [
       "<div>\n",
       "<style scoped>\n",
       "    .dataframe tbody tr th:only-of-type {\n",
       "        vertical-align: middle;\n",
       "    }\n",
       "\n",
       "    .dataframe tbody tr th {\n",
       "        vertical-align: top;\n",
       "    }\n",
       "\n",
       "    .dataframe thead tr th {\n",
       "        text-align: left;\n",
       "    }\n",
       "\n",
       "    .dataframe thead tr:last-of-type th {\n",
       "        text-align: right;\n",
       "    }\n",
       "</style>\n",
       "<table border=\"1\" class=\"dataframe\">\n",
       "  <thead>\n",
       "    <tr>\n",
       "      <th></th>\n",
       "      <th colspan=\"3\" halign=\"left\">bill_length_mm</th>\n",
       "      <th colspan=\"3\" halign=\"left\">bill_depth_mm</th>\n",
       "      <th colspan=\"3\" halign=\"left\">flipper_length_mm</th>\n",
       "      <th colspan=\"3\" halign=\"left\">body_mass_g</th>\n",
       "    </tr>\n",
       "    <tr>\n",
       "      <th></th>\n",
       "      <th>mean</th>\n",
       "      <th>median</th>\n",
       "      <th>std</th>\n",
       "      <th>mean</th>\n",
       "      <th>median</th>\n",
       "      <th>std</th>\n",
       "      <th>mean</th>\n",
       "      <th>median</th>\n",
       "      <th>std</th>\n",
       "      <th>mean</th>\n",
       "      <th>median</th>\n",
       "      <th>std</th>\n",
       "    </tr>\n",
       "    <tr>\n",
       "      <th>species</th>\n",
       "      <th></th>\n",
       "      <th></th>\n",
       "      <th></th>\n",
       "      <th></th>\n",
       "      <th></th>\n",
       "      <th></th>\n",
       "      <th></th>\n",
       "      <th></th>\n",
       "      <th></th>\n",
       "      <th></th>\n",
       "      <th></th>\n",
       "      <th></th>\n",
       "    </tr>\n",
       "  </thead>\n",
       "  <tbody>\n",
       "    <tr>\n",
       "      <th>Adelie</th>\n",
       "      <td>38.791391</td>\n",
       "      <td>38.80</td>\n",
       "      <td>2.663405</td>\n",
       "      <td>18.346358</td>\n",
       "      <td>18.40</td>\n",
       "      <td>1.216650</td>\n",
       "      <td>189.953642</td>\n",
       "      <td>190.0</td>\n",
       "      <td>6.539457</td>\n",
       "      <td>3700.662252</td>\n",
       "      <td>3700.0</td>\n",
       "      <td>458.566126</td>\n",
       "    </tr>\n",
       "    <tr>\n",
       "      <th>Chinstrap</th>\n",
       "      <td>48.833824</td>\n",
       "      <td>49.55</td>\n",
       "      <td>3.339256</td>\n",
       "      <td>18.420588</td>\n",
       "      <td>18.45</td>\n",
       "      <td>1.135395</td>\n",
       "      <td>195.823529</td>\n",
       "      <td>196.0</td>\n",
       "      <td>7.131894</td>\n",
       "      <td>3733.088235</td>\n",
       "      <td>3700.0</td>\n",
       "      <td>384.335081</td>\n",
       "    </tr>\n",
       "    <tr>\n",
       "      <th>Gentoo</th>\n",
       "      <td>47.504878</td>\n",
       "      <td>47.30</td>\n",
       "      <td>3.081857</td>\n",
       "      <td>14.982114</td>\n",
       "      <td>15.00</td>\n",
       "      <td>0.981220</td>\n",
       "      <td>217.186992</td>\n",
       "      <td>216.0</td>\n",
       "      <td>6.484976</td>\n",
       "      <td>5076.016260</td>\n",
       "      <td>5000.0</td>\n",
       "      <td>504.116237</td>\n",
       "    </tr>\n",
       "  </tbody>\n",
       "</table>\n",
       "</div>"
      ],
      "text/plain": [
       "          bill_length_mm                  bill_depth_mm                   \\\n",
       "                    mean median       std          mean median       std   \n",
       "species                                                                    \n",
       "Adelie         38.791391  38.80  2.663405     18.346358  18.40  1.216650   \n",
       "Chinstrap      48.833824  49.55  3.339256     18.420588  18.45  1.135395   \n",
       "Gentoo         47.504878  47.30  3.081857     14.982114  15.00  0.981220   \n",
       "\n",
       "          flipper_length_mm                   body_mass_g                      \n",
       "                       mean median       std         mean  median         std  \n",
       "species                                                                        \n",
       "Adelie           189.953642  190.0  6.539457  3700.662252  3700.0  458.566126  \n",
       "Chinstrap        195.823529  196.0  7.131894  3733.088235  3700.0  384.335081  \n",
       "Gentoo           217.186992  216.0  6.484976  5076.016260  5000.0  504.116237  "
      ]
     },
     "execution_count": 25,
     "metadata": {},
     "output_type": "execute_result"
    }
   ],
   "source": [
    "\n",
    "# 2c Với mỗi loài, so sánh mean/median/std cho các cột: bill_length_mm, bill_depth_mm, flipper_length_mm, body_mass_g.\n",
    "cols = [\"bill_length_mm\", \"bill_depth_mm\", \"flipper_length_mm\", \"body_mass_g\"]\n",
    "stats = df.groupby(\"species\")[cols].agg([\"mean\",\"median\",\"std\"])\n",
    "stats\n"
   ]
  },
  {
   "cell_type": "markdown",
   "id": "a56665c1",
   "metadata": {},
   "source": [
    "**2d) Nhận xét:**\n",
    "+ Gentoo là loài lớn nhất với mỏ dài và trọng lượng nặng, trong khi Adelie là loài nhỏ nhất.\n",
    "+ Sự khác biệt về độ sâu mỏ giữa Gentoo và hai loài còn lại có thể phản ánh sự khác biệt về cấu trúc mỏ liên quan đến chức năng sinh học.\n",
    "+ Gentoo có sự biến thiên trọng lượng lớn nhất, cho thấy sự đa dạng trong loài này.\n"
   ]
  },
  {
   "cell_type": "markdown",
   "id": "d4af0220",
   "metadata": {},
   "source": [
    "\n",
    "## 3) Phân phối của ba loài (2đ)\n",
    "Chọn biến đại diện (gợi ý: `body_mass_g`) và vẽ histogram cho từng loài. Nêu bình luận.\n"
   ]
  },
  {
   "cell_type": "code",
   "execution_count": 9,
   "id": "b6c68f71",
   "metadata": {},
   "outputs": [
    {
     "data": {
      "image/png": "[encoded data removed]",
      "text/plain": [
       "<Figure size 640x480 with 1 Axes>"
      ]
     },
     "metadata": {},
     "output_type": "display_data"
    },
    {
     "data": {
      "image/png": "[encoded data removed]",
      "text/plain": [
       "<Figure size 640x480 with 1 Axes>"
      ]
     },
     "metadata": {},
     "output_type": "display_data"
    },
    {
     "data": {
      "image/png": "[encoded data removed]",
      "text/plain": [
       "<Figure size 640x480 with 1 Axes>"
      ]
     },
     "metadata": {},
     "output_type": "display_data"
    }
   ],
   "source": [
    "\n",
    "for sp in df[\"species\"].dropna().unique():\n",
    "    sub = df[df[\"species\"]==sp][\"body_mass_g\"].dropna()\n",
    "    plt.figure()\n",
    "    plt.hist(sub, bins=20, edgecolor = 'black')\n",
    "    plt.title(f\"Histogram body_mass_g — {sp}\")\n",
    "    plt.xlabel(\"body_mass_g\"); plt.ylabel(\"Tần suất\")\n",
    "    plt.show()\n"
   ]
  },
  {
   "cell_type": "markdown",
   "id": "fbc576c0",
   "metadata": {},
   "source": [
    "\n",
    "## 4) Quan hệ giữa độ dài cánh và trọng lượng — loài Gentoo (2đ)\n",
    "a) Vẽ biểu đồ phù hợp và cho biết hai đại lượng có quan hệ không.  \n",
    "b) Gợi ý thêm thuộc tính có thể ảnh hưởng đến trọng lượng Gentoo.\n"
   ]
  },
  {
   "cell_type": "code",
   "execution_count": 10,
   "id": "7400852b",
   "metadata": {},
   "outputs": [
    {
     "data": {
      "image/png": "[encoded data removed]",
      "text/plain": [
       "<Figure size 640x480 with 1 Axes>"
      ]
     },
     "metadata": {},
     "output_type": "display_data"
    },
    {
     "name": "stdout",
     "output_type": "stream",
     "text": [
      "Tương quan Pearson: 0.703\n"
     ]
    }
   ],
   "source": [
    "\n",
    "gentoo = df[df[\"species\"]==\"Gentoo\"].dropna(subset=[\"flipper_length_mm\",\"body_mass_g\"])\n",
    "plt.figure()\n",
    "plt.scatter(gentoo[\"flipper_length_mm\"], gentoo[\"body_mass_g\"])\n",
    "plt.title(\"Gentoo: flipper_length_mm vs body_mass_g\")\n",
    "plt.xlabel(\"flipper_length_mm\"); plt.ylabel(\"body_mass_g\")\n",
    "plt.show()\n",
    "\n",
    "corr = gentoo[\"flipper_length_mm\"].corr(gentoo[\"body_mass_g\"])\n",
    "print(\"Tương quan Pearson:\", round(corr, 3))\n"
   ]
  },
  {
   "cell_type": "markdown",
   "id": "01fbd1d1-5f4b-4b8f-8e3b-9eaee778dd2d",
   "metadata": {},
   "source": [
    "======================================================================================================================="
   ]
  },
  {
   "cell_type": "code",
   "execution_count": null,
   "id": "0ba5ad57-c1f8-4962-93bb-64414056607a",
   "metadata": {},
   "outputs": [],
   "source": []
  },
  {
   "cell_type": "code",
   "execution_count": null,
   "id": "108e4a4e-eed4-4148-84dd-2d6281e7a10b",
   "metadata": {},
   "outputs": [],
   "source": []
  },
  {
   "cell_type": "markdown",
   "id": "4f233d6c-7620-4a3f-96d5-8b8f2d2b4890",
   "metadata": {},
   "source": [
    "3. (2 điểm) Vẽ đồ thị phù hợp thể hiện phân phối của ba loại chim cánh cụt, qua đó bạn hãy đưa ra bình luận của mình.\n"
   ]
  },
  {
   "cell_type": "code",
   "execution_count": 27,
   "id": "82172038-ec32-41fa-8fe8-b2268df004bd",
   "metadata": {},
   "outputs": [
    {
     "data": {
      "text/html": [
       "<div>\n",
       "<style scoped>\n",
       "    .dataframe tbody tr th:only-of-type {\n",
       "        vertical-align: middle;\n",
       "    }\n",
       "\n",
       "    .dataframe tbody tr th {\n",
       "        vertical-align: top;\n",
       "    }\n",
       "\n",
       "    .dataframe thead th {\n",
       "        text-align: right;\n",
       "    }\n",
       "</style>\n",
       "<table border=\"1\" class=\"dataframe\">\n",
       "  <thead>\n",
       "    <tr style=\"text-align: right;\">\n",
       "      <th></th>\n",
       "      <th>species</th>\n",
       "      <th>bill_length_mm</th>\n",
       "      <th>bill_depth_mm</th>\n",
       "      <th>flipper_length_mm</th>\n",
       "      <th>body_mass_g</th>\n",
       "    </tr>\n",
       "  </thead>\n",
       "  <tbody>\n",
       "    <tr>\n",
       "      <th>0</th>\n",
       "      <td>Adelie</td>\n",
       "      <td>39.1</td>\n",
       "      <td>18.7</td>\n",
       "      <td>181.0</td>\n",
       "      <td>3750.0</td>\n",
       "    </tr>\n",
       "    <tr>\n",
       "      <th>1</th>\n",
       "      <td>Adelie</td>\n",
       "      <td>39.5</td>\n",
       "      <td>17.4</td>\n",
       "      <td>186.0</td>\n",
       "      <td>3800.0</td>\n",
       "    </tr>\n",
       "    <tr>\n",
       "      <th>2</th>\n",
       "      <td>Adelie</td>\n",
       "      <td>40.3</td>\n",
       "      <td>18.0</td>\n",
       "      <td>195.0</td>\n",
       "      <td>3250.0</td>\n",
       "    </tr>\n",
       "    <tr>\n",
       "      <th>4</th>\n",
       "      <td>Adelie</td>\n",
       "      <td>36.7</td>\n",
       "      <td>19.3</td>\n",
       "      <td>193.0</td>\n",
       "      <td>3450.0</td>\n",
       "    </tr>\n",
       "    <tr>\n",
       "      <th>5</th>\n",
       "      <td>Adelie</td>\n",
       "      <td>39.3</td>\n",
       "      <td>20.6</td>\n",
       "      <td>190.0</td>\n",
       "      <td>3650.0</td>\n",
       "    </tr>\n",
       "    <tr>\n",
       "      <th>...</th>\n",
       "      <td>...</td>\n",
       "      <td>...</td>\n",
       "      <td>...</td>\n",
       "      <td>...</td>\n",
       "      <td>...</td>\n",
       "    </tr>\n",
       "    <tr>\n",
       "      <th>339</th>\n",
       "      <td>Chinstrap</td>\n",
       "      <td>55.8</td>\n",
       "      <td>19.8</td>\n",
       "      <td>207.0</td>\n",
       "      <td>4000.0</td>\n",
       "    </tr>\n",
       "    <tr>\n",
       "      <th>340</th>\n",
       "      <td>Chinstrap</td>\n",
       "      <td>43.5</td>\n",
       "      <td>18.1</td>\n",
       "      <td>202.0</td>\n",
       "      <td>3400.0</td>\n",
       "    </tr>\n",
       "    <tr>\n",
       "      <th>341</th>\n",
       "      <td>Chinstrap</td>\n",
       "      <td>49.6</td>\n",
       "      <td>18.2</td>\n",
       "      <td>193.0</td>\n",
       "      <td>3775.0</td>\n",
       "    </tr>\n",
       "    <tr>\n",
       "      <th>342</th>\n",
       "      <td>Chinstrap</td>\n",
       "      <td>50.8</td>\n",
       "      <td>19.0</td>\n",
       "      <td>210.0</td>\n",
       "      <td>4100.0</td>\n",
       "    </tr>\n",
       "    <tr>\n",
       "      <th>343</th>\n",
       "      <td>Chinstrap</td>\n",
       "      <td>50.2</td>\n",
       "      <td>18.7</td>\n",
       "      <td>198.0</td>\n",
       "      <td>3775.0</td>\n",
       "    </tr>\n",
       "  </tbody>\n",
       "</table>\n",
       "<p>342 rows × 5 columns</p>\n",
       "</div>"
      ],
      "text/plain": [
       "       species  bill_length_mm  bill_depth_mm  flipper_length_mm  body_mass_g\n",
       "0       Adelie            39.1           18.7              181.0       3750.0\n",
       "1       Adelie            39.5           17.4              186.0       3800.0\n",
       "2       Adelie            40.3           18.0              195.0       3250.0\n",
       "4       Adelie            36.7           19.3              193.0       3450.0\n",
       "5       Adelie            39.3           20.6              190.0       3650.0\n",
       "..         ...             ...            ...                ...          ...\n",
       "339  Chinstrap            55.8           19.8              207.0       4000.0\n",
       "340  Chinstrap            43.5           18.1              202.0       3400.0\n",
       "341  Chinstrap            49.6           18.2              193.0       3775.0\n",
       "342  Chinstrap            50.8           19.0              210.0       4100.0\n",
       "343  Chinstrap            50.2           18.7              198.0       3775.0\n",
       "\n",
       "[342 rows x 5 columns]"
      ]
     },
     "execution_count": 27,
     "metadata": {},
     "output_type": "execute_result"
    }
   ],
   "source": [
    "# Chọn các cột cần thiết\n",
    "penguins_filtered = df[['species', 'bill_length_mm', 'bill_depth_mm', 'flipper_length_mm', 'body_mass_g']]\n",
    "\n",
    "# Loại bỏ các hàng có giá trị thiếu\n",
    "penguins_filtered = penguins_filtered.dropna()\n",
    "\n",
    "# Xem dữ liệu đã qua xử lý\n",
    "penguins_filtered"
   ]
  },
  {
   "cell_type": "code",
   "execution_count": 28,
   "id": "4edfbaa9-f7d1-4984-8b04-07d6590ae211",
   "metadata": {},
   "outputs": [
    {
     "data": {
      "image/png": "[encoded data removed]",
      "text/plain": [
       "<Figure size 1000x600 with 1 Axes>"
      ]
     },
     "metadata": {},
     "output_type": "display_data"
    }
   ],
   "source": [
    "import numpy as np\n",
    "import pandas as pd\n",
    "import matplotlib.pyplot as plt\n",
    "import seaborn as sns\n",
    "\n",
    "plt.figure(figsize=(10, 6))\n",
    "\n",
    "# Vẽ boxplot cho độ dài mỏ\n",
    "sns.boxplot(x='species', y='bill_length_mm', data=penguins_filtered)\n",
    "\n",
    "plt.title('Phân phối độ dài mỏ của ba loại chim cánh cụt')\n",
    "plt.xlabel('Loài chim cánh cụt')\n",
    "plt.ylabel('Độ dài mỏ (mm)')\n",
    "plt.show()"
   ]
  },
  {
   "cell_type": "code",
   "execution_count": 30,
   "id": "30dfbb0e-d36f-4c7e-875a-637f089993c2",
   "metadata": {},
   "outputs": [
    {
     "data": {
      "image/png": "[encoded data removed]",
      "text/plain": [
       "<Figure size 1000x600 with 1 Axes>"
      ]
     },
     "metadata": {},
     "output_type": "display_data"
    }
   ],
   "source": [
    "plt.figure(figsize=(10, 6))\n",
    "\n",
    "# Vẽ boxplot cho độ dài cánh\n",
    "sns.boxplot(x='species', y='flipper_length_mm', data=penguins_filtered)\n",
    "\n",
    "plt.title('Phân phối độ dài cánh của ba loại chim cánh cụt')\n",
    "plt.xlabel('Loài chim cánh cụt')\n",
    "plt.ylabel('Độ dài cánh (mm)')\n",
    "plt.show()"
   ]
  },
  {
   "cell_type": "markdown",
   "id": "a0f929cc-cf1b-4aa4-a357-33fdbefd80c0",
   "metadata": {},
   "source": [
    "======================================================================================================================="
   ]
  },
  {
   "cell_type": "code",
   "execution_count": 31,
   "id": "5fdb029e-039c-4374-a6d1-515a7278a2ef",
   "metadata": {},
   "outputs": [
    {
     "data": {
      "image/png": "[encoded data removed]",
      "text/plain": [
       "<Figure size 1000x600 with 1 Axes>"
      ]
     },
     "metadata": {},
     "output_type": "display_data"
    }
   ],
   "source": [
    "plt.figure(figsize=(10, 6))\n",
    "\n",
    "# Vẽ histogram cho trọng lượng cơ thể\n",
    "sns.histplot(data=penguins_filtered, x='body_mass_g', hue='species', multiple='stack', bins=20)\n",
    "\n",
    "plt.title('Phân phối trọng lượng cơ thể của ba loại chim cánh cụt')\n",
    "plt.xlabel('Trọng lượng cơ thể (g)')\n",
    "plt.ylabel('Số lượng')\n",
    "plt.show()"
   ]
  },
  {
   "cell_type": "markdown",
   "id": "b1985bef-3fa2-4ff8-94ce-293664194b89",
   "metadata": {},
   "source": [
    "4.\t(2 điểm) Chọn loại đồ thị phù hợp để khảo sát mối quan hệ giữa độ dài cánh và trọng lượng của loài chim cánh cụt Gentoo:\n",
    "+ a.\tTheo bạn hai đại lượng này có quan hệ với nhau hay không? Giải thích.\n",
    "+ b.\tNgoài độ dài cánh, theo bạn còn thuộc tính nào có khả năng ảnh hưởng đến trọng lượng của loài chim Gentoo?\n"
   ]
  },
  {
   "cell_type": "code",
   "execution_count": 32,
   "id": "c0bdb71b-edb0-40b9-b9b0-64d8e1dbf12d",
   "metadata": {},
   "outputs": [
    {
     "data": {
      "image/png": "[encoded data removed]",
      "text/plain": [
       "<Figure size 1000x600 with 1 Axes>"
      ]
     },
     "metadata": {},
     "output_type": "display_data"
    }
   ],
   "source": [
    "# Lọc dữ liệu cho loài Gentoo\n",
    "gentoo_data = penguins_filtered[penguins_filtered['species'] == 'Gentoo']\n",
    "\n",
    "plt.figure(figsize=(10, 6))\n",
    "\n",
    "# Vẽ scatter plot cho độ dài cánh và trọng lượng\n",
    "sns.scatterplot(x='flipper_length_mm', y='body_mass_g', data=gentoo_data)\n",
    "\n",
    "plt.title('Mối quan hệ giữa độ dài cánh và trọng lượng của chim cánh cụt Gentoo')\n",
    "plt.xlabel('Độ dài cánh (mm)')\n",
    "plt.ylabel('Trọng lượng cơ thể (g)')\n",
    "plt.show()"
   ]
  },
  {
   "cell_type": "markdown",
   "id": "3ed67b1b-b959-4018-8ccb-f655b34c0b46",
   "metadata": {},
   "source": [
    "### a. Mối quan hệ giữa độ dài cánh và trọng lượng\n",
    "\n",
    "Sau khi vẽ biểu đồ scatter plot cho độ dài cánh và trọng lượng của loài chim cánh cụt Gentoo, chúng ta có thể quan sát được mối quan hệ giữa hai đại lượng này. \n",
    "\n",
    "- **Quan sát**: Biểu đồ cho thấy có xu hướng tăng, nghĩa là khi độ dài cánh tăng thì trọng lượng cơ thể cũng có xu hướng tăng.\n",
    "- **Giải thích**: Điều này có thể được lý giải bởi vì các cá thể lớn hơn thường có cánh lớn hơn để hỗ trợ trong việc bay hoặc di chuyển trong môi trường sống của chúng. Sự tương quan này cho thấy rằng độ dài cánh có thể là một yếu tố quan trọng trong việc đánh giá trọng lượng cơ thể của chim cánh cụt Gentoo.\n",
    "\n",
    "### b. Các thuộc tính khác ảnh hưởng đến trọng lượng\n",
    "\n",
    "Ngoài độ dài cánh, còn một số thuộc tính khác có thể ảnh hưởng đến trọng lượng của loài chim cánh cụt Gentoo, bao gồm:\n",
    "\n",
    "1. **Độ dài mỏ (`bill_length_mm`)**: Độ dài mỏ có thể liên quan đến cách thức kiếm ăn và dinh dưỡng, điều này có thể ảnh hưởng đến sức khỏe và trọng lượng của chim.\n",
    "2. **Độ sâu mỏ (`bill_depth_mm`)**: Tương tự như độ dài mỏ, độ sâu mỏ cũng có thể ảnh hưởng đến khả năng kiếm ăn.\n",
    "3. **Tuổi tác**: Tuổi của chim có thể ảnh hưởng đến trọng lượng, vì chim trưởng thành thường nặng hơn so với chim non.\n",
    "4. **Giới tính**: Giới tính có thể là một yếu tố, vì thường thì chim cái và chim đực có trọng lượng khác nhau.\n",
    "5. **Chế độ ăn uống**: Sự sẵn có của thực phẩm và chế độ ăn uống cũng có thể ảnh hưởng đến trọng lượng cơ thể.\n",
    "\n",
    "Bằng cách khảo sát mối quan hệ giữa các thuộc tính này, chúng ta có thể có cái nhìn tổng thể hơn về các yếu tố ảnh hưởng đến trọng lượng của loài chim cánh cụt Gentoo."
   ]
  },
  {
   "cell_type": "markdown",
   "id": "091af26e",
   "metadata": {},
   "source": [
    "\n",
    "---\n",
    "# PHẦN BỔ SUNG — EDA mở rộng (áp dụng cho Penguins)\n"
   ]
  },
  {
   "cell_type": "markdown",
   "id": "96291a7b",
   "metadata": {},
   "source": [
    "### B1) 5 dòng đầu và 10 dòng cuối (1đ)"
   ]
  },
  {
   "cell_type": "code",
   "execution_count": 15,
   "id": "accefa4a",
   "metadata": {},
   "outputs": [
    {
     "data": {
      "text/html": [
       "<div>\n",
       "<style scoped>\n",
       "    .dataframe tbody tr th:only-of-type {\n",
       "        vertical-align: middle;\n",
       "    }\n",
       "\n",
       "    .dataframe tbody tr th {\n",
       "        vertical-align: top;\n",
       "    }\n",
       "\n",
       "    .dataframe thead th {\n",
       "        text-align: right;\n",
       "    }\n",
       "</style>\n",
       "<table border=\"1\" class=\"dataframe\">\n",
       "  <thead>\n",
       "    <tr style=\"text-align: right;\">\n",
       "      <th></th>\n",
       "      <th>rowid</th>\n",
       "      <th>species</th>\n",
       "      <th>island</th>\n",
       "      <th>bill_length_mm</th>\n",
       "      <th>bill_depth_mm</th>\n",
       "      <th>flipper_length_mm</th>\n",
       "      <th>body_mass_g</th>\n",
       "      <th>sex</th>\n",
       "      <th>year</th>\n",
       "    </tr>\n",
       "  </thead>\n",
       "  <tbody>\n",
       "    <tr>\n",
       "      <th>0</th>\n",
       "      <td>1</td>\n",
       "      <td>Adelie</td>\n",
       "      <td>Torgersen</td>\n",
       "      <td>39.1</td>\n",
       "      <td>18.7</td>\n",
       "      <td>181.0</td>\n",
       "      <td>3750.0</td>\n",
       "      <td>male</td>\n",
       "      <td>2007</td>\n",
       "    </tr>\n",
       "    <tr>\n",
       "      <th>1</th>\n",
       "      <td>2</td>\n",
       "      <td>Adelie</td>\n",
       "      <td>Torgersen</td>\n",
       "      <td>39.5</td>\n",
       "      <td>17.4</td>\n",
       "      <td>186.0</td>\n",
       "      <td>3800.0</td>\n",
       "      <td>female</td>\n",
       "      <td>2007</td>\n",
       "    </tr>\n",
       "    <tr>\n",
       "      <th>2</th>\n",
       "      <td>3</td>\n",
       "      <td>Adelie</td>\n",
       "      <td>Torgersen</td>\n",
       "      <td>40.3</td>\n",
       "      <td>18.0</td>\n",
       "      <td>195.0</td>\n",
       "      <td>3250.0</td>\n",
       "      <td>female</td>\n",
       "      <td>2007</td>\n",
       "    </tr>\n",
       "    <tr>\n",
       "      <th>3</th>\n",
       "      <td>4</td>\n",
       "      <td>Adelie</td>\n",
       "      <td>Torgersen</td>\n",
       "      <td>NaN</td>\n",
       "      <td>NaN</td>\n",
       "      <td>NaN</td>\n",
       "      <td>NaN</td>\n",
       "      <td>NaN</td>\n",
       "      <td>2007</td>\n",
       "    </tr>\n",
       "    <tr>\n",
       "      <th>4</th>\n",
       "      <td>5</td>\n",
       "      <td>Adelie</td>\n",
       "      <td>Torgersen</td>\n",
       "      <td>36.7</td>\n",
       "      <td>19.3</td>\n",
       "      <td>193.0</td>\n",
       "      <td>3450.0</td>\n",
       "      <td>female</td>\n",
       "      <td>2007</td>\n",
       "    </tr>\n",
       "  </tbody>\n",
       "</table>\n",
       "</div>"
      ],
      "text/plain": [
       "   rowid species     island  bill_length_mm  bill_depth_mm  flipper_length_mm  \\\n",
       "0      1  Adelie  Torgersen            39.1           18.7              181.0   \n",
       "1      2  Adelie  Torgersen            39.5           17.4              186.0   \n",
       "2      3  Adelie  Torgersen            40.3           18.0              195.0   \n",
       "3      4  Adelie  Torgersen             NaN            NaN                NaN   \n",
       "4      5  Adelie  Torgersen            36.7           19.3              193.0   \n",
       "\n",
       "   body_mass_g     sex  year  \n",
       "0       3750.0    male  2007  \n",
       "1       3800.0  female  2007  \n",
       "2       3250.0  female  2007  \n",
       "3          NaN     NaN  2007  \n",
       "4       3450.0  female  2007  "
      ]
     },
     "metadata": {},
     "output_type": "display_data"
    }
   ],
   "source": [
    "#hiển thị 5 dòng đầu\n",
    "display(df.head(5))\n"
   ]
  },
  {
   "cell_type": "code",
   "execution_count": 16,
   "id": "f8b3b7ac-f38a-45d8-8f11-eb1d2bb5fa99",
   "metadata": {},
   "outputs": [
    {
     "data": {
      "text/html": [
       "<div>\n",
       "<style scoped>\n",
       "    .dataframe tbody tr th:only-of-type {\n",
       "        vertical-align: middle;\n",
       "    }\n",
       "\n",
       "    .dataframe tbody tr th {\n",
       "        vertical-align: top;\n",
       "    }\n",
       "\n",
       "    .dataframe thead th {\n",
       "        text-align: right;\n",
       "    }\n",
       "</style>\n",
       "<table border=\"1\" class=\"dataframe\">\n",
       "  <thead>\n",
       "    <tr style=\"text-align: right;\">\n",
       "      <th></th>\n",
       "      <th>rowid</th>\n",
       "      <th>species</th>\n",
       "      <th>island</th>\n",
       "      <th>bill_length_mm</th>\n",
       "      <th>bill_depth_mm</th>\n",
       "      <th>flipper_length_mm</th>\n",
       "      <th>body_mass_g</th>\n",
       "      <th>sex</th>\n",
       "      <th>year</th>\n",
       "    </tr>\n",
       "  </thead>\n",
       "  <tbody>\n",
       "    <tr>\n",
       "      <th>334</th>\n",
       "      <td>335</td>\n",
       "      <td>Chinstrap</td>\n",
       "      <td>Dream</td>\n",
       "      <td>50.2</td>\n",
       "      <td>18.8</td>\n",
       "      <td>202.0</td>\n",
       "      <td>3800.0</td>\n",
       "      <td>male</td>\n",
       "      <td>2009</td>\n",
       "    </tr>\n",
       "    <tr>\n",
       "      <th>335</th>\n",
       "      <td>336</td>\n",
       "      <td>Chinstrap</td>\n",
       "      <td>Dream</td>\n",
       "      <td>45.6</td>\n",
       "      <td>19.4</td>\n",
       "      <td>194.0</td>\n",
       "      <td>3525.0</td>\n",
       "      <td>female</td>\n",
       "      <td>2009</td>\n",
       "    </tr>\n",
       "    <tr>\n",
       "      <th>336</th>\n",
       "      <td>337</td>\n",
       "      <td>Chinstrap</td>\n",
       "      <td>Dream</td>\n",
       "      <td>51.9</td>\n",
       "      <td>19.5</td>\n",
       "      <td>206.0</td>\n",
       "      <td>3950.0</td>\n",
       "      <td>male</td>\n",
       "      <td>2009</td>\n",
       "    </tr>\n",
       "    <tr>\n",
       "      <th>337</th>\n",
       "      <td>338</td>\n",
       "      <td>Chinstrap</td>\n",
       "      <td>Dream</td>\n",
       "      <td>46.8</td>\n",
       "      <td>16.5</td>\n",
       "      <td>189.0</td>\n",
       "      <td>3650.0</td>\n",
       "      <td>female</td>\n",
       "      <td>2009</td>\n",
       "    </tr>\n",
       "    <tr>\n",
       "      <th>338</th>\n",
       "      <td>339</td>\n",
       "      <td>Chinstrap</td>\n",
       "      <td>Dream</td>\n",
       "      <td>45.7</td>\n",
       "      <td>17.0</td>\n",
       "      <td>195.0</td>\n",
       "      <td>3650.0</td>\n",
       "      <td>female</td>\n",
       "      <td>2009</td>\n",
       "    </tr>\n",
       "    <tr>\n",
       "      <th>339</th>\n",
       "      <td>340</td>\n",
       "      <td>Chinstrap</td>\n",
       "      <td>Dream</td>\n",
       "      <td>55.8</td>\n",
       "      <td>19.8</td>\n",
       "      <td>207.0</td>\n",
       "      <td>4000.0</td>\n",
       "      <td>male</td>\n",
       "      <td>2009</td>\n",
       "    </tr>\n",
       "    <tr>\n",
       "      <th>340</th>\n",
       "      <td>341</td>\n",
       "      <td>Chinstrap</td>\n",
       "      <td>Dream</td>\n",
       "      <td>43.5</td>\n",
       "      <td>18.1</td>\n",
       "      <td>202.0</td>\n",
       "      <td>3400.0</td>\n",
       "      <td>female</td>\n",
       "      <td>2009</td>\n",
       "    </tr>\n",
       "    <tr>\n",
       "      <th>341</th>\n",
       "      <td>342</td>\n",
       "      <td>Chinstrap</td>\n",
       "      <td>Dream</td>\n",
       "      <td>49.6</td>\n",
       "      <td>18.2</td>\n",
       "      <td>193.0</td>\n",
       "      <td>3775.0</td>\n",
       "      <td>male</td>\n",
       "      <td>2009</td>\n",
       "    </tr>\n",
       "    <tr>\n",
       "      <th>342</th>\n",
       "      <td>343</td>\n",
       "      <td>Chinstrap</td>\n",
       "      <td>Dream</td>\n",
       "      <td>50.8</td>\n",
       "      <td>19.0</td>\n",
       "      <td>210.0</td>\n",
       "      <td>4100.0</td>\n",
       "      <td>male</td>\n",
       "      <td>2009</td>\n",
       "    </tr>\n",
       "    <tr>\n",
       "      <th>343</th>\n",
       "      <td>344</td>\n",
       "      <td>Chinstrap</td>\n",
       "      <td>Dream</td>\n",
       "      <td>50.2</td>\n",
       "      <td>18.7</td>\n",
       "      <td>198.0</td>\n",
       "      <td>3775.0</td>\n",
       "      <td>female</td>\n",
       "      <td>2009</td>\n",
       "    </tr>\n",
       "  </tbody>\n",
       "</table>\n",
       "</div>"
      ],
      "text/plain": [
       "     rowid    species island  bill_length_mm  bill_depth_mm  \\\n",
       "334    335  Chinstrap  Dream            50.2           18.8   \n",
       "335    336  Chinstrap  Dream            45.6           19.4   \n",
       "336    337  Chinstrap  Dream            51.9           19.5   \n",
       "337    338  Chinstrap  Dream            46.8           16.5   \n",
       "338    339  Chinstrap  Dream            45.7           17.0   \n",
       "339    340  Chinstrap  Dream            55.8           19.8   \n",
       "340    341  Chinstrap  Dream            43.5           18.1   \n",
       "341    342  Chinstrap  Dream            49.6           18.2   \n",
       "342    343  Chinstrap  Dream            50.8           19.0   \n",
       "343    344  Chinstrap  Dream            50.2           18.7   \n",
       "\n",
       "     flipper_length_mm  body_mass_g     sex  year  \n",
       "334              202.0       3800.0    male  2009  \n",
       "335              194.0       3525.0  female  2009  \n",
       "336              206.0       3950.0    male  2009  \n",
       "337              189.0       3650.0  female  2009  \n",
       "338              195.0       3650.0  female  2009  \n",
       "339              207.0       4000.0    male  2009  \n",
       "340              202.0       3400.0  female  2009  \n",
       "341              193.0       3775.0    male  2009  \n",
       "342              210.0       4100.0    male  2009  \n",
       "343              198.0       3775.0  female  2009  "
      ]
     },
     "metadata": {},
     "output_type": "display_data"
    }
   ],
   "source": [
    "#hiển thị 10 dòng cuối\n",
    "display(df.tail(10))"
   ]
  },
  {
   "cell_type": "markdown",
   "id": "997a8fef",
   "metadata": {},
   "source": [
    "### B2) Thuộc tính định tính vs định lượng (1đ)"
   ]
  },
  {
   "cell_type": "code",
   "execution_count": 17,
   "id": "d87a5d8b",
   "metadata": {},
   "outputs": [
    {
     "name": "stdout",
     "output_type": "stream",
     "text": [
      "Định tính: ['species', 'island', 'sex']\n",
      "Định lượng: ['rowid', 'bill_length_mm', 'bill_depth_mm', 'flipper_length_mm', 'body_mass_g', 'year']\n"
     ]
    }
   ],
   "source": [
    "\n",
    "qual_cols = df.select_dtypes(include= [\"object\", 'category']).columns.tolist()\n",
    "quant_cols = df.select_dtypes(include=[\"number\"]).columns.tolist()\n",
    "print(\"Định tính:\", qual_cols)\n",
    "print(\"Định lượng:\", quant_cols)\n"
   ]
  },
  {
   "cell_type": "markdown",
   "id": "64c02ecb",
   "metadata": {},
   "source": [
    "### B3) Thiếu dữ liệu & trùng lặp → xoá và kiểm tra lại (2đ)"
   ]
  },
  {
   "cell_type": "code",
   "execution_count": 18,
   "id": "7cd34e59",
   "metadata": {},
   "outputs": [
    {
     "name": "stdout",
     "output_type": "stream",
     "text": [
      "Thiếu dữ liệu ban đầu:\n",
      " rowid                 0\n",
      "species               0\n",
      "island                0\n",
      "bill_length_mm        2\n",
      "bill_depth_mm         2\n",
      "flipper_length_mm     2\n",
      "body_mass_g           2\n",
      "sex                  11\n",
      "year                  0\n",
      "dtype: int64\n",
      "Số dòng trùng lặp ban đầu: 0\n",
      "\n",
      "Sau xử lý:\n",
      "Thiếu dữ liệu (df_clean):\n",
      " rowid                0\n",
      "species              0\n",
      "island               0\n",
      "bill_length_mm       0\n",
      "bill_depth_mm        0\n",
      "flipper_length_mm    0\n",
      "body_mass_g          0\n",
      "sex                  9\n",
      "year                 0\n",
      "dtype: int64\n",
      "Trùng lặp (df_clean): 0\n",
      "Kích thước mới: (342, 9)\n"
     ]
    }
   ],
   "source": [
    "\n",
    "print(\"Thiếu dữ liệu ban đầu:\\n\", df.isna().sum())\n",
    "print(\"Số dòng trùng lặp ban đầu:\", df.duplicated().sum())\n",
    "\n",
    "df_clean = df.dropna(subset=[\"species\",\"island\",\"bill_length_mm\",\"bill_depth_mm\",\"flipper_length_mm\",\"body_mass_g\"]).drop_duplicates()\n",
    "\n",
    "print(\"\\nSau xử lý:\")\n",
    "print(\"Thiếu dữ liệu (df_clean):\\n\", df_clean.isna().sum())\n",
    "print(\"Trùng lặp (df_clean):\", df_clean.duplicated().sum())\n",
    "print(\"Kích thước mới:\", df_clean.shape)\n"
   ]
  },
  {
   "cell_type": "markdown",
   "id": "c9dc137c",
   "metadata": {},
   "source": [
    "### B4) Đặc trưng định lượng (1đ)"
   ]
  },
  {
   "cell_type": "code",
   "execution_count": 19,
   "id": "4ea5bc6e",
   "metadata": {},
   "outputs": [
    {
     "data": {
      "text/html": [
       "<div>\n",
       "<style scoped>\n",
       "    .dataframe tbody tr th:only-of-type {\n",
       "        vertical-align: middle;\n",
       "    }\n",
       "\n",
       "    .dataframe tbody tr th {\n",
       "        vertical-align: top;\n",
       "    }\n",
       "\n",
       "    .dataframe thead th {\n",
       "        text-align: right;\n",
       "    }\n",
       "</style>\n",
       "<table border=\"1\" class=\"dataframe\">\n",
       "  <thead>\n",
       "    <tr style=\"text-align: right;\">\n",
       "      <th></th>\n",
       "      <th>mean</th>\n",
       "      <th>median</th>\n",
       "      <th>std</th>\n",
       "      <th>min</th>\n",
       "      <th>max</th>\n",
       "    </tr>\n",
       "  </thead>\n",
       "  <tbody>\n",
       "    <tr>\n",
       "      <th>rowid</th>\n",
       "      <td>172.701754</td>\n",
       "      <td>172.50</td>\n",
       "      <td>99.174948</td>\n",
       "      <td>1.0</td>\n",
       "      <td>344.0</td>\n",
       "    </tr>\n",
       "    <tr>\n",
       "      <th>bill_length_mm</th>\n",
       "      <td>43.921930</td>\n",
       "      <td>44.45</td>\n",
       "      <td>5.459584</td>\n",
       "      <td>32.1</td>\n",
       "      <td>59.6</td>\n",
       "    </tr>\n",
       "    <tr>\n",
       "      <th>bill_depth_mm</th>\n",
       "      <td>17.151170</td>\n",
       "      <td>17.30</td>\n",
       "      <td>1.974793</td>\n",
       "      <td>13.1</td>\n",
       "      <td>21.5</td>\n",
       "    </tr>\n",
       "    <tr>\n",
       "      <th>flipper_length_mm</th>\n",
       "      <td>200.915205</td>\n",
       "      <td>197.00</td>\n",
       "      <td>14.061714</td>\n",
       "      <td>172.0</td>\n",
       "      <td>231.0</td>\n",
       "    </tr>\n",
       "    <tr>\n",
       "      <th>body_mass_g</th>\n",
       "      <td>4201.754386</td>\n",
       "      <td>4050.00</td>\n",
       "      <td>801.954536</td>\n",
       "      <td>2700.0</td>\n",
       "      <td>6300.0</td>\n",
       "    </tr>\n",
       "    <tr>\n",
       "      <th>year</th>\n",
       "      <td>2008.029240</td>\n",
       "      <td>2008.00</td>\n",
       "      <td>0.817168</td>\n",
       "      <td>2007.0</td>\n",
       "      <td>2009.0</td>\n",
       "    </tr>\n",
       "  </tbody>\n",
       "</table>\n",
       "</div>"
      ],
      "text/plain": [
       "                          mean   median         std     min     max\n",
       "rowid               172.701754   172.50   99.174948     1.0   344.0\n",
       "bill_length_mm       43.921930    44.45    5.459584    32.1    59.6\n",
       "bill_depth_mm        17.151170    17.30    1.974793    13.1    21.5\n",
       "flipper_length_mm   200.915205   197.00   14.061714   172.0   231.0\n",
       "body_mass_g        4201.754386  4050.00  801.954536  2700.0  6300.0\n",
       "year               2008.029240  2008.00    0.817168  2007.0  2009.0"
      ]
     },
     "execution_count": 19,
     "metadata": {},
     "output_type": "execute_result"
    }
   ],
   "source": [
    "\n",
    "desc = df_clean.select_dtypes(include=[\"number\"]).agg([\"mean\",\"median\",\"std\",\"min\",\"max\"]).T\n",
    "desc\n"
   ]
  },
  {
   "cell_type": "markdown",
   "id": "ef359982",
   "metadata": {},
   "source": [
    "\n",
    "### B5) Boxplot và outlier (1đ)  \n",
    "Trong Penguins không có `Price`; thay bằng `body_mass_g` và dùng IQR để xác định outlier.\n"
   ]
  },
  {
   "cell_type": "code",
   "execution_count": 21,
   "id": "960908a4-c33a-4d6c-bb5d-c9c3dcbc87c5",
   "metadata": {},
   "outputs": [
    {
     "data": {
      "image/png": "[encoded data removed]",
      "text/plain": [
       "<Figure size 640x480 with 1 Axes>"
      ]
     },
     "metadata": {},
     "output_type": "display_data"
    },
    {
     "name": "stdout",
     "output_type": "stream",
     "text": [
      "Ngưỡng outlier: < 1750.0 hoặc > 6550.0\n",
      "Số outlier: 0\n"
     ]
    }
   ],
   "source": [
    "col = \"body_mass_g\"\n",
    "vals = df_clean[col].dropna()\n",
    "\n",
    "plt.figure()\n",
    "# <<< ĐÃ SỬA LỖI CẢNH BÁO >>>\n",
    "plt.boxplot(vals, vert=True, tick_labels=[col]) \n",
    "plt.title(f\"Boxplot: {col}\")\n",
    "plt.show()\n",
    "\n",
    "Q1 = vals.quantile(0.25); Q3 = vals.quantile(0.75)\n",
    "IQR = Q3 - Q1\n",
    "low, high = Q1 - 1.5*IQR, Q3 + 1.5*IQR\n",
    "outliers = vals[(vals < low) | (vals > high)]\n",
    "print(f\"Ngưỡng outlier: < {low:.1f} hoặc > {high:.1f}\")\n",
    "print(\"Số outlier:\", outliers.shape[0])"
   ]
  },
  {
   "cell_type": "code",
   "execution_count": null,
   "id": "17a88fb0-24f8-42de-a7c3-46b147d0bf77",
   "metadata": {},
   "outputs": [],
   "source": []
  },
  {
   "cell_type": "code",
   "execution_count": 22,
   "id": "c9ccdca0-0470-416e-8486-56435f38fdd6",
   "metadata": {},
   "outputs": [
    {
     "name": "stdout",
     "output_type": "stream",
     "text": [
      "Tỷ lệ giới tính (%):\n",
      "sex\n",
      "male      50.45045\n",
      "female    49.54955\n",
      "Name: proportion, dtype: float64\n",
      "\n",
      "Tỷ lệ các loài (%):\n",
      "species\n",
      "Adelie       44.186047\n",
      "Gentoo       36.046512\n",
      "Chinstrap    19.767442\n",
      "Name: proportion, dtype: float64\n",
      "\n",
      "Đặc trưng thống kê của bill_length_mm:\n",
      "mean      43.921930\n",
      "median    44.450000\n",
      "std        5.459584\n",
      "Name: bill_length_mm, dtype: float64\n",
      "\n",
      "Trọng lượng trung bình theo giới tính:\n",
      "sex\n",
      "female    3862.272727\n",
      "male      4545.684524\n",
      "Name: body_mass_g, dtype: float64\n",
      "\n",
      "Trọng lượng trung bình theo từng loài:\n",
      "species\n",
      "Adelie       3700.662252\n",
      "Chinstrap    3733.088235\n",
      "Gentoo       5076.016260\n",
      "Name: body_mass_g, dtype: float64\n",
      "\n",
      "Trung bình độ dài cánh (flipper_length_mm) theo từng đảo:\n",
      "island\n",
      "Biscoe       209.706587\n",
      "Dream        193.072581\n",
      "Torgersen    191.196078\n",
      "Name: flipper_length_mm, dtype: float64\n",
      "\n",
      "So sánh độ dài cánh giữa các giới tính:\n",
      "              mean  median        std  count\n",
      "sex                                         \n",
      "female  197.363636   193.0  12.500776    165\n",
      "male    204.505952   200.5  14.547876    168\n",
      "\n",
      "Tỷ lệ chim có trọng lượng > 5000g: 17.73%\n",
      "\n",
      "Ma trận tương quan:\n",
      "                      rowid  bill_length_mm  bill_depth_mm  flipper_length_mm  \\\n",
      "rowid              1.000000        0.766039      -0.259563           0.455372   \n",
      "bill_length_mm     0.766039        1.000000      -0.235053           0.656181   \n",
      "bill_depth_mm     -0.259563       -0.235053       1.000000          -0.583851   \n",
      "flipper_length_mm  0.455372        0.656181      -0.583851           1.000000   \n",
      "body_mass_g        0.275493        0.595110      -0.471916           0.871202   \n",
      "year               0.339103        0.054545      -0.060354           0.169675   \n",
      "\n",
      "                   body_mass_g      year  \n",
      "rowid                 0.275493  0.339103  \n",
      "bill_length_mm        0.595110  0.054545  \n",
      "bill_depth_mm        -0.471916 -0.060354  \n",
      "flipper_length_mm     0.871202  0.169675  \n",
      "body_mass_g           1.000000  0.042209  \n",
      "year                  0.042209  1.000000  \n"
     ]
    }
   ],
   "source": [
    "# --- CÂU 1: Tính tỷ lệ chim đực và cái trong toàn bộ dữ liệu\n",
    "sex_ratio = df['sex'].value_counts(normalize=True) * 100\n",
    "print(\"Tỷ lệ giới tính (%):\")\n",
    "print(sex_ratio)\n",
    "\n",
    "# --- CÂU 2: Tính tỷ lệ từng loài chim (Adelie, Gentoo, Chinstrap)\n",
    "species_ratio = df['species'].value_counts(normalize=True) * 100\n",
    "print(\"\\nTỷ lệ các loài (%):\")\n",
    "print(species_ratio)\n",
    "\n",
    "# --- CÂU 3: Trung bình, trung vị, độ lệch chuẩn của độ dài mỏ\n",
    "bill_stats = df['bill_length_mm'].agg(['mean','median','std'])\n",
    "print(\"\\nĐặc trưng thống kê của bill_length_mm:\")\n",
    "print(bill_stats)\n",
    "\n",
    "# --- CÂU 4: Trung bình trọng lượng theo giới tính\n",
    "avg_by_sex = df.groupby('sex')['body_mass_g'].mean()\n",
    "print(\"\\nTrọng lượng trung bình theo giới tính:\")\n",
    "print(avg_by_sex)\n",
    "\n",
    "# --- CÂU 5: Trung bình trọng lượng theo từng loài\n",
    "avg_by_species = df.groupby('species')['body_mass_g'].mean()\n",
    "print(\"\\nTrọng lượng trung bình theo từng loài:\")\n",
    "print(avg_by_species)\n",
    "\n",
    "# --- CÂU 6: Trung bình độ dài cánh theo từng đảo\n",
    "avg_flipper_by_island = df.groupby('island')['flipper_length_mm'].mean()\n",
    "print(\"\\nTrung bình độ dài cánh (flipper_length_mm) theo từng đảo:\")\n",
    "print(avg_flipper_by_island)\n",
    "\n",
    "# --- CÂU 7: So sánh trung bình độ dài cánh giữa chim đực và cái\n",
    "flipper_compare = df.groupby('sex')['flipper_length_mm'].agg(['mean','median','std','count'])\n",
    "print(\"\\nSo sánh độ dài cánh giữa các giới tính:\")\n",
    "print(flipper_compare)\n",
    "\n",
    "# --- CÂU 8: Tỷ lệ chim có trọng lượng trên 5000g\n",
    "ratio_over_5000 = (df['body_mass_g'] > 5000).mean() * 100\n",
    "print(f\"\\nTỷ lệ chim có trọng lượng > 5000g: {ratio_over_5000:.2f}%\")\n",
    "\n",
    "# --- CÂU 9: Tính hệ số tương quan giữa các biến định lượng\n",
    "numeric_cols = df.select_dtypes(include='number')\n",
    "corr = numeric_cols.corr()\n",
    "print(\"\\nMa trận tương quan:\")\n",
    "print(corr)\n"
   ]
  },
  {
   "cell_type": "code",
   "execution_count": 23,
   "id": "0b0eda90-d20b-485d-8b96-9fca3a7e3381",
   "metadata": {},
   "outputs": [
    {
     "name": "stdout",
     "output_type": "stream",
     "text": [
      "Tỷ lệ giới tính (%):\n",
      "sex\n",
      "male      50.45045\n",
      "female    49.54955\n",
      "Name: proportion, dtype: float64\n",
      "👉 male chiếm tỷ lệ cao hơn (50.5% > 49.5%)\n"
     ]
    }
   ],
   "source": [
    "# 1. So sánh tỷ lệ giới tính (Nam vs Nữ)\n",
    "sex_counts = df['sex'].value_counts(normalize=True) * 100\n",
    "print(\"Tỷ lệ giới tính (%):\")\n",
    "print(sex_counts)\n",
    "\n",
    "if sex_counts.iloc[0] > sex_counts.iloc[1]:\n",
    "    print(f\"👉 {sex_counts.index[0]} chiếm tỷ lệ cao hơn ({sex_counts.iloc[0]:.1f}% > {sex_counts.iloc[1]:.1f}%)\")\n",
    "elif sex_counts.iloc[0] < sex_counts.iloc[1]:\n",
    "    print(f\"👉 {sex_counts.index[1]} chiếm tỷ lệ cao hơn ({sex_counts.iloc[1]:.1f}% > {sex_counts.iloc[0]:.1f}%)\")\n",
    "else:\n",
    "    print(\"👉 Hai giới tính có tỷ lệ bằng nhau.\")\n"
   ]
  },
  {
   "cell_type": "code",
   "execution_count": 28,
   "id": "453b982a-e2f0-4f61-9fd9-bfdf466950f3",
   "metadata": {},
   "outputs": [
    {
     "name": "stdout",
     "output_type": "stream",
     "text": [
      "Chuẩn hóa cột sex xong. Phân bố:\n",
      "sex\n",
      "MALE      168\n",
      "FEMALE    165\n",
      "Name: count, dtype: int64\n"
     ]
    }
   ],
   "source": [
    "# 🔧 Tiền xử lý an toàn cho `sex` (tránh NaN khi so sánh)\n",
    "if 'sex' in df.columns:\n",
    "    df['sex'] = df['sex'].astype(str).str.strip().str.upper()\n",
    "    # Giữ lại chỉ MALE/FEMALE\n",
    "    df = df[df['sex'].isin(['MALE','FEMALE'])]\n",
    "    print('Chuẩn hóa cột sex xong. Phân bố:')\n",
    "    print(df['sex'].value_counts())\n"
   ]
  },
  {
   "cell_type": "code",
   "execution_count": 29,
   "id": "43a5ea2f-d12a-498b-913c-7384dcecd2ab",
   "metadata": {},
   "outputs": [
    {
     "name": "stdout",
     "output_type": "stream",
     "text": [
      "Trọng lượng TB chim đực: 4545.68 g\n",
      "Trọng lượng TB chim cái: 3862.27 g\n",
      "👉 Chim đực nặng hơn trung bình so với chim cái.\n"
     ]
    }
   ],
   "source": [
    "# So sánh trọng lượng trung bình giữa chim đực và cái\n",
    "mean_male = df.loc[df['sex']=='MALE', 'body_mass_g'].mean()\n",
    "mean_female = df.loc[df['sex']=='FEMALE', 'body_mass_g'].mean()\n",
    "\n",
    "print(f\"Trọng lượng TB chim đực: {mean_male:.2f} g\")\n",
    "print(f\"Trọng lượng TB chim cái: {mean_female:.2f} g\")\n",
    "\n",
    "if mean_male > mean_female:\n",
    "    print(\"👉 Chim đực nặng hơn trung bình so với chim cái.\")\n",
    "elif mean_male < mean_female:\n",
    "    print(\"👉 Chim cái nặng hơn trung bình so với chim đực.\")\n",
    "else:\n",
    "    print(\"👉 Trọng lượng trung bình của hai giới tính bằng nhau.\")\n"
   ]
  },
  {
   "cell_type": "code",
   "execution_count": null,
   "id": "866cd709-8c1d-48e3-bf88-edc25b217e76",
   "metadata": {},
   "outputs": [],
   "source": [
    "\n"
   ]
  },
  {
   "cell_type": "markdown",
   "id": "79064fad-c271-47e0-9d61-7b1a49981071",
   "metadata": {},
   "source": [
    "## B) Xác suất & Phân vị — điền số theo ngữ cảnh đề\n",
    "- **Nhị thức**: `binom.pmf/cdf/ppf`\n",
    "- **Poisson**: `poisson.pmf/cdf/ppf`\n",
    "- **Chuẩn**: `norm.cdf/ppf`"
   ]
  },
  {
   "cell_type": "code",
   "execution_count": 2,
   "id": "dc155a30-be95-4d61-8305-cc27bcda9963",
   "metadata": {},
   "outputs": [
    {
     "name": "stdout",
     "output_type": "stream",
     "text": [
      "[Binomial] P(X=k)= 0.2668279319999998   P(X<=k)= 0.6496107184000002   k_90= 5.0\n",
      "[Poisson] P(X<=2)= 0.061968804416658946   P(X>=3)= 0.938031195583341   x_95%= 10.0\n",
      "[Normal] P(X<120)= 0.9087887802741321   P(85<X<115)= 0.6826894921370859   x_90%= 119.22327348316901\n"
     ]
    }
   ],
   "source": [
    "from scipy.stats import binom, poisson, norm\n",
    "# Binomial — TODO: điền n, p, k phù hợp ngữ cảnh\n",
    "n, p, k = 10, 0.3, 3\n",
    "print('[Binomial] P(X=k)=', binom.pmf(k,n,p), '  P(X<=k)=', binom.cdf(k,n,p), '  k_90=', binom.ppf(0.90,n,p))\n",
    "\n",
    "# Poisson — TODO: điền λ phù hợp\n",
    "lam = 6\n",
    "print('[Poisson] P(X<=2)=', poisson.cdf(2,lam), '  P(X>=3)=', 1-poisson.cdf(2,lam), '  x_95%=', poisson.ppf(0.95,lam))\n",
    "\n",
    "# Normal — TODO: điền μ, σ\n",
    "mu, sigma = 100, 15\n",
    "print('[Normal] P(X<120)=', norm.cdf(120,mu,sigma), '  P(85<X<115)=', norm.cdf(115,mu,sigma)-norm.cdf(85,mu,sigma), '  x_90%=', norm.ppf(0.90,mu,sigma))\n"
   ]
  },
  {
   "cell_type": "markdown",
   "id": "c63d0059-9e4e-415c-89c6-ed673d5e85b2",
   "metadata": {},
   "source": [
    "## C.1 Nhị thức (Binomial)\n",
    "\n",
    "Ngữ cảnh mẫu: “Trong một mẫu n cá thể, xác suất một cá thể có tính chất A là p. Tính P(X = k), P(X ≤ k), phân vị 90%…”\n",
    "\n",
    "Công cụ: binom.pmf (xác suất đúng k), binom.cdf (tích lũy), binom.ppf (phân vị)."
   ]
  },
  {
   "cell_type": "code",
   "execution_count": 3,
   "id": "0381fc0f-90a2-4906-bcc0-10ce4c8a7942",
   "metadata": {},
   "outputs": [
    {
     "name": "stdout",
     "output_type": "stream",
     "text": [
      "Binomial(n, p)\n",
      "P(X = k)   = 0.18440118638393138\n",
      "P(X <= k)  = 0.6010266046031639\n",
      "P(X >= k)  = 0.5833745817807674\n",
      "Phân vị 90% (k sao cho P(X <= k) >= 0.90): 10.0\n"
     ]
    }
   ],
   "source": [
    "from scipy.stats import binom\n",
    "\n",
    "# TODO: điền tham số theo đề\n",
    "n = 20      # cỡ mẫu\n",
    "p = 0.35    # xác suất thành công của 1 cá thể\n",
    "k = 7       # số thành công quan tâm\n",
    "\n",
    "print(\"Binomial(n, p)\")\n",
    "print(\"P(X = k)   =\", binom.pmf(k, n, p))\n",
    "print(\"P(X <= k)  =\", binom.cdf(k, n, p))\n",
    "print(\"P(X >= k)  =\", 1 - binom.cdf(k-1, n, p))\n",
    "print(\"Phân vị 90% (k sao cho P(X <= k) >= 0.90):\", binom.ppf(0.90, n, p))\n"
   ]
  },
  {
   "cell_type": "code",
   "execution_count": 12,
   "id": "a266780b-3f7d-428a-8f4f-726324e4f5ed",
   "metadata": {},
   "outputs": [
    {
     "name": "stdout",
     "output_type": "stream",
     "text": [
      "Dùng p̂ từ dữ liệu: 0.17732558139534885\n",
      "P(X = k) với p̂   = 0.018622852719280412\n"
     ]
    }
   ],
   "source": [
    "# Ví dụ: A = \"chim có body_mass_g > 5000\"\n",
    "p_hat = (df['body_mass_g'] > 5000).mean()\n",
    "n = 30; k = 10\n",
    "print(\"Dùng p̂ từ dữ liệu:\", p_hat)\n",
    "print(\"P(X = k) với p̂   =\", binom.pmf(k, n, p_hat))\n"
   ]
  },
  {
   "cell_type": "markdown",
   "id": "604e2cd6-c614-49c9-b2cd-5c2b8c180812",
   "metadata": {},
   "source": [
    "Ghi nhớ: Nếu đề yêu cầu xấp xỉ chuẩn cho Nhị thức, dùng z với\n",
    "μ = n p và σ = √(n p (1-p)), kèm continuity correction (dịch 0.5)."
   ]
  },
  {
   "cell_type": "markdown",
   "id": "d30d830f-0743-4e95-8f9c-9974e6dd40f5",
   "metadata": {},
   "source": [
    "## C.2 Poisson"
   ]
  },
  {
   "cell_type": "markdown",
   "id": "b3e3957f-4df6-4726-8cca-1efa7cdac4c2",
   "metadata": {},
   "source": [
    "- Ngữ cảnh mẫu: “Số sự kiện hiếm trong một khoảng thời gian/khu vực, trung bình λ.”\n",
    "\n",
    "- Công cụ: poisson.pmf, poisson.cdf, poisson.ppf."
   ]
  },
  {
   "cell_type": "code",
   "execution_count": 13,
   "id": "34d51a76-169f-40b0-b83b-1b367dc6f540",
   "metadata": {},
   "outputs": [
    {
     "name": "stdout",
     "output_type": "stream",
     "text": [
      "Poisson(λ)\n",
      "P(X = 2)   = 0.04461753917999444\n",
      "P(X <= 2)  = 0.061968804416658946\n",
      "P(X >= 3)  = 0.938031195583341\n",
      "Phân vị 95%: 10.0\n"
     ]
    }
   ],
   "source": [
    "from scipy.stats import poisson\n",
    "\n",
    "# TODO: điền λ theo đề\n",
    "lam = 6   # số kỳ vọng (trung bình) trong khoảng quan sát\n",
    "\n",
    "print(\"Poisson(λ)\")\n",
    "print(\"P(X = 2)   =\", poisson.pmf(2, lam))\n",
    "print(\"P(X <= 2)  =\", poisson.cdf(2, lam))\n",
    "print(\"P(X >= 3)  =\", 1 - poisson.cdf(2, lam))\n",
    "print(\"Phân vị 95%:\", poisson.ppf(0.95, lam))\n"
   ]
  },
  {
   "cell_type": "markdown",
   "id": "746509ce-4ac9-4303-9d1b-18963fd93740",
   "metadata": {},
   "source": [
    "Mẹo: Khi λ lớn (≈≥10), Poisson có thể xấp xỉ chuẩn với μ=λ, σ=√λ."
   ]
  },
  {
   "cell_type": "markdown",
   "id": "a5280b10-f79b-4e7b-b929-bc385b5b684e",
   "metadata": {},
   "source": [
    "## C.3 Chuẩn (Normal)"
   ]
  },
  {
   "cell_type": "markdown",
   "id": "2e390b30-024a-46e4-adb7-d3edd665d08f",
   "metadata": {},
   "source": [
    "- Ngữ cảnh mẫu: “X ~ N(μ, σ). Tính P(X < a), P(a < X < b), phân vị q%…”\n",
    "\n",
    "- Công cụ: norm.cdf, norm.ppf."
   ]
  },
  {
   "cell_type": "code",
   "execution_count": 14,
   "id": "1e0fb1ad-76db-4eec-adfb-227eaf20d5f6",
   "metadata": {},
   "outputs": [
    {
     "name": "stdout",
     "output_type": "stream",
     "text": [
      "Normal(μ, σ)\n",
      "P(X < a)        = 0.7161454169013237\n",
      "P(a < X < b)    = 0.20729085758884158\n",
      "Phân vị 90%     = 4448.54304794061\n"
     ]
    }
   ],
   "source": [
    "from scipy.stats import norm\n",
    "\n",
    "# TODO: điền μ, σ theo đề\n",
    "mu = 4000     # trung bình\n",
    "sigma = 350   # độ lệch chuẩn\n",
    "\n",
    "# ví dụ câu hỏi\n",
    "a, b = 4200, 4500\n",
    "\n",
    "print(\"Normal(μ, σ)\")\n",
    "print(\"P(X < a)        =\", norm.cdf(a, mu, sigma))\n",
    "print(\"P(a < X < b)    =\", norm.cdf(b, mu, sigma) - norm.cdf(a, mu, sigma))\n",
    "print(\"Phân vị 90%     =\", norm.ppf(0.90, mu, sigma))\n"
   ]
  },
  {
   "cell_type": "code",
   "execution_count": 15,
   "id": "c5913b09-e1a8-4d03-bf4a-07f03f470550",
   "metadata": {},
   "outputs": [
    {
     "name": "stdout",
     "output_type": "stream",
     "text": [
      "Ước lượng từ Gentoo: μ̂ = 5076.0   σ̂ = 504.1\n",
      "P(X < 5000) ~ 0.44007023925337657\n"
     ]
    }
   ],
   "source": [
    "# Ví dụ lấy X = body_mass_g (nếu giả định ~ chuẩn trong một loài, như Gentoo)\n",
    "gentoo_mass = df.loc[df['species']=='Gentoo', 'body_mass_g'].dropna()\n",
    "mu_hat  = gentoo_mass.mean()\n",
    "sd_hat  = gentoo_mass.std(ddof=1)\n",
    "\n",
    "print(\"Ước lượng từ Gentoo: μ̂ =\", round(mu_hat,1), \"  σ̂ =\", round(sd_hat,1))\n",
    "print(\"P(X < 5000) ~\", norm.cdf(5000, mu_hat, sd_hat))\n"
   ]
  },
  {
   "cell_type": "markdown",
   "id": "68e1eaee-1db3-4097-8ee1-5ee1cd585a1a",
   "metadata": {},
   "source": [
    "## C.4 Khoảng tin cậy 90% cho tỉ lệ (dạng hay gặp trong đề)"
   ]
  },
  {
   "cell_type": "markdown",
   "id": "f240e618-ea1e-4daf-81ba-3f80978e68f0",
   "metadata": {},
   "source": [
    "**Dùng z = 1.645 cho 90% CI.**\n",
    "\n",
    "- alpha = ( 100 - C )%\n",
    "- alpha/2 = ( 100 - C )/200\n",
    "- Z của alpha/2 = 1 - alpha/2:  tính bằng công thức bên dưới: \n",
    "  => mode 7 -> 3 điền vùng 1 - alpha /2 =>  điền vùng là 1 - alpha/2\n",
    "  \n",
    "   =>  chỉ áp dụng khi tính z\n",
    "  "
   ]
  },
  {
   "cell_type": "code",
   "execution_count": 17,
   "id": "583ef2d8-00e5-4a94-baa3-6221595f4861",
   "metadata": {},
   "outputs": [
    {
     "name": "stdout",
     "output_type": "stream",
     "text": [
      "CI 90% cho p: p̂=0.360 -> (0.248, 0.472)\n"
     ]
    }
   ],
   "source": [
    "# TODO: điền x, n\n",
    "x = 18     # số thành công quan sát\n",
    "n = 50     # cỡ mẫu\n",
    "p_hat = x / n\n",
    "z = 1.645\n",
    "se = (p_hat * (1 - p_hat) / n) ** 0.5\n",
    "\n",
    "lo, hi = p_hat - z*se, p_hat + z*se\n",
    "print(f\"CI 90% cho p: p̂={p_hat:.3f} -> ({lo:.3f}, {hi:.3f})\")\n"
   ]
  },
  {
   "cell_type": "markdown",
   "id": "e12ae7ce-3d41-400c-b982-7dd9079312db",
   "metadata": {},
   "source": [
    "## C.5 Một mẫu mô phỏng “kiểu thi” để bạn thử nhanh"
   ]
  },
  {
   "cell_type": "markdown",
   "id": "2ff3d0d2-3624-4eca-991f-0292b87c8ce7",
   "metadata": {},
   "source": [
    "Giả sử đề hỏi:\n",
    "\n",
    "“Một con Gentoo bất kỳ nặng > 5000 g có xác suất bao nhiêu?” (Normal)\n",
    "\n",
    "“Trong 20 con được chọn, có ≥ 8 con nặng > 5000 g?” (Binomial, dùng p̂)\n",
    "\n",
    "“Trung bình số ‘sự kiện hiếm’ λ=2.5; xác suất ≥ 4?” (Poisson)"
   ]
  },
  {
   "cell_type": "code",
   "execution_count": 18,
   "id": "619d8a95-34e7-4d8e-97c5-c9859ec4dfc0",
   "metadata": {},
   "outputs": [
    {
     "name": "stdout",
     "output_type": "stream",
     "text": [
      "Gentoo ~ N(mu, sigma) ≈ 5076.0 504.1\n",
      "P(Gentoo mass > 5000) ≈ 0.5599297607466234\n",
      "p̂ (Gentoo >5000) = 0.496\n",
      "P(X >= 8) = 0.8604390980578158\n",
      "P_Poisson(X >= 4) = 0.24242386686693385\n"
     ]
    }
   ],
   "source": [
    "from scipy.stats import binom, poisson, norm\n",
    "\n",
    "# 1) Normal với Gentoo\n",
    "gentoo = df[df['species']=='Gentoo']['body_mass_g'].dropna()\n",
    "mu_g, sd_g = gentoo.mean(), gentoo.std(ddof=1)\n",
    "print(\"Gentoo ~ N(mu, sigma) ≈\", round(mu_g,1), round(sd_g,1))\n",
    "print(\"P(Gentoo mass > 5000) ≈\", 1 - norm.cdf(5000, mu_g, sd_g))\n",
    "\n",
    "# 2) Binomial với p̂ từ dữ liệu\n",
    "p_hat = (gentoo > 5000).mean()\n",
    "n, k = 20, 8\n",
    "print(f\"p̂ (Gentoo >5000) = {p_hat:.3f}\")\n",
    "print(\"P(X >= 8) =\", 1 - binom.cdf(k-1, n, p_hat))\n",
    "\n",
    "# 3) Poisson\n",
    "lam = 2.5\n",
    "print(\"P_Poisson(X >= 4) =\", 1 - poisson.cdf(3, lam))\n"
   ]
  },
  {
   "cell_type": "code",
   "execution_count": null,
   "id": "c4b2817a-dd71-4d5e-ba0e-a2dca0c033f6",
   "metadata": {},
   "outputs": [],
   "source": []
  }
 ],
 "metadata": {
  "kernelspec": {
   "display_name": "Python [conda env:base] *",
   "language": "python",
   "name": "conda-base-py"
  },
  "language_info": {
   "codemirror_mode": {
    "name": "ipython",
    "version": 3
   },
   "file_extension": ".py",
   "mimetype": "text/x-python",
   "name": "python",
   "nbconvert_exporter": "python",
   "pygments_lexer": "ipython3",
   "version": "3.13.5"
  }
 },
 "nbformat": 4,
 "nbformat_minor": 5
}
