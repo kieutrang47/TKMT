{
 "cells": [
  {
   "cell_type": "markdown",
   "id": "22696ee3-24a2-4412-9d5d-7194ff3ea1c2",
   "metadata": {},
   "source": [
    "# 🧮 BÀI KIỂM TRA SỐ 2 – FRESH15 + PHÂN PHỐI POISSON"
   ]
  },
  {
   "cell_type": "code",
   "execution_count": 2,
   "id": "0e55a760-07db-4236-aee8-d0ed17ffde64",
   "metadata": {},
   "outputs": [
    {
     "name": "stdout",
     "output_type": "stream",
     "text": [
      "✅ Kích thước dữ liệu: (67, 5)\n"
     ]
    },
    {
     "data": {
      "text/html": [
       "<div>\n",
       "<style scoped>\n",
       "    .dataframe tbody tr th:only-of-type {\n",
       "        vertical-align: middle;\n",
       "    }\n",
       "\n",
       "    .dataframe tbody tr th {\n",
       "        vertical-align: top;\n",
       "    }\n",
       "\n",
       "    .dataframe thead th {\n",
       "        text-align: right;\n",
       "    }\n",
       "</style>\n",
       "<table border=\"1\" class=\"dataframe\">\n",
       "  <thead>\n",
       "    <tr style=\"text-align: right;\">\n",
       "      <th></th>\n",
       "      <th>SEX</th>\n",
       "      <th>WTSEP</th>\n",
       "      <th>WTAPR</th>\n",
       "      <th>BMISP</th>\n",
       "      <th>BMIAP</th>\n",
       "    </tr>\n",
       "  </thead>\n",
       "  <tbody>\n",
       "    <tr>\n",
       "      <th>0</th>\n",
       "      <td>M</td>\n",
       "      <td>72</td>\n",
       "      <td>59</td>\n",
       "      <td>22.02</td>\n",
       "      <td>18.14</td>\n",
       "    </tr>\n",
       "    <tr>\n",
       "      <th>1</th>\n",
       "      <td>M</td>\n",
       "      <td>97</td>\n",
       "      <td>86</td>\n",
       "      <td>19.70</td>\n",
       "      <td>17.44</td>\n",
       "    </tr>\n",
       "    <tr>\n",
       "      <th>2</th>\n",
       "      <td>M</td>\n",
       "      <td>74</td>\n",
       "      <td>69</td>\n",
       "      <td>24.09</td>\n",
       "      <td>22.43</td>\n",
       "    </tr>\n",
       "    <tr>\n",
       "      <th>3</th>\n",
       "      <td>M</td>\n",
       "      <td>93</td>\n",
       "      <td>88</td>\n",
       "      <td>26.97</td>\n",
       "      <td>25.57</td>\n",
       "    </tr>\n",
       "    <tr>\n",
       "      <th>4</th>\n",
       "      <td>F</td>\n",
       "      <td>68</td>\n",
       "      <td>64</td>\n",
       "      <td>21.51</td>\n",
       "      <td>20.10</td>\n",
       "    </tr>\n",
       "  </tbody>\n",
       "</table>\n",
       "</div>"
      ],
      "text/plain": [
       "  SEX  WTSEP  WTAPR  BMISP  BMIAP\n",
       "0   M     72     59  22.02  18.14\n",
       "1   M     97     86  19.70  17.44\n",
       "2   M     74     69  24.09  22.43\n",
       "3   M     93     88  26.97  25.57\n",
       "4   F     68     64  21.51  20.10"
      ]
     },
     "metadata": {},
     "output_type": "display_data"
    },
    {
     "name": "stdout",
     "output_type": "stream",
     "text": [
      "\n",
      "Thiếu dữ liệu:\n"
     ]
    },
    {
     "data": {
      "text/plain": [
       "SEX      0\n",
       "WTSEP    0\n",
       "WTAPR    0\n",
       "BMISP    0\n",
       "BMIAP    0\n",
       "dtype: int64"
      ]
     },
     "metadata": {},
     "output_type": "display_data"
    }
   ],
   "source": [
    "\n",
    "import pandas as pd\n",
    "import numpy as np\n",
    "from scipy.stats import norm, poisson\n",
    "\n",
    "# 1️⃣ Đọc file dữ liệu ----------------------------------------------------------\n",
    "df = pd.read_excel(\"/Users/trangnguyen/Downloads/HKI_4/GK_TKMT/data/03_FRESH15.xls\")\n",
    "print(\"✅ Kích thước dữ liệu:\", df.shape)\n",
    "display(df.head())\n",
    "print(\"\\nThiếu dữ liệu:\")\n",
    "display(df.isna().sum())"
   ]
  },
  {
   "cell_type": "code",
   "execution_count": null,
   "id": "015b1a76-9352-4de9-9153-976ff68ee6d1",
   "metadata": {},
   "outputs": [],
   "source": [
    "#làm sạch dữ liệu \n",
    "# Xóa các cột Unnamed\n",
    "df = df.loc[:, ~df.columns.str.contains('^Unnamed')]\n",
    "\n",
    "# Xóa các dòng hoàn toàn trống\n",
    "df = df.dropna(how='all')\n",
    "\n",
    "# Kiểm tra các dòng trùng lặp\n",
    "duplicates = df.duplicated().sum()\n",
    "if duplicates > 0:\n",
    "    print(f\"⚠️ Có {duplicates} dòng trùng → sẽ xóa\")\n",
    "    df = df.drop_duplicates() \n",
    "\n",
    "\n",
    "# Kiểm tra giá trị thiếu\n",
    "missing = df.isna().sum()\n",
    "print(\"\\n🔍 Số lượng dữ liệu bị thiếu:\")\n",
    "print(missing[missing > 0])\n",
    "\n",
    "\n",
    "# Xử lý giá trị thiếu: ví dụ điền bằng trung bình cho cột số\n",
    "for col in df.select_dtypes(include=['number']).columns:\n",
    "    if df[col].isna().sum() > 0:\n",
    "        df[col].fillna(df[col].mean(), inplace=True)\n",
    "\n",
    "\n",
    "# 3️⃣ Kiểm tra lại sau khi xử lý\n",
    "print(\"\\n✅ Sau khi làm sạch:\")\n",
    "print(df.info())"
   ]
  },
  {
   "cell_type": "code",
   "execution_count": 3,
   "id": "d21a1c68-2637-446a-aafa-47ffa6a8adc4",
   "metadata": {},
   "outputs": [],
   "source": [
    "# CÂU 1"
   ]
  },
  {
   "cell_type": "code",
   "execution_count": 4,
   "id": "c44e9a33-7c93-479d-a78c-163ad1f352f2",
   "metadata": {},
   "outputs": [
    {
     "name": "stdout",
     "output_type": "stream",
     "text": [
      "\n",
      "Các cột: ['SEX', 'WTSEP', 'WTAPR', 'BMISP', 'BMIAP']\n",
      "           WTSEP       WTAPR      BMISP      BMIAP\n",
      "count  67.000000   67.000000  67.000000  67.000000\n",
      "mean   65.059701   66.238806  22.030000  22.484179\n",
      "std    11.285390   11.284327   3.308901   3.602527\n",
      "min    42.000000   47.000000  15.080000  16.890000\n",
      "25%    56.500000   58.000000  19.965000  20.230000\n",
      "50%    64.000000   66.000000  21.730000  22.310000\n",
      "75%    70.500000   70.000000  23.160000  23.860000\n",
      "max    97.000000  105.000000  36.570000  40.860000\n"
     ]
    }
   ],
   "source": [
    "# (a) Thông tin dữ liệu\n",
    "print(\"\\nCác cột:\", df.columns.tolist())\n",
    "print(df.describe())\n"
   ]
  },
  {
   "cell_type": "code",
   "execution_count": 13,
   "id": "dccbd367-298a-4b0d-917e-2921e06948b2",
   "metadata": {},
   "outputs": [
    {
     "name": "stdout",
     "output_type": "stream",
     "text": [
      "\n",
      "1.b) 95% CI cho trung bình BMI tháng 9: (21.238, 22.822)\n"
     ]
    }
   ],
   "source": [
    "# (b) Khoảng tin cậy 95% cho trung bình BMI tháng 9 ----------------------------\n",
    "x = df[\"BMISP\"].dropna()\n",
    "n = len(x)\n",
    "mean = x.mean()\n",
    "std = x.std(ddof=1)\n",
    "z95 = norm.ppf(0.975)\n",
    "ci_low = mean - z95 * std / np.sqrt(n)\n",
    "ci_high = mean + z95 * std / np.sqrt(n)\n",
    "print(f\"\\n1.b) 95% CI cho trung bình BMI tháng 9: ({ci_low:.3f}, {ci_high:.3f})\")\n",
    "\n"
   ]
  },
  {
   "cell_type": "code",
   "execution_count": 15,
   "id": "1cf85b27-241d-40c0-9b5e-dc3f476a8910",
   "metadata": {},
   "outputs": [
    {
     "name": "stdout",
     "output_type": "stream",
     "text": [
      "M: mean=22.629, 95% CI=(21.389, 23.869)\n",
      "F: mean=21.482, 95% CI=(20.493, 22.472)\n",
      "👉 Nhận xét: Nam có BMI trung bình cao hơn Nữ.\n"
     ]
    }
   ],
   "source": [
    "# (c) Trung bình BMI tháng 9 theo giới tính ------------------------------------\n",
    "means = {}\n",
    "for sex in [\"M\", \"F\"]:\n",
    "    group = df.loc[df[\"SEX\"] == sex, \"BMISP\"].dropna()\n",
    "    n = len(group)\n",
    "    mean = group.mean()\n",
    "    std = group.std(ddof=1)\n",
    "    ci_low = mean - z95 * std / np.sqrt(n)\n",
    "    ci_high = mean + z95 * std / np.sqrt(n)\n",
    "    means[sex] = mean\n",
    "    print(f\"{sex}: mean={mean:.3f}, 95% CI=({ci_low:.3f}, {ci_high:.3f})\")\n",
    "\n",
    "# So sánh nam vs nữ ------------------------------------------------------------\n",
    "if means[\"M\"] > means[\"F\"]:\n",
    "    compare = \"Nam có BMI trung bình cao hơn Nữ.\"\n",
    "elif means[\"M\"] < means[\"F\"]:\n",
    "    compare = \"Nữ có BMI trung bình cao hơn Nam.\"\n",
    "else:\n",
    "    compare = \"BMI trung bình giữa hai giới tương đương.\"\n",
    "print(f\"👉 Nhận xét: {compare}\")\n"
   ]
  },
  {
   "cell_type": "code",
   "execution_count": 16,
   "id": "454f2077-c6a5-47c7-ab6a-669999951da8",
   "metadata": {},
   "outputs": [
    {
     "name": "stdout",
     "output_type": "stream",
     "text": [
      "\n",
      "1.d) Tỷ lệ BMI giảm: 0.269 (26.9%)\n",
      "     90% CI = (0.180, 0.358)\n",
      "👉 Đa số sinh viên không giảm BMI sau học kỳ.\n"
     ]
    }
   ],
   "source": [
    "# (d) Tỷ lệ người có BMI giảm (BMI tháng 4 < tháng 9), CI 90% ------------------\n",
    "cond = df[\"BMIAP\"] < df[\"BMISP\"]\n",
    "p = cond.mean()\n",
    "n = cond.count()\n",
    "z90 = norm.ppf(0.95)\n",
    "ci_low = p - z90 * np.sqrt(p * (1 - p) / n)\n",
    "ci_high = p + z90 * np.sqrt(p * (1 - p) / n)\n",
    "print(f\"\\n1.d) Tỷ lệ BMI giảm: {p:.3f} ({p*100:.1f}%)\")\n",
    "print(f\"     90% CI = ({ci_low:.3f}, {ci_high:.3f})\")\n",
    "\n",
    "if p > 0.5:\n",
    "    print(\"👉 Phần lớn sinh viên có BMI giảm sau học kỳ.\")\n",
    "else:\n",
    "    print(\"👉 Đa số sinh viên không giảm BMI sau học kỳ.\")\n"
   ]
  },
  {
   "cell_type": "code",
   "execution_count": 17,
   "id": "4773071f-1753-42f9-a6cc-6560e4686109",
   "metadata": {},
   "outputs": [
    {
     "name": "stdout",
     "output_type": "stream",
     "text": [
      "\n",
      "1.e) Nữ tăng cân: 0.657 (65.7%)\n",
      "     99% CI = (0.450, 0.864)\n",
      "👉 Phần lớn nữ tăng cân giữa 2 thời điểm.\n"
     ]
    }
   ],
   "source": [
    "# (e) Nhóm nữ: tỷ lệ tăng cân (WTAPR > WTSEP), CI 99% --------------------------\n",
    "female = df[df[\"SEX\"] == \"F\"]\n",
    "cond = female[\"WTAPR\"] > female[\"WTSEP\"]\n",
    "p_female = cond.mean()\n",
    "n_female = cond.count()\n",
    "z99 = norm.ppf(0.995)\n",
    "ci_low = p_female - z99 * np.sqrt(p_female * (1 - p_female) / n_female)\n",
    "ci_high = p_female + z99 * np.sqrt(p_female * (1 - p_female) / n_female)\n",
    "print(f\"\\n1.e) Nữ tăng cân: {p_female:.3f} ({p_female*100:.1f}%)\")\n",
    "print(f\"     99% CI = ({ci_low:.3f}, {ci_high:.3f})\")\n",
    "\n",
    "if p_female > 0.5:\n",
    "    print(\"👉 Phần lớn nữ tăng cân giữa 2 thời điểm.\")\n",
    "else:\n",
    "    print(\"👉 Ít nữ tăng cân, có xu hướng giảm cân nhiều hơn.\")\n"
   ]
  },
  {
   "cell_type": "code",
   "execution_count": 9,
   "id": "270de0f4-9181-4d81-a945-1c983dbbdd73",
   "metadata": {},
   "outputs": [],
   "source": [
    "# CÂU 2 – PHÂN PHỐI POISSON (ATM)"
   ]
  },
  {
   "cell_type": "code",
   "execution_count": 10,
   "id": "23a4dc38-cfd7-4c5b-8018-a4734f304c9c",
   "metadata": {},
   "outputs": [
    {
     "name": "stdout",
     "output_type": "stream",
     "text": [
      "\n",
      "2.a) P(X=12) = 0.0948\n",
      "2.b) P(X<10) = 0.4579\n",
      "2.c) k sao cho P(X<k)>=0.95 là: k = 15\n"
     ]
    }
   ],
   "source": [
    "lam = 10  # trung bình 10 khách / giờ\n",
    "\n",
    "# (a) P(X=12)\n",
    "p12 = poisson.pmf(12, lam)\n",
    "print(f\"\\n2.a) P(X=12) = {p12:.4f}\")\n",
    "\n",
    "# (b) P(X<10)\n",
    "p_less_10 = poisson.cdf(9, lam)\n",
    "print(f\"2.b) P(X<10) = {p_less_10:.4f}\")\n",
    "\n",
    "# (c) Tìm k sao cho P(X<k) ≥ 0.95\n",
    "k = poisson.ppf(0.95, lam)\n",
    "print(f\"2.c) k sao cho P(X<k)>=0.95 là: k = {int(k)}\")\n"
   ]
  },
  {
   "cell_type": "code",
   "execution_count": 18,
   "id": "ba8929ba-e908-439c-a73c-e87c2e8b6c31",
   "metadata": {},
   "outputs": [
    {
     "name": "stdout",
     "output_type": "stream",
     "text": [
      "\n",
      "🧩 PHÂN TÍCH & NHẬN XÉT:\n",
      "- Trung bình BMI Nam = 22.63, Nữ = 21.48 → Nam có BMI trung bình cao hơn Nữ.\n",
      "- Tỷ lệ BMI giảm = 26.9% (90% CI: 45.0–86.4%)\n",
      "- Tỷ lệ nữ tăng cân = 65.7% (99% CI: 45.0–86.4%)\n",
      "👉 Tỷ lệ nữ tăng cân cao hơn tỷ lệ giảm BMI chung.\n",
      "- Khoảng tin cậy rộng hơn nghĩa là mức độ không chắc chắn cao hơn (ví dụ CI 99%).\n",
      "- Với Poisson λ=10, trung bình 10 khách/h:\n",
      "    • Xác suất đúng 12 khách ≈ 9.5%\n",
      "    • ATM có ≤ 15 khách trong 95% trường hợp.\n",
      "👉 Kết luận: ATM cần chuẩn bị lượng tiền mặt cho ~15 khách/h để đảm bảo 95% nhu cầu.\n"
     ]
    }
   ],
   "source": [
    "print(\"\\n🧩 PHÂN TÍCH & NHẬN XÉT:\")\n",
    "print(f\"- Trung bình BMI Nam = {means['M']:.2f}, Nữ = {means['F']:.2f} → {compare}\")\n",
    "print(f\"- Tỷ lệ BMI giảm = {p*100:.1f}% (90% CI: {ci_low*100:.1f}–{ci_high*100:.1f}%)\")\n",
    "print(f\"- Tỷ lệ nữ tăng cân = {p_female*100:.1f}% (99% CI: {ci_low*100:.1f}–{ci_high*100:.1f}%)\")\n",
    "\n",
    "# So sánh logic giữa các tỷ lệ\n",
    "if p > p_female:\n",
    "    print(\"👉 Tỷ lệ giảm BMI chung cao hơn tỷ lệ nữ tăng cân.\")\n",
    "elif p < p_female:\n",
    "    print(\"👉 Tỷ lệ nữ tăng cân cao hơn tỷ lệ giảm BMI chung.\")\n",
    "else:\n",
    "    print(\"👉 Hai tỷ lệ này gần như bằng nhau.\")\n",
    "\n",
    "print(\"- Khoảng tin cậy rộng hơn nghĩa là mức độ không chắc chắn cao hơn (ví dụ CI 99%).\")\n",
    "print(\"- Với Poisson λ=10, trung bình 10 khách/h:\")\n",
    "print(f\"    • Xác suất đúng 12 khách ≈ {p12*100:.1f}%\")\n",
    "print(f\"    • ATM có ≤ {int(k)} khách trong 95% trường hợp.\")\n",
    "print(\"👉 Kết luận: ATM cần chuẩn bị lượng tiền mặt cho ~15 khách/h để đảm bảo 95% nhu cầu.\")"
   ]
  },
  {
   "cell_type": "code",
   "execution_count": null,
   "id": "55f80998-45b6-4cb7-9adb-664d7071afaa",
   "metadata": {},
   "outputs": [],
   "source": []
  }
 ],
 "metadata": {
  "kernelspec": {
   "display_name": "Python [conda env:base] *",
   "language": "python",
   "name": "conda-base-py"
  },
  "language_info": {
   "codemirror_mode": {
    "name": "ipython",
    "version": 3
   },
   "file_extension": ".py",
   "mimetype": "text/x-python",
   "name": "python",
   "nbconvert_exporter": "python",
   "pygments_lexer": "ipython3",
   "version": "3.13.5"
  }
 },
 "nbformat": 4,
 "nbformat_minor": 5
}
