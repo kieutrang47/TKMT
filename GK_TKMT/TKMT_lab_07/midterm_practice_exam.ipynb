{
 "cells": [
  {
   "cell_type": "markdown",
   "id": "5fe0b572",
   "metadata": {},
   "source": [
    "\n",
    "# 🧪 Midterm Practice — Data Analysis & Probability Distributions\n",
    "\n",
    "**Nội dung:**  \n",
    "1) Đọc dữ liệu từ file, tính các đặc trưng, trực quan hóa dữ liệu.  \n",
    "2) Tính xác suất và phân vị của phân phối **Nhị thức (Binomial), Poisson, Chuẩn (Normal)**.  \n",
    "3) Khoảng tin cậy cho **tỷ lệ**.\n",
    "\n",
    "> Gợi ý: Notebook này **tự chạy được** với các dataset bạn đã đưa:  \n",
    "`03_FRESH15.xls`, `02_BODYTEMP.xls`, `06_BEARS.xls`, `13_VOLTAGE.xls`, `18_M&M.xls`, `19_SCREWS.xls`, `24_FICO.xls`, `gapminder_tidy.csv`, `diamonds.csv`.\n"
   ]
  },
  {
   "cell_type": "code",
   "execution_count": 3,
   "id": "6a1e5a1d",
   "metadata": {},
   "outputs": [
    {
     "name": "stdout",
     "output_type": "stream",
     "text": [
      "Libs OK\n"
     ]
    }
   ],
   "source": [
    "\n",
    "# Chuẩn bị thư viện\n",
    "import os, math\n",
    "import numpy as np\n",
    "import pandas as pd\n",
    "import matplotlib.pyplot as plt\n",
    "\n",
    "# Lưu ý cho phần vẽ: dùng matplotlib, mỗi biểu đồ 1 figure riêng, không set màu cụ thể.\n",
    "print(\"Libs OK\")\n"
   ]
  },
  {
   "cell_type": "markdown",
   "id": "ae9fe623",
   "metadata": {},
   "source": [
    "\n",
    "## 0) Chọn dataset để luyện\n",
    "- Đổi đường dẫn `DATA_PATH` cho dataset bạn muốn làm.\n",
    "- Notebook có kiểm tra cột để tự gợi ý bài tập phù hợp.\n"
   ]
  },
  {
   "cell_type": "code",
   "execution_count": 6,
   "id": "2d79e0d0",
   "metadata": {},
   "outputs": [
    {
     "data": {
      "text/plain": [
       "['03_FRESH15.xls',\n",
       " '02_BODYTEMP.xls',\n",
       " '06_BEARS.xls',\n",
       " '13_VOLTAGE.xls',\n",
       " '18_M&M.xls',\n",
       " '19_SCREWS.xls',\n",
       " '24_FICO.xls',\n",
       " 'gapminder_tidy.csv',\n",
       " 'diamonds.csv']"
      ]
     },
     "execution_count": 6,
     "metadata": {},
     "output_type": "execute_result"
    }
   ],
   "source": [
    "\n",
    "# Liệt kê file có sẵn trong /mnt/data (nếu bạn đang chạy môi trường này)\n",
    "candidates = [\n",
    "    \"03_FRESH15.xls\",\n",
    "    \"02_BODYTEMP.xls\",\n",
    "    \"06_BEARS.xls\",\n",
    "    \"13_VOLTAGE.xls\",\n",
    "    \"18_M&M.xls\",\n",
    "    \"19_SCREWS.xls\",\n",
    "    \"24_FICO.xls\",\n",
    "    \"gapminder_tidy.csv\",\n",
    "    \"diamonds.csv\",\n",
    "]\n",
    "\n",
    "existing = [p for p in candidates if os.path.exists(p)]\n",
    "existing\n"
   ]
  },
  {
   "cell_type": "code",
   "execution_count": 7,
   "id": "d563348b",
   "metadata": {},
   "outputs": [
    {
     "data": {
      "text/plain": [
       "'03_FRESH15.xls'"
      ]
     },
     "execution_count": 7,
     "metadata": {},
     "output_type": "execute_result"
    }
   ],
   "source": [
    "\n",
    "# TODO: Chọn 1 file từ danh sách 'existing' ở cell trên hoặc điền đường dẫn của bạn\n",
    "DATA_PATH = existing[0] if existing else \"03_FRESH15.xls\"\n",
    "DATA_PATH\n"
   ]
  },
  {
   "cell_type": "markdown",
   "id": "9ace2ec8",
   "metadata": {},
   "source": [
    "\n",
    "## 1) Đọc dữ liệu & khám phá sơ bộ\n",
    "**Yêu cầu:**\n",
    "- Đọc file\n",
    "- In `head(5)`, `shape`, `dtypes`\n",
    "- Kiểm tra thiếu dữ liệu\n"
   ]
  },
  {
   "cell_type": "code",
   "execution_count": 8,
   "id": "bd04c115",
   "metadata": {},
   "outputs": [
    {
     "name": "stdout",
     "output_type": "stream",
     "text": [
      "Shape: (67, 5)\n"
     ]
    },
    {
     "data": {
      "text/html": [
       "<div>\n",
       "<style scoped>\n",
       "    .dataframe tbody tr th:only-of-type {\n",
       "        vertical-align: middle;\n",
       "    }\n",
       "\n",
       "    .dataframe tbody tr th {\n",
       "        vertical-align: top;\n",
       "    }\n",
       "\n",
       "    .dataframe thead th {\n",
       "        text-align: right;\n",
       "    }\n",
       "</style>\n",
       "<table border=\"1\" class=\"dataframe\">\n",
       "  <thead>\n",
       "    <tr style=\"text-align: right;\">\n",
       "      <th></th>\n",
       "      <th>SEX</th>\n",
       "      <th>WTSEP</th>\n",
       "      <th>WTAPR</th>\n",
       "      <th>BMISP</th>\n",
       "      <th>BMIAP</th>\n",
       "    </tr>\n",
       "  </thead>\n",
       "  <tbody>\n",
       "    <tr>\n",
       "      <th>0</th>\n",
       "      <td>M</td>\n",
       "      <td>72</td>\n",
       "      <td>59</td>\n",
       "      <td>22.02</td>\n",
       "      <td>18.14</td>\n",
       "    </tr>\n",
       "    <tr>\n",
       "      <th>1</th>\n",
       "      <td>M</td>\n",
       "      <td>97</td>\n",
       "      <td>86</td>\n",
       "      <td>19.70</td>\n",
       "      <td>17.44</td>\n",
       "    </tr>\n",
       "    <tr>\n",
       "      <th>2</th>\n",
       "      <td>M</td>\n",
       "      <td>74</td>\n",
       "      <td>69</td>\n",
       "      <td>24.09</td>\n",
       "      <td>22.43</td>\n",
       "    </tr>\n",
       "    <tr>\n",
       "      <th>3</th>\n",
       "      <td>M</td>\n",
       "      <td>93</td>\n",
       "      <td>88</td>\n",
       "      <td>26.97</td>\n",
       "      <td>25.57</td>\n",
       "    </tr>\n",
       "    <tr>\n",
       "      <th>4</th>\n",
       "      <td>F</td>\n",
       "      <td>68</td>\n",
       "      <td>64</td>\n",
       "      <td>21.51</td>\n",
       "      <td>20.10</td>\n",
       "    </tr>\n",
       "  </tbody>\n",
       "</table>\n",
       "</div>"
      ],
      "text/plain": [
       "  SEX  WTSEP  WTAPR  BMISP  BMIAP\n",
       "0   M     72     59  22.02  18.14\n",
       "1   M     97     86  19.70  17.44\n",
       "2   M     74     69  24.09  22.43\n",
       "3   M     93     88  26.97  25.57\n",
       "4   F     68     64  21.51  20.10"
      ]
     },
     "metadata": {},
     "output_type": "display_data"
    },
    {
     "name": "stdout",
     "output_type": "stream",
     "text": [
      "\n",
      "Dtypes:\n",
      "SEX       object\n",
      "WTSEP      int64\n",
      "WTAPR      int64\n",
      "BMISP    float64\n",
      "BMIAP    float64\n",
      "dtype: object\n",
      "\n",
      "Missing per column:\n",
      "SEX      0\n",
      "WTSEP    0\n",
      "WTAPR    0\n",
      "BMISP    0\n",
      "BMIAP    0\n",
      "dtype: int64\n"
     ]
    }
   ],
   "source": [
    "\n",
    "# Đọc dữ liệu linh hoạt theo phần mở rộng\n",
    "ext = os.path.splitext(DATA_PATH)[1].lower()\n",
    "if ext in [\".xls\", \".xlsx\"]:\n",
    "    try:\n",
    "        df = pd.read_excel(DATA_PATH)\n",
    "    except Exception:\n",
    "        try:\n",
    "            df = pd.read_excel(DATA_PATH, engine=\"xlrd\")\n",
    "        except Exception:\n",
    "            df = pd.read_excel(DATA_PATH, engine=\"openpyxl\")\n",
    "elif ext in [\".csv\", \".txt\"]:\n",
    "    df = pd.read_csv(DATA_PATH)\n",
    "else:\n",
    "    # last resort\n",
    "    df = pd.read_csv(DATA_PATH)\n",
    "\n",
    "print(\"Shape:\", df.shape)\n",
    "display(df.head())\n",
    "print(\"\\nDtypes:\")\n",
    "print(df.dtypes)\n",
    "print(\"\\nMissing per column:\")\n",
    "print(df.isna().sum())\n"
   ]
  },
  {
   "cell_type": "markdown",
   "id": "976e8209",
   "metadata": {},
   "source": [
    "\n",
    "## 2) Làm sạch dữ liệu nhanh\n",
    "- Chuẩn hóa cột `sex/gender` (nếu có) → thêm cột nhị phân `*_num`.\n",
    "- Chuyển các cột object có dạng số (\"1,200\", \"45%\") thành số `_num`.\n"
   ]
  },
  {
   "cell_type": "code",
   "execution_count": 9,
   "id": "5106b652",
   "metadata": {},
   "outputs": [
    {
     "name": "stdout",
     "output_type": "stream",
     "text": [
      "Numeric columns considered:\n",
      "['WTSEP', 'WTAPR', 'BMISP', 'BMIAP', 'SEX_num']\n"
     ]
    }
   ],
   "source": [
    "\n",
    "df = df.copy()\n",
    "\n",
    "# Chuẩn hóa sex/gender (nếu có)\n",
    "for col in df.columns:\n",
    "    if str(col).strip().lower() in (\"sex\", \"gender\"):\n",
    "        df[col] = df[col].astype(str).str.strip().str.upper()\n",
    "        mapping = {\"M\":1, \"MALE\":1, \"NAM\":1, \"F\":0, \"FEMALE\":0, \"NU\":0, \"NỮ\":0}\n",
    "        df[col + \"_num\"] = df[col].map(mapping)\n",
    "\n",
    "def to_numeric_series(s: pd.Series) -> pd.Series:\n",
    "    return (\n",
    "        s.astype(str)\n",
    "         .str.replace(\",\", \"\", regex=False)\n",
    "         .str.replace(\"%\", \"\", regex=False)\n",
    "         .str.replace(r\"[^\\d\\.\\-\\+eE]\", \"\", regex=True)\n",
    "         .str.strip()\n",
    "         .pipe(pd.to_numeric, errors=\"coerce\")\n",
    "    )\n",
    "\n",
    "df_num = df.select_dtypes(include=\"number\").copy()\n",
    "for c in df.select_dtypes(include=\"object\").columns:\n",
    "    cand = to_numeric_series(df[c])\n",
    "    if cand.notna().sum() >= max(3, int(0.5*len(df))):\n",
    "        df_num[c + \"_num\"] = cand\n",
    "\n",
    "print(\"Numeric columns considered:\")\n",
    "print(df_num.columns.tolist())\n"
   ]
  },
  {
   "cell_type": "markdown",
   "id": "276a069a",
   "metadata": {},
   "source": [
    "\n",
    "## 3) Đặc trưng thống kê\n",
    "- Tính: `mean`, `median`, `std`, `min`, `max`, `count`\n",
    "- In `describe()`\n"
   ]
  },
  {
   "cell_type": "code",
   "execution_count": 10,
   "id": "73e609aa",
   "metadata": {},
   "outputs": [
    {
     "name": "stdout",
     "output_type": "stream",
     "text": [
      "--- STATS ---\n"
     ]
    },
    {
     "data": {
      "text/html": [
       "<div>\n",
       "<style scoped>\n",
       "    .dataframe tbody tr th:only-of-type {\n",
       "        vertical-align: middle;\n",
       "    }\n",
       "\n",
       "    .dataframe tbody tr th {\n",
       "        vertical-align: top;\n",
       "    }\n",
       "\n",
       "    .dataframe thead th {\n",
       "        text-align: right;\n",
       "    }\n",
       "</style>\n",
       "<table border=\"1\" class=\"dataframe\">\n",
       "  <thead>\n",
       "    <tr style=\"text-align: right;\">\n",
       "      <th></th>\n",
       "      <th>mean</th>\n",
       "      <th>median</th>\n",
       "      <th>std</th>\n",
       "      <th>min</th>\n",
       "      <th>max</th>\n",
       "      <th>count</th>\n",
       "    </tr>\n",
       "  </thead>\n",
       "  <tbody>\n",
       "    <tr>\n",
       "      <th>WTSEP</th>\n",
       "      <td>65.059701</td>\n",
       "      <td>64.00</td>\n",
       "      <td>11.285390</td>\n",
       "      <td>42.00</td>\n",
       "      <td>97.00</td>\n",
       "      <td>67</td>\n",
       "    </tr>\n",
       "    <tr>\n",
       "      <th>WTAPR</th>\n",
       "      <td>66.238806</td>\n",
       "      <td>66.00</td>\n",
       "      <td>11.284327</td>\n",
       "      <td>47.00</td>\n",
       "      <td>105.00</td>\n",
       "      <td>67</td>\n",
       "    </tr>\n",
       "    <tr>\n",
       "      <th>BMISP</th>\n",
       "      <td>22.030000</td>\n",
       "      <td>21.73</td>\n",
       "      <td>3.308901</td>\n",
       "      <td>15.08</td>\n",
       "      <td>36.57</td>\n",
       "      <td>67</td>\n",
       "    </tr>\n",
       "    <tr>\n",
       "      <th>BMIAP</th>\n",
       "      <td>22.484179</td>\n",
       "      <td>22.31</td>\n",
       "      <td>3.602527</td>\n",
       "      <td>16.89</td>\n",
       "      <td>40.86</td>\n",
       "      <td>67</td>\n",
       "    </tr>\n",
       "    <tr>\n",
       "      <th>SEX_num</th>\n",
       "      <td>0.477612</td>\n",
       "      <td>0.00</td>\n",
       "      <td>0.503268</td>\n",
       "      <td>0.00</td>\n",
       "      <td>1.00</td>\n",
       "      <td>67</td>\n",
       "    </tr>\n",
       "  </tbody>\n",
       "</table>\n",
       "</div>"
      ],
      "text/plain": [
       "              mean  median        std    min     max  count\n",
       "WTSEP    65.059701   64.00  11.285390  42.00   97.00     67\n",
       "WTAPR    66.238806   66.00  11.284327  47.00  105.00     67\n",
       "BMISP    22.030000   21.73   3.308901  15.08   36.57     67\n",
       "BMIAP    22.484179   22.31   3.602527  16.89   40.86     67\n",
       "SEX_num   0.477612    0.00   0.503268   0.00    1.00     67"
      ]
     },
     "metadata": {},
     "output_type": "display_data"
    },
    {
     "name": "stdout",
     "output_type": "stream",
     "text": [
      "\n",
      "--- DESCRIBE ---\n"
     ]
    },
    {
     "data": {
      "text/html": [
       "<div>\n",
       "<style scoped>\n",
       "    .dataframe tbody tr th:only-of-type {\n",
       "        vertical-align: middle;\n",
       "    }\n",
       "\n",
       "    .dataframe tbody tr th {\n",
       "        vertical-align: top;\n",
       "    }\n",
       "\n",
       "    .dataframe thead th {\n",
       "        text-align: right;\n",
       "    }\n",
       "</style>\n",
       "<table border=\"1\" class=\"dataframe\">\n",
       "  <thead>\n",
       "    <tr style=\"text-align: right;\">\n",
       "      <th></th>\n",
       "      <th>WTSEP</th>\n",
       "      <th>WTAPR</th>\n",
       "      <th>BMISP</th>\n",
       "      <th>BMIAP</th>\n",
       "      <th>SEX_num</th>\n",
       "    </tr>\n",
       "  </thead>\n",
       "  <tbody>\n",
       "    <tr>\n",
       "      <th>count</th>\n",
       "      <td>67.000000</td>\n",
       "      <td>67.000000</td>\n",
       "      <td>67.000000</td>\n",
       "      <td>67.000000</td>\n",
       "      <td>67.000000</td>\n",
       "    </tr>\n",
       "    <tr>\n",
       "      <th>mean</th>\n",
       "      <td>65.059701</td>\n",
       "      <td>66.238806</td>\n",
       "      <td>22.030000</td>\n",
       "      <td>22.484179</td>\n",
       "      <td>0.477612</td>\n",
       "    </tr>\n",
       "    <tr>\n",
       "      <th>std</th>\n",
       "      <td>11.285390</td>\n",
       "      <td>11.284327</td>\n",
       "      <td>3.308901</td>\n",
       "      <td>3.602527</td>\n",
       "      <td>0.503268</td>\n",
       "    </tr>\n",
       "    <tr>\n",
       "      <th>min</th>\n",
       "      <td>42.000000</td>\n",
       "      <td>47.000000</td>\n",
       "      <td>15.080000</td>\n",
       "      <td>16.890000</td>\n",
       "      <td>0.000000</td>\n",
       "    </tr>\n",
       "    <tr>\n",
       "      <th>25%</th>\n",
       "      <td>56.500000</td>\n",
       "      <td>58.000000</td>\n",
       "      <td>19.965000</td>\n",
       "      <td>20.230000</td>\n",
       "      <td>0.000000</td>\n",
       "    </tr>\n",
       "    <tr>\n",
       "      <th>50%</th>\n",
       "      <td>64.000000</td>\n",
       "      <td>66.000000</td>\n",
       "      <td>21.730000</td>\n",
       "      <td>22.310000</td>\n",
       "      <td>0.000000</td>\n",
       "    </tr>\n",
       "    <tr>\n",
       "      <th>75%</th>\n",
       "      <td>70.500000</td>\n",
       "      <td>70.000000</td>\n",
       "      <td>23.160000</td>\n",
       "      <td>23.860000</td>\n",
       "      <td>1.000000</td>\n",
       "    </tr>\n",
       "    <tr>\n",
       "      <th>max</th>\n",
       "      <td>97.000000</td>\n",
       "      <td>105.000000</td>\n",
       "      <td>36.570000</td>\n",
       "      <td>40.860000</td>\n",
       "      <td>1.000000</td>\n",
       "    </tr>\n",
       "  </tbody>\n",
       "</table>\n",
       "</div>"
      ],
      "text/plain": [
       "           WTSEP       WTAPR      BMISP      BMIAP    SEX_num\n",
       "count  67.000000   67.000000  67.000000  67.000000  67.000000\n",
       "mean   65.059701   66.238806  22.030000  22.484179   0.477612\n",
       "std    11.285390   11.284327   3.308901   3.602527   0.503268\n",
       "min    42.000000   47.000000  15.080000  16.890000   0.000000\n",
       "25%    56.500000   58.000000  19.965000  20.230000   0.000000\n",
       "50%    64.000000   66.000000  21.730000  22.310000   0.000000\n",
       "75%    70.500000   70.000000  23.160000  23.860000   1.000000\n",
       "max    97.000000  105.000000  36.570000  40.860000   1.000000"
      ]
     },
     "metadata": {},
     "output_type": "display_data"
    }
   ],
   "source": [
    "\n",
    "print(\"--- STATS ---\")\n",
    "stats_df = pd.DataFrame({\n",
    "    \"mean\": df_num.mean(numeric_only=True),\n",
    "    \"median\": df_num.median(numeric_only=True),\n",
    "    \"std\": df_num.std(numeric_only=True),\n",
    "    \"min\": df_num.min(numeric_only=True),\n",
    "    \"max\": df_num.max(numeric_only=True),\n",
    "    \"count\": df_num.count()\n",
    "})\n",
    "display(stats_df)\n",
    "\n",
    "print(\"\\n--- DESCRIBE ---\")\n",
    "display(df_num.describe())\n"
   ]
  },
  {
   "cell_type": "markdown",
   "id": "d9421927",
   "metadata": {},
   "source": [
    "\n",
    "## 4) Trực quan hóa\n",
    "- Vẽ **1 histogram** cho cột số đầu tiên\n",
    "- Vẽ **1 boxplot** cho tối đa 10 cột số đầu tiên\n",
    "- Vẽ **1 scatter** cho 2 cột số đầu tiên (nếu có)\n",
    "- Vẽ **heatmap tương quan** (dùng `imshow`)\n"
   ]
  },
  {
   "cell_type": "code",
   "execution_count": 12,
   "id": "5067aed0",
   "metadata": {},
   "outputs": [
    {
     "data": {
      "image/png": "[encoded data removed]",
      "text/plain": [
       "<Figure size 640x480 with 1 Axes>"
      ]
     },
     "metadata": {},
     "output_type": "display_data"
    },
    {
     "name": "stderr",
     "output_type": "stream",
     "text": [
      "/var/folders/_l/jkzl_h7n1h9241fb7cqx7k5w0000gn/T/ipykernel_35838/2834398446.py:16: MatplotlibDeprecationWarning: The 'labels' parameter of boxplot() has been renamed 'tick_labels' since Matplotlib 3.9; support for the old name will be dropped in 3.11.\n",
      "  plt.boxplot([df_num[c].dropna() for c in cols], labels=cols, vert=True)\n"
     ]
    },
    {
     "data": {
      "image/png": "[encoded data removed]",
      "text/plain": [
       "<Figure size 600x400 with 1 Axes>"
      ]
     },
     "metadata": {},
     "output_type": "display_data"
    },
    {
     "data": {
      "image/png": "[encoded data removed]",
      "text/plain": [
       "<Figure size 640x480 with 1 Axes>"
      ]
     },
     "metadata": {},
     "output_type": "display_data"
    },
    {
     "data": {
      "image/png": "[encoded data removed]",
      "text/plain": [
       "<Figure size 600x500 with 2 Axes>"
      ]
     },
     "metadata": {},
     "output_type": "display_data"
    }
   ],
   "source": [
    "\n",
    "num_cols = df_num.columns.tolist()\n",
    "\n",
    "# Histogram\n",
    "if len(num_cols) >= 1:\n",
    "    col = num_cols[0]\n",
    "    plt.figure()\n",
    "    plt.hist(df_num[col].dropna(), bins=20, edgecolor = 'black')\n",
    "    plt.title(f\"Histogram: {col}\")\n",
    "    plt.xlabel(col); plt.ylabel(\"Frequency\")\n",
    "    plt.show()\n",
    "\n",
    "# Boxplot\n",
    "cols = num_cols[:10]\n",
    "if len(cols) >= 1:\n",
    "    plt.figure(figsize=(max(6, 0.6*len(cols)), 4))\n",
    "    plt.boxplot([df_num[c].dropna() for c in cols], labels=cols, vert=True)\n",
    "    plt.title(\"Boxplot (first numeric columns)\")\n",
    "    plt.xticks(rotation=45, ha=\"right\")\n",
    "    plt.tight_layout()\n",
    "    plt.show()\n",
    "\n",
    "# Scatter\n",
    "if len(num_cols) >= 2:\n",
    "    xcol, ycol = num_cols[0], num_cols[1]\n",
    "    plt.figure()\n",
    "    plt.scatter(df_num[xcol], df_num[ycol])\n",
    "    plt.title(f\"Scatter: {xcol} vs {ycol}\")\n",
    "    plt.xlabel(xcol); plt.ylabel(ycol)\n",
    "    plt.show()\n",
    "\n",
    "# Correlation heatmap\n",
    "if len(num_cols) >= 2:\n",
    "    corr = df_num.corr(numeric_only=True)\n",
    "    plt.figure(figsize=(6,5))\n",
    "    plt.imshow(corr, aspect=\"auto\")\n",
    "    plt.colorbar()\n",
    "    plt.title(\"Correlation heatmap\")\n",
    "    plt.xticks(range(len(corr.columns)), corr.columns, rotation=90)\n",
    "    plt.yticks(range(len(corr.index)), corr.index)\n",
    "    plt.tight_layout()\n",
    "    plt.show()\n"
   ]
  },
  {
   "cell_type": "markdown",
   "id": "b85baaab",
   "metadata": {},
   "source": [
    "\n",
    "## 5) Bài tập theo cột đặc thù (nếu tồn tại)\n",
    "- Nếu có `BMIAP` và `BMISP`: đếm tỷ lệ BMI giảm (BMIAP < BMISP) và khoảng tin cậy 90% cho tỷ lệ.\n",
    "- Nếu có `SEX`/`GENDER`: tính trung bình 1 biến theo giới.\n",
    "- Nếu có `height` (inch) và `weight` (pound): đổi đơn vị và tính BMI.\n"
   ]
  },
  {
   "cell_type": "code",
   "execution_count": 13,
   "id": "2e45ad38",
   "metadata": {},
   "outputs": [
    {
     "name": "stdout",
     "output_type": "stream",
     "text": [
      "[BMI decrease] 18/67 -> p̂=0.269, 90% CI=(0.180, 0.358)\n",
      "Group mean by SEX for WTSEP:\n",
      "SEX\n",
      "F    58.057143\n",
      "M    72.718750\n",
      "Name: WTSEP, dtype: float64\n"
     ]
    }
   ],
   "source": [
    "\n",
    "# BMI decrease & 90% CI\n",
    "if set([\"BMIAP\",\"BMISP\"]).issubset(df.columns):\n",
    "    n = len(df)\n",
    "    x = (df[\"BMIAP\"] < df[\"BMISP\"]).sum()\n",
    "    p_hat = x / n if n else np.nan\n",
    "    z = 1.645\n",
    "    se = math.sqrt(p_hat*(1-p_hat)/n) if n else np.nan\n",
    "    lo = p_hat - z*se\n",
    "    hi = p_hat + z*se\n",
    "    print(f\"[BMI decrease] {x}/{n} -> p̂={p_hat:.3f}, 90% CI=({lo:.3f}, {hi:.3f})\")\n",
    "\n",
    "# Group mean by SEX/GENDER for first numeric column\n",
    "sexcol = None\n",
    "for c in df.columns:\n",
    "    if str(c).strip().lower() in (\"sex\",\"gender\"):\n",
    "        sexcol = c\n",
    "        break\n",
    "\n",
    "if sexcol and len(df_num.columns) >= 1:\n",
    "    gmean = df.groupby(sexcol)[df_num.columns[0]].mean(numeric_only=True)\n",
    "    print(f\"Group mean by {sexcol} for {df_num.columns[0]}:\")\n",
    "    print(gmean)\n",
    "\n",
    "# Height/Weight convert + BMI\n",
    "hcol_candidates = [c for c in df.columns if str(c).lower().startswith(\"height\")]\n",
    "wcol_candidates = [c for c in df.columns if str(c).lower().startswith(\"weight\")]\n",
    "if hcol_candidates and wcol_candidates:\n",
    "    hcol, wcol = hcol_candidates[0], wcol_candidates[0]\n",
    "    # Thử đoán inch->cm, pound->kg (nếu dữ liệu hợp lý)\n",
    "    h_cm = df[hcol]*2.54\n",
    "    w_kg = df[wcol]*0.453592\n",
    "    bmi = w_kg / ((h_cm/100.0)**2)\n",
    "    print(f\"BMI preview (using {hcol},{wcol}):\")\n",
    "    display(bmi.describe())\n"
   ]
  },
  {
   "cell_type": "markdown",
   "id": "fc75c535",
   "metadata": {},
   "source": [
    "\n",
    "# Phần B — Xác suất & Phân vị\n",
    "\n",
    "Cho biết và áp dụng 3 phân phối: **Binomial**, **Poisson**, **Normal**.\n"
   ]
  },
  {
   "cell_type": "code",
   "execution_count": 14,
   "id": "b0f5f4e4",
   "metadata": {},
   "outputs": [
    {
     "name": "stdout",
     "output_type": "stream",
     "text": [
      "[Binomial] P(X=k)= 0.2668279319999998   P(X<=k)= 0.6496107184000002   k_90= 5.0\n",
      "[Poisson] P(X=2)= 0.04461753917999444   P(X>=3)= 0.938031195583341   x_95%= 10.0\n",
      "[Normal] P(X<120)= 0.9087887802741321   P(85<X<115)= 0.6826894921370859   x_90%= 119.22327348316901\n"
     ]
    }
   ],
   "source": [
    "\n",
    "from math import comb\n",
    "from scipy.stats import binom, poisson, norm\n",
    "\n",
    "# --- Binomial ---\n",
    "# TODO: điền n, p, k phù hợp đề\n",
    "n, p, k = 10, 0.3, 3\n",
    "P_eq = binom.pmf(k, n, p)         # P(X = k)\n",
    "P_le = binom.cdf(k, n, p)         # P(X <= k)\n",
    "k90 = binom.ppf(0.90, n, p)       # 90th percentile\n",
    "print(\"[Binomial] P(X=k)=\", P_eq, \"  P(X<=k)=\", P_le, \"  k_90=\", k90)\n",
    "\n",
    "# --- Poisson ---\n",
    "lam = 6\n",
    "P2 = poisson.pmf(2, lam)\n",
    "P_ge_3 = 1 - poisson.cdf(2, lam)  # P(X >= 3)\n",
    "x95_pois = poisson.ppf(0.95, lam)\n",
    "print(\"[Poisson] P(X=2)=\", P2, \"  P(X>=3)=\", P_ge_3, \"  x_95%=\", x95_pois)\n",
    "\n",
    "# --- Normal ---\n",
    "mu, sigma = 100, 15\n",
    "P_less_120 = norm.cdf(120, mu, sigma)\n",
    "P_between = norm.cdf(115, mu, sigma) - norm.cdf(85, mu, sigma)\n",
    "x90 = norm.ppf(0.90, mu, sigma)\n",
    "print(\"[Normal] P(X<120)=\", P_less_120, \"  P(85<X<115)=\", P_between, \"  x_90%=\", x90)\n"
   ]
  },
  {
   "cell_type": "markdown",
   "id": "4a3b17cd",
   "metadata": {},
   "source": [
    "\n",
    "## Khoảng tin cậy cho **tỷ lệ** (one-sample, normal approx)\n",
    "Công thức 90% CI cho tỷ lệ \\(p\\) với mẫu \\(n\\), tần số \\(x\\), \\(\\hat p = x/n\\):\n",
    "\\[\n",
    "\\hat p \\pm z_{0.05}\\sqrt{\\hat p(1-\\hat p)/n},\\quad z_{0.05}=1.645\n",
    "\\]\n",
    "Điền số thực tế của bạn:\n"
   ]
  },
  {
   "cell_type": "code",
   "execution_count": 15,
   "id": "b7b17169",
   "metadata": {},
   "outputs": [
    {
     "name": "stdout",
     "output_type": "stream",
     "text": [
      "p̂=0.400, 90% CI=(0.192, 0.608)\n"
     ]
    }
   ],
   "source": [
    "\n",
    "# TODO: thay x, n bằng dữ liệu của bạn\n",
    "x, n = 6, 15\n",
    "p_hat = x/n\n",
    "z = 1.645\n",
    "se = math.sqrt(p_hat*(1-p_hat)/n)\n",
    "lo, hi = p_hat - z*se, p_hat + z*se\n",
    "print(f\"p̂={p_hat:.3f}, 90% CI=({lo:.3f}, {hi:.3f})\")\n"
   ]
  },
  {
   "cell_type": "markdown",
   "id": "50ecf9f9",
   "metadata": {},
   "source": [
    "\n",
    "---\n",
    "\n",
    "**Kết thúc bài luyện.**  \n",
    "Bạn có thể đổi `DATA_PATH` để luyện với các dataset khác nhau và lặp lại các bước.\n"
   ]
  }
 ],
 "metadata": {
  "kernelspec": {
   "display_name": "Python [conda env:base] *",
   "language": "python",
   "name": "conda-base-py"
  },
  "language_info": {
   "codemirror_mode": {
    "name": "ipython",
    "version": 3
   },
   "file_extension": ".py",
   "mimetype": "text/x-python",
   "name": "python",
   "nbconvert_exporter": "python",
   "pygments_lexer": "ipython3",
   "version": "3.13.5"
  }
 },
 "nbformat": 4,
 "nbformat_minor": 5
}
