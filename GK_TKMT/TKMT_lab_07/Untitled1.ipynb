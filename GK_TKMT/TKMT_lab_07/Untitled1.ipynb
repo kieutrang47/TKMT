{
 "cells": [
  {
   "cell_type": "markdown",
   "id": "96290205-d0a4-4ee4-94e3-24e4c3107343",
   "metadata": {},
   "source": [
    "## ĐỀ CÂU 1\n",
    "\n",
    "\n",
    "Cho file dữ liệu FRESH15.xls gồm:\n",
    "\n",
    "- SEX: giới tính (Nam = M, Nữ = F)\n",
    "\n",
    "- WTSEP: Cân nặng tháng 9 (kg)\n",
    "\n",
    "- WTAPR: Cân nặng tháng 4 (kg)\n",
    "\n",
    "- BMISP: BMI tháng 9\n",
    "\n",
    "- BMIAP: BMI tháng 4\n",
    "\n",
    "a. Đọc file và hiển thị thông tin của file dữ liệu. \n",
    "\n",
    "b. Tính trung bình, độ lệch chuẩn của các cột số\n",
    "\n",
    "c. Tìm bao nhiêu sinh viên có BMI tháng 4 lớn hơn BMI tháng 9\n",
    "\n",
    "d. Trung bình BMI tháng 4 của nhóm nam & nữ riêng biệt.\n",
    "\n",
    "e. tìm khoảng tin cậy 95% cho trung bình BMI tháng 9.\n",
    "\n"
   ]
  },
  {
   "cell_type": "code",
   "execution_count": 3,
   "id": "e7756c9d-8ab4-4c46-b1cd-0eb4fd88d64b",
   "metadata": {},
   "outputs": [
    {
     "name": "stdout",
     "output_type": "stream",
     "text": [
      "Requirement already satisfied: xlrd in /opt/anaconda3/lib/python3.13/site-packages (2.0.2)\n"
     ]
    }
   ],
   "source": [
    "!pip install xlrd"
   ]
  },
  {
   "cell_type": "code",
   "execution_count": 5,
   "id": "593df8a5-be21-451b-a29b-18239bf5805a",
   "metadata": {},
   "outputs": [
    {
     "name": "stdout",
     "output_type": "stream",
     "text": [
      "  SEX  WTSEP  WTAPR  BMISP  BMIAP\n",
      "0   M     72     59  22.02  18.14\n",
      "1   M     97     86  19.70  17.44\n",
      "2   M     74     69  24.09  22.43\n",
      "3   M     93     88  26.97  25.57\n",
      "4   F     68     64  21.51  20.10\n"
     ]
    }
   ],
   "source": [
    "import pandas as pd\n",
    "df = pd.read_excel('03_FRESH15.xls')\n",
    "print(df.head())"
   ]
  },
  {
   "cell_type": "code",
   "execution_count": null,
   "id": "6a35d553-52a2-4ab2-bfce-35f5305ec4bf",
   "metadata": {},
   "outputs": [],
   "source": []
  },
  {
   "cell_type": "code",
   "execution_count": 6,
   "id": "7cb7a003-2be0-4658-9407-d60b5189d467",
   "metadata": {},
   "outputs": [
    {
     "name": "stdout",
     "output_type": "stream",
     "text": [
      "  SEX  SEX_num\n",
      "0   M        1\n",
      "1   M        1\n",
      "2   M        1\n",
      "3   M        1\n",
      "4   F        0\n"
     ]
    }
   ],
   "source": [
    "# Chuẩn hóa giới tính về chữ in hoa\n",
    "df[\"SEX\"] = df[\"SEX\"].astype(str).str.strip().str.upper()\n",
    "\n",
    "# Chuyển sang mã số: M = 1 (Nam), F = 0 (Nữ)\n",
    "df[\"SEX_num\"] = df[\"SEX\"].map({\"M\": 1, \"F\": 0})\n",
    "\n",
    "print(df[[\"SEX\", \"SEX_num\"]].head())\n"
   ]
  },
  {
   "cell_type": "code",
   "execution_count": 7,
   "id": "25589aa1-7309-4905-a438-3caf1193c2c3",
   "metadata": {},
   "outputs": [
    {
     "name": "stdout",
     "output_type": "stream",
     "text": [
      "\n",
      "--- Trung bình ---\n",
      "WTSEP      65.059701\n",
      "WTAPR      66.238806\n",
      "BMISP      22.030000\n",
      "BMIAP      22.484179\n",
      "SEX_num     0.477612\n",
      "dtype: float64\n",
      "\n",
      "--- Độ lệch chuẩn ---\n",
      "WTSEP      11.285390\n",
      "WTAPR      11.284327\n",
      "BMISP       3.308901\n",
      "BMIAP       3.602527\n",
      "SEX_num     0.503268\n",
      "dtype: float64\n"
     ]
    }
   ],
   "source": [
    "num = df.select_dtypes(include=\"number\")\n",
    "\n",
    "print(\"\\n--- Trung bình ---\")\n",
    "print(num.mean(numeric_only=True))\n",
    "\n",
    "print(\"\\n--- Độ lệch chuẩn ---\")\n",
    "print(num.std(numeric_only=True))\n"
   ]
  },
  {
   "cell_type": "markdown",
   "id": "779fb390-0592-4bf9-9da2-0fc626703da7",
   "metadata": {},
   "source": [
    "Trung bình (mean) cho biết giá trị điển hình của mỗi biến.\n",
    "\n",
    "Độ lệch chuẩn (std) cho biết mức độ phân tán.\n",
    "Nếu BMI tháng 4 có std nhỏ → các giá trị khá đồng đều giữa các sinh viên."
   ]
  },
  {
   "cell_type": "code",
   "execution_count": null,
   "id": "b403bf7f-a417-4232-b51e-efc4a1446801",
   "metadata": {},
   "outputs": [],
   "source": []
  },
  {
   "cell_type": "code",
   "execution_count": 8,
   "id": "78e5f048-18ff-428c-bc02-8efca7ee6103",
   "metadata": {},
   "outputs": [
    {
     "name": "stdout",
     "output_type": "stream",
     "text": [
      "\n",
      "Số sinh viên có BMI tháng 4 > BMI tháng 9: 49/67\n"
     ]
    }
   ],
   "source": [
    "# Số sinh viên có BMI tháng 4 > BMI tháng 9\n",
    "count_higher = (df[\"BMIAP\"] > df[\"BMISP\"]).sum()\n",
    "total = len(df)\n",
    "print(f\"\\nSố sinh viên có BMI tháng 4 > BMI tháng 9: {count_higher}/{total}\")\n"
   ]
  },
  {
   "cell_type": "markdown",
   "id": "88b49dec-ac11-4494-8466-46436eb6c16f",
   "metadata": {},
   "source": [
    "(df[\"BMIAP\"] > df[\"BMISP\"]).sum() đếm số dòng điều kiện đúng.\n",
    "\n",
    "Nếu kết quả = 12/15 chẳng hạn, ta nói “12 trong 15 sinh viên có BMI tháng 4 cao hơn tháng 9”."
   ]
  },
  {
   "cell_type": "code",
   "execution_count": 9,
   "id": "25a1152f-2cde-48f7-8153-146a4608c45d",
   "metadata": {},
   "outputs": [
    {
     "name": "stdout",
     "output_type": "stream",
     "text": [
      "\n",
      "Trung bình BMI tháng 4 theo giới tính:\n",
      "SEX\n",
      "F    21.948000\n",
      "M    23.070625\n",
      "Name: BMIAP, dtype: float64\n"
     ]
    }
   ],
   "source": [
    "# Nhóm theo giới tính rồi tính trung bình\n",
    "bmi_mean_by_sex = df.groupby(\"SEX\")[\"BMIAP\"].mean()\n",
    "print(\"\\nTrung bình BMI tháng 4 theo giới tính:\")\n",
    "print(bmi_mean_by_sex)\n"
   ]
  },
  {
   "cell_type": "markdown",
   "id": "bd840fe7-4a9b-4ff5-a887-97af1a0f3315",
   "metadata": {},
   "source": [
    "Nam có BMI tháng 4 trung bình cao hơn nữ."
   ]
  },
  {
   "cell_type": "code",
   "execution_count": 10,
   "id": "e8788c47-ced5-4013-9ecd-7b49e032b92f",
   "metadata": {},
   "outputs": [
    {
     "name": "stdout",
     "output_type": "stream",
     "text": [
      "\n",
      "Trung bình BMI tháng 4 theo giới tính:\n",
      "SEX\n",
      "F    21.482286\n",
      "M    22.629062\n",
      "Name: BMISP, dtype: float64\n"
     ]
    }
   ],
   "source": [
    "# Nhóm theo giới tính rồi tính trung bình\n",
    "bmi_mean_by_sex = df.groupby(\"SEX\")[\"BMISP\"].mean()\n",
    "print(\"\\nTrung bình BMI tháng 4 theo giới tính:\")\n",
    "print(bmi_mean_by_sex)"
   ]
  },
  {
   "cell_type": "code",
   "execution_count": null,
   "id": "7e8b0851-0a6d-4028-8a87-5b37d1369a23",
   "metadata": {},
   "outputs": [],
   "source": []
  }
 ],
 "metadata": {
  "kernelspec": {
   "display_name": "Python [conda env:base] *",
   "language": "python",
   "name": "conda-base-py"
  },
  "language_info": {
   "codemirror_mode": {
    "name": "ipython",
    "version": 3
   },
   "file_extension": ".py",
   "mimetype": "text/x-python",
   "name": "python",
   "nbconvert_exporter": "python",
   "pygments_lexer": "ipython3",
   "version": "3.13.5"
  }
 },
 "nbformat": 4,
 "nbformat_minor": 5
}
